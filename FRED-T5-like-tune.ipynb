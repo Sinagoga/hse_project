{
 "cells": [
  {
   "cell_type": "code",
   "execution_count": null,
   "metadata": {},
   "outputs": [],
   "source": [
    "%pip install transformers tqdm torch datasets wandb transformers[torch] accelerate"
   ]
  },
  {
   "cell_type": "code",
   "execution_count": null,
   "metadata": {},
   "outputs": [],
   "source": [
    "# %pip freeze --local | grep -v '^\\-e' | cut -d = -f 1  | xargs -n1 pip install -U"
   ]
  },
  {
   "cell_type": "code",
   "execution_count": null,
   "metadata": {},
   "outputs": [],
   "source": [
    "import os\n",
    "\n",
    "os.environ[\"CUDA_LAUNCH_BLOCKING\"] = \"1\""
   ]
  },
  {
   "cell_type": "code",
   "execution_count": null,
   "metadata": {},
   "outputs": [],
   "source": [
    "from transformers import GPT2Tokenizer, T5ForConditionalGeneration\n",
    "from transformers import get_linear_schedule_with_warmup\n",
    "from transformers import Trainer, TrainingArguments\n",
    "\n",
    "from tqdm.auto import tqdm\n",
    "\n",
    "import wandb\n",
    "\n",
    "import pandas as pd\n",
    "import numpy as np\n",
    "\n",
    "import torch\n",
    "import torch.nn as nn\n",
    "from torch.optim import AdamW\n",
    "from torch.utils.data import Dataset, DataLoader\n",
    "\n",
    "from datasets import load_dataset\n",
    "\n",
    "from torch.amp import autocast"
   ]
  },
  {
   "cell_type": "code",
   "execution_count": null,
   "metadata": {},
   "outputs": [],
   "source": [
    "def load_embs(dataset_path, tokenizer, max_size = -1):\n",
    "    embs = []\n",
    "    count = 0\n",
    "    \n",
    "    train_dataset = load_dataset(dataset_path, split=\"train\", streaming=True)\n",
    "    # removed_duplicates_dataset = datasets.Dataset.from_pandas(pd.DataFrame(train_dataset).drop_duplicates())\n",
    "    \n",
    "    # max_size = min(max_size, len(removed_duplicates_dataset)) if max_size != -1 else len(removed_duplicates_dataset)\n",
    "    \n",
    "    for data in tqdm((train_dataset)):\n",
    "        # train_row = f\"<LM>{tokenizer.bos_token}<ins> {instruction} {input} </ins>{output}{tokenizer.eos_token}\"\n",
    "        prompt = \"<LM>\"+data[\"system_prompt\"]+\" \"+data[\"question\"]\n",
    "        response = data[\"response\"]\n",
    "        \n",
    "        input_ids = tokenizer.encode(prompt, add_special_tokens=False, truncation=True, max_length=1024)\n",
    "        output_ids = tokenizer.encode(response, add_special_tokens=False)\n",
    "        \n",
    "        if len(input_ids) < 768 and len(output_ids) < 768:\n",
    "            embs.append({\"input_ids\": input_ids, \"output_ids\": output_ids})\n",
    "            count+=1\n",
    "        if count == max_size:\n",
    "            break\n",
    "    \n",
    "    return embs\n",
    "    "
   ]
  },
  {
   "cell_type": "code",
   "execution_count": null,
   "metadata": {},
   "outputs": [],
   "source": [
    "class OrcaDataset(Dataset):\n",
    "    def __init__(self, tokenizer, embs):\n",
    "        self._data = []\n",
    "        self.tokenizer = tokenizer\n",
    "        self.max_input_len = 0\n",
    "        self.max_output_len = 0\n",
    "        \n",
    "        self.bos_token_id = tokenizer.bos_token_id\n",
    "        self.eos_token_id = tokenizer.eos_token_id\n",
    "        self.pad_token_id = tokenizer.pad_token_id\n",
    "        \n",
    "        for emb in embs:\n",
    "            input_ids = emb[\"input_ids\"]\n",
    "            output_ids = emb[\"output_ids\"] + [self.eos_token_id]\n",
    "            self._data.append((input_ids, output_ids))\n",
    "            self.max_input_len = max(self.max_input_len, len(input_ids))\n",
    "            self.max_output_len = max(self.max_output_len, len(output_ids))\n",
    "         \n",
    "    def __len__(self):\n",
    "        return len(self._data)\n",
    "\n",
    "    def __getitem__(self, item: int):\n",
    "        input_ids, output_ids = self._data[item]\n",
    "\n",
    "        input_npad = self.max_input_len - len(input_ids)\n",
    "        attention_mask = [1]*len(input_ids) + [0]*input_npad\n",
    "        input_ids = input_ids + input_npad * [self.pad_token_id]\n",
    "\n",
    "        output_npad = self.max_output_len - len(output_ids)\n",
    "        labels = output_ids + output_npad * [-100]\n",
    "\n",
    "        return {'input_ids': torch.LongTensor(input_ids),\n",
    "                'attention_mask': attention_mask,\n",
    "                'labels': torch.LongTensor(labels),\n",
    "                }"
   ]
  },
  {
   "cell_type": "code",
   "execution_count": null,
   "metadata": {},
   "outputs": [],
   "source": [
    "checkpoint = 'ai-forever/FRED-T5-1.7B'\n",
    "tokenizer = GPT2Tokenizer.from_pretrained(checkpoint, eos_token='</s>')\n",
    "model = T5ForConditionalGeneration.from_pretrained(checkpoint)\n",
    "# device='cuda:0' if torch.cuda.is_available() else \"cpu\"\n",
    "# model.to(device)"
   ]
  },
  {
   "cell_type": "code",
   "execution_count": null,
   "metadata": {},
   "outputs": [],
   "source": [
    "# tokenizer.add_special_tokens({\"additional_special_tokens\": [\"<ins>\", \"</ins>\"]})\n",
    "# model.resize_token_embeddings(len(tokenizer))"
   ]
  },
  {
   "cell_type": "code",
   "execution_count": null,
   "metadata": {},
   "outputs": [],
   "source": [
    "dataset_path = \"d0rj/OpenOrca-ru\"\n",
    "loaded_data = load_embs(dataset_path, tokenizer, 32)\n",
    "\n",
    "orca_dataset = OrcaDataset(tokenizer, loaded_data)"
   ]
  },
  {
   "cell_type": "code",
   "execution_count": null,
   "metadata": {},
   "outputs": [],
   "source": [
    "orca_dataset"
   ]
  },
  {
   "cell_type": "code",
   "execution_count": null,
   "metadata": {},
   "outputs": [],
   "source": [
    "wandb.login(key=\"1744a8a36a11513989635282773e3dc518b05f1c\", relogin=True)\n",
    "wandb.init(sync_tensorboard=True, name='train', project=\"hse-project\", entity=\"aid_\")"
   ]
  },
  {
   "cell_type": "code",
   "execution_count": null,
   "metadata": {},
   "outputs": [],
   "source": [
    "batch_size = 1\n",
    "num_training_steps = len(orca_dataset)//batch_size\n",
    "    \n",
    "training_args = TrainingArguments(\n",
    "    output_dir=\"./FRED-T5-tune\",\n",
    "    learning_rate=1e-3,\n",
    "    per_device_train_batch_size=batch_size,\n",
    "    num_train_epochs=5,\n",
    "    weight_decay=0.05,\n",
    "    optim='adamw_hf',\n",
    "    lr_scheduler_type=\"linear\",\n",
    "    warmup_steps=1_000,\n",
    "    report_to=\"wandb\",\n",
    "    run_name=\"train\",\n",
    "    gradient_accumulation_steps=10\n",
    "    # use_cpu=True\n",
    ")\n",
    "\n",
    "# model.to(training_args.device)"
   ]
  },
  {
   "cell_type": "code",
   "execution_count": null,
   "metadata": {},
   "outputs": [],
   "source": [
    "trainer = Trainer(\n",
    "    model=model,\n",
    "    train_dataset=orca_dataset,\n",
    "    tokenizer=tokenizer,\n",
    "    args=training_args,\n",
    ")\n",
    "\n",
    "trainer.train()"
   ]
  }
 ],
 "metadata": {
  "kernelspec": {
   "display_name": "base",
   "language": "python",
   "name": "python3"
  },
  "language_info": {
   "codemirror_mode": {
    "name": "ipython",
    "version": 3
   },
   "file_extension": ".py",
   "mimetype": "text/x-python",
   "name": "python",
   "nbconvert_exporter": "python",
   "pygments_lexer": "ipython3",
   "version": "3.9.18"
  }
 },
 "nbformat": 4,
 "nbformat_minor": 2
}
