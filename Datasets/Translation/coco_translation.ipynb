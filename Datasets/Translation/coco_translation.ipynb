{
  "cells": [
    {
      "cell_type": "code",
      "execution_count": 3,
      "metadata": {
        "id": "aBvHG6yABZkw"
      },
      "outputs": [],
      "source": [
        "from mtranslate import translate\n",
        "import jsonlines\n",
        "from tqdm import tqdm\n",
        "from pycocotools.coco import COCO\n",
        "import time"
      ]
    },
    {
      "cell_type": "code",
      "execution_count": null,
      "metadata": {
        "id": "fAA4Dhcsozto"
      },
      "outputs": [],
      "source": [
        "def translation(data_source: dict, result: str) -> dict:\n",
        "    i = 1\n",
        "    translated = {}\n",
        "\n",
        "\n",
        "    for question, answers in tqdm(data_source.items()):\n",
        "        question_ru = translate(question, 'ru')\n",
        "        answer_ru = [translate(answer, 'ru') for answer in answers]\n",
        "        translated[question_ru] = answer_ru[0]\n",
        "        time.sleep(1)\n",
        "        i+=1\n",
        "        if i % 1000 == 0:\n",
        "          with jsonlines.open(f'{result}.jsonl', mode='w') as writer:\n",
        "            writer.write(translated)\n",
        "    return translated"
      ]
    },
    {
      "cell_type": "code",
      "execution_count": null,
      "metadata": {
        "id": "Pu-C8CP4Bi5f"
      },
      "outputs": [],
      "source": [
        "def coco_get_data(file: str):\n",
        "  data = {}\n",
        "\n",
        "  with open(file, 'r') as f:\n",
        "  dataset = json.load(f)\n",
        "  annotations = dataset['annotations']\n",
        "  for anotation in anotations:\n",
        "        question = anotation['question_type']\n",
        "        answers = [answer['answer'] for answer in anotation['answers']]\n",
        "        data[question].append(answers[0])\n",
        "  return data\n"
      ]
    },
    {
      "cell_type": "code",
      "execution_count": null,
      "metadata": {
        "id": "GVIpAVZ4BmkQ"
      },
      "outputs": [],
      "source": [
        "coco_val_translation = coco_get_data(\"drive/MyDrive/ms_coco_2014_train.json\")\n",
        "translation(coco_val_translation, \"drive/MyDrive/coco_val_translatation\")"
      ]
    }
  ],
  "metadata": {
    "colab": {
      "provenance": []
    },
    "kernelspec": {
      "display_name": "Python 3",
      "name": "python3"
    },
    "language_info": {
      "name": "python"
    }
  },
  "nbformat": 4,
  "nbformat_minor": 0
}
