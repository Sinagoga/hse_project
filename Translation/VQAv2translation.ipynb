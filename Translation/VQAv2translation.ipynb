{
  "cells": [
    {
      "cell_type": "code",
      "execution_count": null,
      "metadata": {
        "id": "bEiXCzQkAVRq"
      },
      "outputs": [],
      "source": [
        "from datasets import load_dataset\n",
        "from transformers import AutoModelForSeq2SeqLM, AutoTokenizer\n",
        "import jsonlines\n",
        "from tqdm.auto import tqdm\n",
        "import torch"
      ]
    },
    {
      "cell_type": "markdown",
      "metadata": {},
      "source": [
        "Data Loading"
      ]
    },
    {
      "cell_type": "code",
      "execution_count": null,
      "metadata": {
        "id": "J9fGvjSxQoNy"
      },
      "outputs": [],
      "source": [
        "VQAv2_train = load_dataset(\"HuggingFaceM4/VQAv2\", split=\"train\").remove_columns(['question_type', 'answers', 'answer_type', 'question_id', 'image'])\n",
        "\n",
        "VQAv2_val = load_dataset(\"HuggingFaceM4/VQAv2\", split=\"val\").remove_columns(['question_type', 'answers', 'answer_type', 'question_id', 'image'])"
      ]
    },
    {
      "cell_type": "markdown",
      "metadata": {},
      "source": [
        "Image File Format"
      ]
    },
    {
      "cell_type": "code",
      "execution_count": null,
      "metadata": {
        "id": "AZZWk6wc_pTP"
      },
      "outputs": [],
      "source": [
        "def train_img_format(img_id: int) -> str:\n",
        "  return f\"COCO_train2014_{img_id:012d}\"\n",
        "\n",
        "def val_img_format(img_id : int) -> str:\n",
        "  return f\"COCO_val2014_{img_id:012d}\""
      ]
    },
    {
      "cell_type": "markdown",
      "metadata": {},
      "source": [
        "VQAv2_train Data Preparation"
      ]
    },
    {
      "cell_type": "code",
      "execution_count": null,
      "metadata": {
        "id": "74-lJhRfdMX7"
      },
      "outputs": [],
      "source": [
        "image_id_train = []\n",
        "answer_train = []\n",
        "question_train = []\n",
        "\n",
        "for feature in tqdm(VQAv2_train):\n",
        "    if len(feature[\"multiple_choice_answer\"]) <= 500 and len(feature[\"question\"]) <= 500:\n",
        "\n",
        "        answer_train.append(feature[\"multiple_choice_answer\"])\n",
        "        image = train_img_format(feature[\"image_id\"])\n",
        "        image_id_train.append(image)\n",
        "        question_train.append(feature[\"question\"])"
      ]
    },
    {
      "cell_type": "markdown",
      "metadata": {},
      "source": [
        "VQAv2_val Data Preparation"
      ]
    },
    {
      "cell_type": "code",
      "execution_count": null,
      "metadata": {
        "id": "FLYSWV99P1XZ"
      },
      "outputs": [],
      "source": [
        "image_id_val = []\n",
        "answer_val = []\n",
        "question_val = []\n",
        "\n",
        "for feature in tqdm(VQAv2_val):\n",
        "    if len(feature[\"multiple_choice_answer\"]) <= 500 and len(feature[\"question\"]) <= 500:\n",
        "\n",
        "        answer_val.append(feature[\"multiple_choice_answer\"])\n",
        "        image = val_img_format(feature[\"image_id\"])\n",
        "        image_id_val.append(image)\n",
        "        question_val.append(feature[\"question\"])"
      ]
    },
    {
      "cell_type": "markdown",
      "metadata": {},
      "source": [
        "Translator"
      ]
    },
    {
      "cell_type": "code",
      "execution_count": null,
      "metadata": {
        "id": "ojVgKwvvdPb5"
      },
      "outputs": [],
      "source": [
        "def translation(model: AutoModelForSeq2SeqLM, tokenizer: AutoTokenizer, sentences: list[str], batch_size: int) -> list[str]:\n",
        "    sentences_ru = []\n",
        "    device = \"cuda:0\" if torch.cuda.is_available() else \"cpu\"\n",
        "    with torch.no_grad():\n",
        "        for i in tqdm(range(0, len(sentences), batch_size)):\n",
        "            batch = sentences[i: i + batch_size]\n",
        "\n",
        "            input_ids = tokenizer.batch_encode_plus(batch, padding=\"max_length\", max_length=512, return_tensors=\"pt\", truncation=True)[\"input_ids\"].to(device)\n",
        "            generated_tokens = model.generate(input_ids, max_length=512, forced_bos_token_id=tokenizer.lang_code_to_id[\"rus_Cyrl\"])\n",
        "            output_ids = tokenizer.batch_decode(generated_tokens, skip_special_tokens=True)\n",
        "\n",
        "            sentences_ru = sentences_ru + output_ids\n",
        "\n",
        "    return sentences_ru"
      ]
    },
    {
      "cell_type": "code",
      "execution_count": null,
      "metadata": {
        "id": "RqywKGGydSGz"
      },
      "outputs": [],
      "source": [
        "checkpoint = \"facebook/nllb-200-distilled-600M\"\n",
        "device = \"cuda:0\" if torch.cuda.is_available() else \"cpu\"\n",
        "\n",
        "tokenizer = AutoTokenizer.from_pretrained(checkpoint)\n",
        "model = AutoModelForSeq2SeqLM.from_pretrained(checkpoint).to(device)\n",
        "model.eval()"
      ]
    },
    {
      "cell_type": "markdown",
      "metadata": {},
      "source": [
        "Data Translation"
      ]
    },
    {
      "cell_type": "code",
      "execution_count": null,
      "metadata": {},
      "outputs": [],
      "source": [
        "batch_size = 200"
      ]
    },
    {
      "cell_type": "code",
      "execution_count": null,
      "metadata": {
        "id": "AN0qdaAvdUs0"
      },
      "outputs": [],
      "source": [
        "# VQAv2_train\n",
        "questions_train_ru = translation(model, tokenizer, question_train, batch_size)\n",
        "answers_train_ru = translation(model, tokenizer, answer_train, batch_size)"
      ]
    },
    {
      "cell_type": "code",
      "execution_count": null,
      "metadata": {
        "id": "0nbZVY3DQ-yK"
      },
      "outputs": [],
      "source": [
        "# VQAv2_val\n",
        "questions_val_ru = translation(model, tokenizer, question_val, batch_size)\n",
        "answers_val_ru = translation(model, tokenizer, answer_val, batch_size)"
      ]
    },
    {
      "cell_type": "markdown",
      "metadata": {},
      "source": [
        "Translated Data Preparation"
      ]
    },
    {
      "cell_type": "code",
      "execution_count": null,
      "metadata": {
        "id": "VcbqX6SidYLD"
      },
      "outputs": [],
      "source": [
        "# VQAv2_train\n",
        "questions_train = [i for i in questions_train_ru]\n",
        "answers_train = [i for i in answers_train_ru]\n",
        "max_len_train = len(question_train)"
      ]
    },
    {
      "cell_type": "code",
      "execution_count": null,
      "metadata": {
        "id": "lfpj1L6IRQ-k"
      },
      "outputs": [],
      "source": [
        "# VQAv2_val\n",
        "questions_val = [i for i in questions_val_ru]\n",
        "answers_val = [i for i in answers_val_ru]\n",
        "max_len_val = len(questions_val)"
      ]
    },
    {
      "cell_type": "markdown",
      "metadata": {},
      "source": [
        "Result"
      ]
    },
    {
      "cell_type": "code",
      "execution_count": null,
      "metadata": {
        "id": "anZq8qNxdajv"
      },
      "outputs": [],
      "source": [
        "result_train = [{'image_id' : image_id_train[i], 'question' : questions_train[i], 'answer' : answers_train[i]} for i in range(max_len_train)]"
      ]
    },
    {
      "cell_type": "code",
      "execution_count": null,
      "metadata": {
        "id": "hQlbfMhbReeQ"
      },
      "outputs": [],
      "source": [
        "result_val = [{'image_id' : image_id_val[i], 'question' : questions_val[i], 'answer' : answers_val[i]} for i in range(max_len_val)]"
      ]
    },
    {
      "cell_type": "markdown",
      "metadata": {},
      "source": [
        "Save Translation"
      ]
    },
    {
      "cell_type": "code",
      "execution_count": null,
      "metadata": {
        "id": "jz243QjIdega"
      },
      "outputs": [],
      "source": [
        "with jsonlines.open('VQAv2_train_translation.jsonl', mode='w') as writer:\n",
        "  writer.write(result_train)"
      ]
    },
    {
      "cell_type": "code",
      "execution_count": null,
      "metadata": {
        "id": "ZAnWo-L0RyOl"
      },
      "outputs": [],
      "source": [
        "with jsonlines.open('VQAv2_val_translation.jsonl', mode='w') as writer:\n",
        "  writer.write(result_val)"
      ]
    }
  ],
  "metadata": {
    "colab": {
      "provenance": []
    },
    "kernelspec": {
      "display_name": "Python 3",
      "name": "python3"
    },
    "language_info": {
      "name": "python"
    }
  },
  "nbformat": 4,
  "nbformat_minor": 0
}
