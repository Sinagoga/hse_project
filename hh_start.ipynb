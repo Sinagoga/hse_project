{
 "cells": [
  {
   "cell_type": "code",
   "execution_count": 4,
   "metadata": {},
   "outputs": [],
   "source": [
    "import polars as pl\n",
    "import numpy as np\n",
    "from tqdm import tqdm\n",
    "from scipy.sparse import csr_matrix\n",
    "import implicit\n",
    "\n",
    "RANDOM_STATE = 42\n",
    "N_PREDICTIONS = 100"
   ]
  },
  {
   "cell_type": "code",
   "execution_count": 5,
   "metadata": {},
   "outputs": [],
   "source": [
    "train = pl.read_parquet(\"C:\\labs\\hh_hack\\hh_recsys_train_hh.pq\")\n",
    "test = pl.read_parquet(\"C:\\labs\\hh_hack\\hh_recsys_test_hh.pq\")\n",
    "vac = pl.read_parquet(\"C:\\labs\\hh_hack\\hh_recsys_vacancies.pq\")"
   ]
  },
  {
   "cell_type": "code",
   "execution_count": null,
   "metadata": {},
   "outputs": [],
   "source": [
    "new_df = pl.DataFrame()\n",
    "for i in tqdm(range(1, 70)):\n",
    "    new_df = pl.concat(new_df, train[(i-1)*50_000:i*50_000].explode(columns=[\"vacancy_id\", \"action_type\", \"action_dt\"]).sort(\"action_dt\"))\n",
    "new_df.head()"
   ]
  }
 ],
 "metadata": {
  "kernelspec": {
   "display_name": "Python 3",
   "language": "python",
   "name": "python3"
  },
  "language_info": {
   "codemirror_mode": {
    "name": "ipython",
    "version": 3
   },
   "file_extension": ".py",
   "mimetype": "text/x-python",
   "name": "python",
   "nbconvert_exporter": "python",
   "pygments_lexer": "ipython3",
   "version": "3.11.8"
  }
 },
 "nbformat": 4,
 "nbformat_minor": 2
}
