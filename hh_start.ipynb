{
 "cells": [
  {
   "cell_type": "markdown",
   "metadata": {},
   "source": [
    "# **Import packages and open data**"
   ]
  },
  {
   "cell_type": "code",
   "execution_count": 100,
   "metadata": {},
   "outputs": [],
   "source": [
    "import polars as pl\n",
    "import numpy as np\n",
    "import re\n",
    "from tqdm import tqdm\n",
    "from scipy.sparse import csr_matrix\n",
    "from torch import nn\n",
    "import implicit\n",
    "from transformers import BertModel, BertTokenizer\n",
    "\n",
    "RANDOM_STATE = 42\n",
    "N_PREDICTIONS = 100"
   ]
  },
  {
   "cell_type": "code",
   "execution_count": 101,
   "metadata": {},
   "outputs": [],
   "source": [
    "train_df = pl.read_parquet(\"C:\\labs\\hh_hack\\hh_recsys_train_hh.pq\")\n",
    "test_df = pl.read_parquet(\"C:\\labs\\hh_hack\\hh_recsys_test_hh.pq\")\n",
    "vac_df = pl.read_parquet(\"C:\\labs\\hh_hack\\hh_recsys_vacancies.pq\")"
   ]
  },
  {
   "cell_type": "code",
   "execution_count": 167,
   "metadata": {},
   "outputs": [],
   "source": [
    "train_df = pl.read_parquet(\"C:\\labs\\hh_hack\\hh_recsys_train_hh.pq\")"
   ]
  },
  {
   "cell_type": "code",
   "execution_count": 102,
   "metadata": {},
   "outputs": [
    {
     "data": {
      "text/plain": [
       "(2734129, 13)"
      ]
     },
     "execution_count": 102,
     "metadata": {},
     "output_type": "execute_result"
    }
   ],
   "source": [
    "vac_df.shape"
   ]
  },
  {
   "cell_type": "code",
   "execution_count": 103,
   "metadata": {},
   "outputs": [],
   "source": [
    "vac_df = vac_df[:vac_df.shape[0]//100]"
   ]
  },
  {
   "cell_type": "markdown",
   "metadata": {},
   "source": [
    "# **Work with vacancies**"
   ]
  },
  {
   "cell_type": "code",
   "execution_count": 104,
   "metadata": {},
   "outputs": [
    {
     "data": {
      "text/html": [
       "<div><style>\n",
       ".dataframe > thead > tr,\n",
       ".dataframe > tbody > tr {\n",
       "  text-align: right;\n",
       "  white-space: pre-wrap;\n",
       "}\n",
       "</style>\n",
       "<small>shape: (5, 13)</small><table border=\"1\" class=\"dataframe\"><thead><tr><th>vacancy_id</th><th>name</th><th>company.id</th><th>description</th><th>keySkills.keySkill</th><th>compensation.from</th><th>compensation.to</th><th>compensation.currencyCode</th><th>area.id</th><th>area.regionId</th><th>employment</th><th>workSchedule</th><th>workExperience</th></tr><tr><td>str</td><td>str</td><td>str</td><td>str</td><td>list[str]</td><td>i64</td><td>i64</td><td>str</td><td>str</td><td>str</td><td>str</td><td>str</td><td>str</td></tr></thead><tbody><tr><td>&quot;v_862116&quot;</td><td>&quot;Смотритель муз…</td><td>&quot;c_162972&quot;</td><td>&quot;&lt;strong&gt;Обязан…</td><td>[&quot;Пользователь ПК&quot;, &quot;Работа в команде&quot;, … &quot;PR-консультирование&quot;]</td><td>16500</td><td>null</td><td>&quot;RUR&quot;</td><td>&quot;a_4761&quot;</td><td>&quot;ar_33&quot;</td><td>&quot;full&quot;</td><td>&quot;fullDay&quot;</td><td>&quot;noExperience&quot;</td></tr><tr><td>&quot;v_288642&quot;</td><td>&quot;Ведущий менедж…</td><td>&quot;c_208672&quot;</td><td>&quot;&lt;p&gt;&lt;strong&gt;Воз…</td><td>[&quot;Активные продажи&quot;, &quot;Холодные продажи&quot;, … &quot;Организация мероприятий&quot;]</td><td>50000</td><td>null</td><td>&quot;RUR&quot;</td><td>&quot;a_744&quot;</td><td>&quot;ar_2&quot;</td><td>&quot;full&quot;</td><td>&quot;fullDay&quot;</td><td>&quot;noExperience&quot;</td></tr><tr><td>&quot;v_1840054&quot;</td><td>&quot;Бухгалтер (по …</td><td>&quot;c_198109&quot;</td><td>&quot;&lt;strong&gt;Обязан…</td><td>null</td><td>50000</td><td>65000</td><td>&quot;RUR&quot;</td><td>&quot;a_6223&quot;</td><td>&quot;ar_78&quot;</td><td>&quot;full&quot;</td><td>&quot;fullDay&quot;</td><td>&quot;between3And6&quot;</td></tr><tr><td>&quot;v_2346232&quot;</td><td>&quot;Пекарь (Токсов…</td><td>&quot;c_6137&quot;</td><td>&quot;&lt;p&gt;&lt;strong&gt;Для…</td><td>null</td><td>38500</td><td>42000</td><td>&quot;RUR&quot;</td><td>&quot;a_4795&quot;</td><td>&quot;ar_51&quot;</td><td>&quot;full&quot;</td><td>&quot;fullDay&quot;</td><td>&quot;noExperience&quot;</td></tr><tr><td>&quot;v_312507&quot;</td><td>&quot;Торговый предс…</td><td>&quot;c_206699&quot;</td><td>&quot;&lt;p&gt;Компания ТД…</td><td>[&quot;Продуктивность&quot;, &quot;Клиентоориентированность&quot;, … &quot;Развитие продаж&quot;]</td><td>60000</td><td>null</td><td>&quot;RUR&quot;</td><td>&quot;a_6837&quot;</td><td>&quot;ar_4&quot;</td><td>&quot;full&quot;</td><td>&quot;fullDay&quot;</td><td>&quot;between1And3&quot;</td></tr></tbody></table></div>"
      ],
      "text/plain": [
       "shape: (5, 13)\n",
       "┌───────────┬───────────┬───────────┬───────────┬───┬───────────┬───────────┬───────────┬──────────┐\n",
       "│ vacancy_i ┆ name      ┆ company.i ┆ descripti ┆ … ┆ area.regi ┆ employmen ┆ workSched ┆ workExpe │\n",
       "│ d         ┆ ---       ┆ d         ┆ on        ┆   ┆ onId      ┆ t         ┆ ule       ┆ rience   │\n",
       "│ ---       ┆ str       ┆ ---       ┆ ---       ┆   ┆ ---       ┆ ---       ┆ ---       ┆ ---      │\n",
       "│ str       ┆           ┆ str       ┆ str       ┆   ┆ str       ┆ str       ┆ str       ┆ str      │\n",
       "╞═══════════╪═══════════╪═══════════╪═══════════╪═══╪═══════════╪═══════════╪═══════════╪══════════╡\n",
       "│ v_862116  ┆ Смотрител ┆ c_162972  ┆ <strong>О ┆ … ┆ ar_33     ┆ full      ┆ fullDay   ┆ noExperi │\n",
       "│           ┆ ь         ┆           ┆ бязанност ┆   ┆           ┆           ┆           ┆ ence     │\n",
       "│           ┆ музейный  ┆           ┆ и:</stron ┆   ┆           ┆           ┆           ┆          │\n",
       "│           ┆           ┆           ┆ g> <u…    ┆   ┆           ┆           ┆           ┆          │\n",
       "│ v_288642  ┆ Ведущий   ┆ c_208672  ┆ <p><stron ┆ … ┆ ar_2      ┆ full      ┆ fullDay   ┆ noExperi │\n",
       "│           ┆ менеджер  ┆           ┆ g>Возможн ┆   ┆           ┆           ┆           ┆ ence     │\n",
       "│           ┆ по работе ┆           ┆ о, наша   ┆   ┆           ┆           ┆           ┆          │\n",
       "│           ┆ с физ…    ┆           ┆ ваканс…   ┆   ┆           ┆           ┆           ┆          │\n",
       "│ v_1840054 ┆ Бухгалтер ┆ c_198109  ┆ <strong>О ┆ … ┆ ar_78     ┆ full      ┆ fullDay   ┆ between3 │\n",
       "│           ┆ (по       ┆           ┆ бязанност ┆   ┆           ┆           ┆           ┆ And6     │\n",
       "│           ┆ расчету   ┆           ┆ и:</stron ┆   ┆           ┆           ┆           ┆          │\n",
       "│           ┆ зарплаты) ┆           ┆ g> <u…    ┆   ┆           ┆           ┆           ┆          │\n",
       "│ v_2346232 ┆ Пекарь    ┆ c_6137    ┆ <p><stron ┆ … ┆ ar_51     ┆ full      ┆ fullDay   ┆ noExperi │\n",
       "│           ┆ (Токсово, ┆           ┆ g>Для     ┆   ┆           ┆           ┆           ┆ ence     │\n",
       "│           ┆ Привокзал ┆           ┆ каждого,  ┆   ┆           ┆           ┆           ┆          │\n",
       "│           ┆ ьная, …   ┆           ┆ кто хоче… ┆   ┆           ┆           ┆           ┆          │\n",
       "│ v_312507  ┆ Торговый  ┆ c_206699  ┆ <p>Компан ┆ … ┆ ar_4      ┆ full      ┆ fullDay   ┆ between1 │\n",
       "│           ┆ представи ┆           ┆ ия ТД &qu ┆   ┆           ┆           ┆           ┆ And3     │\n",
       "│           ┆ тель (г.  ┆           ┆ ot;Оливье ┆   ┆           ┆           ┆           ┆          │\n",
       "│           ┆ Абака…    ┆           ┆ ра&qu…    ┆   ┆           ┆           ┆           ┆          │\n",
       "└───────────┴───────────┴───────────┴───────────┴───┴───────────┴───────────┴───────────┴──────────┘"
      ]
     },
     "execution_count": 104,
     "metadata": {},
     "output_type": "execute_result"
    }
   ],
   "source": [
    "vac_df.head()"
   ]
  },
  {
   "cell_type": "code",
   "execution_count": 105,
   "metadata": {},
   "outputs": [
    {
     "data": {
      "text/html": [
       "<div><style>\n",
       ".dataframe > thead > tr,\n",
       ".dataframe > tbody > tr {\n",
       "  text-align: right;\n",
       "  white-space: pre-wrap;\n",
       "}\n",
       "</style>\n",
       "<small>shape: (9, 14)</small><table border=\"1\" class=\"dataframe\"><thead><tr><th>statistic</th><th>vacancy_id</th><th>name</th><th>company.id</th><th>description</th><th>keySkills.keySkill</th><th>compensation.from</th><th>compensation.to</th><th>compensation.currencyCode</th><th>area.id</th><th>area.regionId</th><th>employment</th><th>workSchedule</th><th>workExperience</th></tr><tr><td>str</td><td>str</td><td>str</td><td>str</td><td>str</td><td>f64</td><td>f64</td><td>f64</td><td>str</td><td>str</td><td>str</td><td>str</td><td>str</td><td>str</td></tr></thead><tbody><tr><td>&quot;count&quot;</td><td>&quot;27341&quot;</td><td>&quot;27341&quot;</td><td>&quot;27341&quot;</td><td>&quot;27341&quot;</td><td>14957.0</td><td>20611.0</td><td>12313.0</td><td>&quot;22143&quot;</td><td>&quot;27341&quot;</td><td>&quot;27128&quot;</td><td>&quot;27341&quot;</td><td>&quot;27341&quot;</td><td>&quot;27341&quot;</td></tr><tr><td>&quot;null_count&quot;</td><td>&quot;0&quot;</td><td>&quot;0&quot;</td><td>&quot;0&quot;</td><td>&quot;0&quot;</td><td>12384.0</td><td>6730.0</td><td>15028.0</td><td>&quot;5198&quot;</td><td>&quot;0&quot;</td><td>&quot;213&quot;</td><td>&quot;0&quot;</td><td>&quot;0&quot;</td><td>&quot;0&quot;</td></tr><tr><td>&quot;mean&quot;</td><td>null</td><td>null</td><td>null</td><td>null</td><td>null</td><td>68558.723594</td><td>96158.224559</td><td>null</td><td>null</td><td>null</td><td>null</td><td>null</td><td>null</td></tr><tr><td>&quot;std&quot;</td><td>null</td><td>null</td><td>null</td><td>null</td><td>null</td><td>112842.072794</td><td>218133.210496</td><td>null</td><td>null</td><td>null</td><td>null</td><td>null</td><td>null</td></tr><tr><td>&quot;min&quot;</td><td>&quot;v_1000206&quot;</td><td>&quot;&quot;Фронтенд разр…</td><td>&quot;c_100002&quot;</td><td>&quot;            &lt;p…</td><td>null</td><td>20.0</td><td>30.0</td><td>&quot;BYR&quot;</td><td>&quot;a_1&quot;</td><td>&quot;ar_0&quot;</td><td>&quot;full&quot;</td><td>&quot;flexible&quot;</td><td>&quot;between1And3&quot;</td></tr><tr><td>&quot;25%&quot;</td><td>null</td><td>null</td><td>null</td><td>null</td><td>null</td><td>40000.0</td><td>50000.0</td><td>null</td><td>null</td><td>null</td><td>null</td><td>null</td><td>null</td></tr><tr><td>&quot;50%&quot;</td><td>null</td><td>null</td><td>null</td><td>null</td><td>null</td><td>55000.0</td><td>70000.0</td><td>null</td><td>null</td><td>null</td><td>null</td><td>null</td><td>null</td></tr><tr><td>&quot;75%&quot;</td><td>null</td><td>null</td><td>null</td><td>null</td><td>null</td><td>80000.0</td><td>120000.0</td><td>null</td><td>null</td><td>null</td><td>null</td><td>null</td><td>null</td></tr><tr><td>&quot;max&quot;</td><td>&quot;v_999892&quot;</td><td>&quot;​​​​​​​Purchas…</td><td>&quot;c_99995&quot;</td><td>&quot;‼Компания ПРОМ…</td><td>null</td><td>8e6</td><td>2e7</td><td>&quot;UZS&quot;</td><td>&quot;a_996&quot;</td><td>&quot;ar_99&quot;</td><td>&quot;volunteer&quot;</td><td>&quot;shift&quot;</td><td>&quot;noExperience&quot;</td></tr></tbody></table></div>"
      ],
      "text/plain": [
       "shape: (9, 14)\n",
       "┌───────────┬───────────┬───────────┬───────────┬───┬───────────┬───────────┬───────────┬──────────┐\n",
       "│ statistic ┆ vacancy_i ┆ name      ┆ company.i ┆ … ┆ area.regi ┆ employmen ┆ workSched ┆ workExpe │\n",
       "│ ---       ┆ d         ┆ ---       ┆ d         ┆   ┆ onId      ┆ t         ┆ ule       ┆ rience   │\n",
       "│ str       ┆ ---       ┆ str       ┆ ---       ┆   ┆ ---       ┆ ---       ┆ ---       ┆ ---      │\n",
       "│           ┆ str       ┆           ┆ str       ┆   ┆ str       ┆ str       ┆ str       ┆ str      │\n",
       "╞═══════════╪═══════════╪═══════════╪═══════════╪═══╪═══════════╪═══════════╪═══════════╪══════════╡\n",
       "│ count     ┆ 27341     ┆ 27341     ┆ 27341     ┆ … ┆ 27128     ┆ 27341     ┆ 27341     ┆ 27341    │\n",
       "│ null_coun ┆ 0         ┆ 0         ┆ 0         ┆ … ┆ 213       ┆ 0         ┆ 0         ┆ 0        │\n",
       "│ t         ┆           ┆           ┆           ┆   ┆           ┆           ┆           ┆          │\n",
       "│ mean      ┆ null      ┆ null      ┆ null      ┆ … ┆ null      ┆ null      ┆ null      ┆ null     │\n",
       "│ std       ┆ null      ┆ null      ┆ null      ┆ … ┆ null      ┆ null      ┆ null      ┆ null     │\n",
       "│ min       ┆ v_1000206 ┆ \"Фронтенд ┆ c_100002  ┆ … ┆ ar_0      ┆ full      ┆ flexible  ┆ between1 │\n",
       "│           ┆           ┆ разработч ┆           ┆   ┆           ┆           ┆           ┆ And3     │\n",
       "│           ┆           ┆ ик/програ ┆           ┆   ┆           ┆           ┆           ┆          │\n",
       "│           ┆           ┆ ммис…     ┆           ┆   ┆           ┆           ┆           ┆          │\n",
       "│ 25%       ┆ null      ┆ null      ┆ null      ┆ … ┆ null      ┆ null      ┆ null      ┆ null     │\n",
       "│ 50%       ┆ null      ┆ null      ┆ null      ┆ … ┆ null      ┆ null      ┆ null      ┆ null     │\n",
       "│ 75%       ┆ null      ┆ null      ┆ null      ┆ … ┆ null      ┆ null      ┆ null      ┆ null     │\n",
       "│ max       ┆ v_999892  ┆ ​​​​​​​Purchasin ┆ c_99995   ┆ … ┆ ar_99     ┆ volunteer ┆ shift     ┆ noExperi │\n",
       "│           ┆           ┆ g manager ┆           ┆   ┆           ┆           ┆           ┆ ence     │\n",
       "│           ┆           ┆ (Istan…   ┆           ┆   ┆           ┆           ┆           ┆          │\n",
       "└───────────┴───────────┴───────────┴───────────┴───┴───────────┴───────────┴───────────┴──────────┘"
      ]
     },
     "execution_count": 105,
     "metadata": {},
     "output_type": "execute_result"
    }
   ],
   "source": [
    "vac_df.describe()"
   ]
  },
  {
   "cell_type": "code",
   "execution_count": 106,
   "metadata": {},
   "outputs": [
    {
     "data": {
      "text/plain": [
       "(27341, 1, 2341)"
      ]
     },
     "execution_count": 106,
     "metadata": {},
     "output_type": "execute_result"
    }
   ],
   "source": [
    "all_steps = vac_df.shape[0]\n",
    "max_steps = vac_df.shape[0]//25_000\n",
    "last_step = vac_df.shape[0]%25_000\n",
    "all_steps, max_steps, last_step"
   ]
  },
  {
   "cell_type": "code",
   "execution_count": 184,
   "metadata": {},
   "outputs": [
    {
     "name": "stdout",
     "output_type": "stream",
     "text": [
      "(27341, 2)\n"
     ]
    },
    {
     "data": {
      "text/html": [
       "<div><style>\n",
       ".dataframe > thead > tr,\n",
       ".dataframe > tbody > tr {\n",
       "  text-align: right;\n",
       "  white-space: pre-wrap;\n",
       "}\n",
       "</style>\n",
       "<small>shape: (5, 2)</small><table border=\"1\" class=\"dataframe\"><thead><tr><th>vacancy_id</th><th>rate</th></tr><tr><td>str</td><td>f64</td></tr></thead><tbody><tr><td>&quot;v_862116&quot;</td><td>0.875406</td></tr><tr><td>&quot;v_288642&quot;</td><td>0.876231</td></tr><tr><td>&quot;v_1840054&quot;</td><td>0.709749</td></tr><tr><td>&quot;v_2346232&quot;</td><td>0.875991</td></tr><tr><td>&quot;v_312507&quot;</td><td>1.126477</td></tr></tbody></table></div>"
      ],
      "text/plain": [
       "shape: (5, 2)\n",
       "┌────────────┬──────────┐\n",
       "│ vacancy_id ┆ rate     │\n",
       "│ ---        ┆ ---      │\n",
       "│ str        ┆ f64      │\n",
       "╞════════════╪══════════╡\n",
       "│ v_862116   ┆ 0.875406 │\n",
       "│ v_288642   ┆ 0.876231 │\n",
       "│ v_1840054  ┆ 0.709749 │\n",
       "│ v_2346232  ┆ 0.875991 │\n",
       "│ v_312507   ┆ 1.126477 │\n",
       "└────────────┴──────────┘"
      ]
     },
     "execution_count": 184,
     "metadata": {},
     "output_type": "execute_result"
    }
   ],
   "source": [
    "area_id = sorted(vac_df[\"area.id\"].unique().to_list())\n",
    "empl = sorted(vac_df[\"employment\"].unique().to_list())\n",
    "work_sch = sorted(vac_df[\"workSchedule\"].unique().to_list())\n",
    "work_exp = sorted(vac_df[\"workExperience\"].unique().to_list())\n",
    "area2idx = {area_id[i] : i for i in range(len(area_id))}\n",
    "empl2idx = {empl[i] : i for i in range(len(empl))}\n",
    "sch2idx = {work_sch[i] : i for i in range(len(work_sch))}\n",
    "exp2idx = {work_exp[i] : i for i in range(len(work_exp))}\n",
    "last_v = 0\n",
    "features = pl.DataFrame()\n",
    "# for v in tqdm(range(1, max_steps)):\n",
    "#     lb = (v-1)*25_000\n",
    "#     rb = v*25_000\n",
    "#     cur = vac_df[lb:rb].drop(\"name\", \"company.id\", \"compensation.currencyCode\", \"area.regionId\", \"description\", \"keySkills.keySkill\")\n",
    "#     cur = cur.with_columns(cur[\"compensation.from\"].fill_null(0).alias(\"compensation.from\"))\n",
    "#     cur = cur.with_columns(cur[\"compensation.to\"].fill_null(0).alias(\"compensation.to\"))\n",
    "#     cur = cur.with_columns(pl.Series(\"compensation.to\", [cur[\"compensation.to\"][i] if cur[\"compensation.to\"][i]!=0 else cur[\"compensation.from\"][i] for i in range(25_000)]))\n",
    "#     cur = cur.with_columns(cur[\"area.id\"].replace(area2idx).cast(int).alias(\"area.id\"))\n",
    "#     cur = cur.with_columns(cur[\"employment\"].replace(empl2idx).cast(int).alias(\"employment\"))\n",
    "#     cur = cur.with_columns(cur[\"workSchedule\"].replace(sch2idx).cast(int).alias(\"workSchedule\"))\n",
    "#     cur = cur.with_columns(cur[\"workExperience\"].replace(exp2idx).cast(int).alias(\"workExperience\"))\n",
    "#     features = pl.concat([features, cur])\n",
    "#     last_v = v\n",
    "# lb = last_v*25_000\n",
    "# rb = lb + 23412\n",
    "cur = vac_df.drop(\"name\", \"company.id\", \"compensation.currencyCode\", \"area.regionId\", \"description\", \"keySkills.keySkill\", \"area.id\")\n",
    "cur = cur.with_columns(cur[\"compensation.from\"].fill_null(0).alias(\"compensation.from\"))\n",
    "cur = cur.with_columns(cur[\"compensation.to\"].fill_null(0).alias(\"compensation.to\"))\n",
    "cur = cur.with_columns(pl.Series(\"compensation.to\", [cur[\"compensation.to\"][i] if cur[\"compensation.to\"][i]!=0 else cur[\"compensation.from\"][i] for i in range(all_steps)]))\n",
    "# cur = cur.with_columns(cur[\"area.id\"].replace(area2idx).cast(int).alias(\"area.id\"))\n",
    "cur = cur.with_columns(cur[\"employment\"].replace(empl2idx).cast(int).map_elements(lambda x: 2 if x == 0 else x/4).alias(\"employment\"))\n",
    "cur = cur.with_columns(cur[\"workSchedule\"].replace(sch2idx).cast(int).map_elements(lambda x: 2 if x == 0 else x/4).alias(\"workSchedule\"))\n",
    "cur = cur.with_columns(cur[\"workExperience\"].replace(exp2idx).cast(int).map_elements(lambda x: 2 if x == 0 else x/3).alias(\"workExperience\"))\n",
    "cur = cur.with_columns(((pl.col(\"compensation.from\") + pl.col(\"compensation.to\"))/2/60734.836747/167.2).alias(\"compensation.mean\"))\n",
    "cur = cur.with_columns(((pl.col(\"employment\") + pl.col(\"workSchedule\") + pl.col(\"workExperience\") + pl.col(\"compensation.mean\"))/4).alias(\"rate\"))\n",
    "cur = cur.drop(\"compensation.from\", \"compensation.to\", \"employment\", \"workSchedule\", \"workExperience\", \"compensation.mean\")\n",
    "features = pl.concat([features, cur])\n",
    "print(features.shape)\n",
    "features.head()\n"
   ]
  },
  {
   "cell_type": "markdown",
   "metadata": {},
   "source": [
    "# **Preparing data**"
   ]
  },
  {
   "cell_type": "code",
   "execution_count": 165,
   "metadata": {},
   "outputs": [],
   "source": [
    "min_seq_len = 8\n",
    "min_item_cnt = 8"
   ]
  },
  {
   "cell_type": "code",
   "execution_count": 170,
   "metadata": {},
   "outputs": [
    {
     "data": {
      "text/plain": [
       "13064"
      ]
     },
     "execution_count": 170,
     "metadata": {},
     "output_type": "execute_result"
    }
   ],
   "source": [
    "train_df.shape[0]%50_000"
   ]
  },
  {
   "cell_type": "code",
   "execution_count": 172,
   "metadata": {},
   "outputs": [
    {
     "data": {
      "text/html": [
       "<div><style>\n",
       ".dataframe > thead > tr,\n",
       ".dataframe > tbody > tr {\n",
       "  text-align: right;\n",
       "  white-space: pre-wrap;\n",
       "}\n",
       "</style>\n",
       "<small>shape: (5, 5)</small><table border=\"1\" class=\"dataframe\"><thead><tr><th>user_id</th><th>session_id</th><th>vacancy_id</th><th>action_type</th><th>action_dt</th></tr><tr><td>str</td><td>str</td><td>str</td><td>i64</td><td>datetime[ns]</td></tr></thead><tbody><tr><td>&quot;u_229843&quot;</td><td>&quot;s_6902690&quot;</td><td>&quot;v_2519518&quot;</td><td>2</td><td>2023-11-01 00:00:00.019</td></tr><tr><td>&quot;u_399965&quot;</td><td>&quot;s_20560802&quot;</td><td>&quot;v_665882&quot;</td><td>2</td><td>2023-11-01 00:00:00.074</td></tr><tr><td>&quot;u_760080&quot;</td><td>&quot;s_6503120&quot;</td><td>&quot;v_896765&quot;</td><td>2</td><td>2023-11-01 00:00:00.557</td></tr><tr><td>&quot;u_125008&quot;</td><td>&quot;s_26036381&quot;</td><td>&quot;v_1575915&quot;</td><td>3</td><td>2023-11-01 00:00:00.739</td></tr><tr><td>&quot;u_1150559&quot;</td><td>&quot;s_1912334&quot;</td><td>&quot;v_2093333&quot;</td><td>2</td><td>2023-11-01 00:00:00.747</td></tr></tbody></table></div>"
      ],
      "text/plain": [
       "shape: (5, 5)\n",
       "┌───────────┬────────────┬────────────┬─────────────┬─────────────────────────┐\n",
       "│ user_id   ┆ session_id ┆ vacancy_id ┆ action_type ┆ action_dt               │\n",
       "│ ---       ┆ ---        ┆ ---        ┆ ---         ┆ ---                     │\n",
       "│ str       ┆ str        ┆ str        ┆ i64         ┆ datetime[ns]            │\n",
       "╞═══════════╪════════════╪════════════╪═════════════╪═════════════════════════╡\n",
       "│ u_229843  ┆ s_6902690  ┆ v_2519518  ┆ 2           ┆ 2023-11-01 00:00:00.019 │\n",
       "│ u_399965  ┆ s_20560802 ┆ v_665882   ┆ 2           ┆ 2023-11-01 00:00:00.074 │\n",
       "│ u_760080  ┆ s_6503120  ┆ v_896765   ┆ 2           ┆ 2023-11-01 00:00:00.557 │\n",
       "│ u_125008  ┆ s_26036381 ┆ v_1575915  ┆ 3           ┆ 2023-11-01 00:00:00.739 │\n",
       "│ u_1150559 ┆ s_1912334  ┆ v_2093333  ┆ 2           ┆ 2023-11-01 00:00:00.747 │\n",
       "└───────────┴────────────┴────────────┴─────────────┴─────────────────────────┘"
      ]
     },
     "execution_count": 172,
     "metadata": {},
     "output_type": "execute_result"
    }
   ],
   "source": [
    "train = pl.DataFrame()\n",
    "# for i in tqdm(range(1, 69)):\n",
    "#     train = pl.concat([train, train_df[(i-1)*50_000:i*50_000].explode(columns=[\"vacancy_id\", \"action_type\", \"action_dt\"]).sort(\"action_dt\")])\n",
    "# train = pl.concat([train, train_df[i*50_000:i*50_000+13064].explode(columns=[\"vacancy_id\", \"action_type\", \"action_dt\"]).sort(\"action_dt\")])\n",
    "train = pl.concat([train, train_df.explode(columns=[\"vacancy_id\", \"action_type\", \"action_dt\"]).sort(\"action_dt\")])\n",
    "train.head()"
   ]
  },
  {
   "cell_type": "code",
   "execution_count": 173,
   "metadata": {},
   "outputs": [
    {
     "data": {
      "text/plain": [
       "(21516070, 5)"
      ]
     },
     "execution_count": 173,
     "metadata": {},
     "output_type": "execute_result"
    }
   ],
   "source": [
    "train.shape"
   ]
  },
  {
   "cell_type": "code",
   "execution_count": 185,
   "metadata": {},
   "outputs": [],
   "source": [
    "train = train.filter(pl.col(\"vacancy_id\").is_in(features[\"vacancy_id\"]))"
   ]
  },
  {
   "cell_type": "code",
   "execution_count": 186,
   "metadata": {},
   "outputs": [
    {
     "data": {
      "text/html": [
       "<div><style>\n",
       ".dataframe > thead > tr,\n",
       ".dataframe > tbody > tr {\n",
       "  text-align: right;\n",
       "  white-space: pre-wrap;\n",
       "}\n",
       "</style>\n",
       "<small>shape: (5, 5)</small><table border=\"1\" class=\"dataframe\"><thead><tr><th>user_id</th><th>session_id</th><th>vacancy_id</th><th>action_type</th><th>action_dt</th></tr><tr><td>str</td><td>str</td><td>str</td><td>i64</td><td>datetime[ns]</td></tr></thead><tbody><tr><td>&quot;u_800105&quot;</td><td>&quot;s_14201662&quot;</td><td>&quot;v_703293&quot;</td><td>2</td><td>2023-11-01 00:00:11.156</td></tr><tr><td>&quot;u_847702&quot;</td><td>&quot;s_34563950&quot;</td><td>&quot;v_1740412&quot;</td><td>2</td><td>2023-11-01 00:00:22.942</td></tr><tr><td>&quot;u_232671&quot;</td><td>&quot;s_14038&quot;</td><td>&quot;v_2627133&quot;</td><td>2</td><td>2023-11-01 00:00:43.167</td></tr><tr><td>&quot;u_351123&quot;</td><td>&quot;s_4817650&quot;</td><td>&quot;v_1198228&quot;</td><td>2</td><td>2023-11-01 00:00:50.295</td></tr><tr><td>&quot;u_794918&quot;</td><td>&quot;s_23209024&quot;</td><td>&quot;v_291450&quot;</td><td>2</td><td>2023-11-01 00:00:50.664</td></tr></tbody></table></div>"
      ],
      "text/plain": [
       "shape: (5, 5)\n",
       "┌──────────┬────────────┬────────────┬─────────────┬─────────────────────────┐\n",
       "│ user_id  ┆ session_id ┆ vacancy_id ┆ action_type ┆ action_dt               │\n",
       "│ ---      ┆ ---        ┆ ---        ┆ ---         ┆ ---                     │\n",
       "│ str      ┆ str        ┆ str        ┆ i64         ┆ datetime[ns]            │\n",
       "╞══════════╪════════════╪════════════╪═════════════╪═════════════════════════╡\n",
       "│ u_800105 ┆ s_14201662 ┆ v_703293   ┆ 2           ┆ 2023-11-01 00:00:11.156 │\n",
       "│ u_847702 ┆ s_34563950 ┆ v_1740412  ┆ 2           ┆ 2023-11-01 00:00:22.942 │\n",
       "│ u_232671 ┆ s_14038    ┆ v_2627133  ┆ 2           ┆ 2023-11-01 00:00:43.167 │\n",
       "│ u_351123 ┆ s_4817650  ┆ v_1198228  ┆ 2           ┆ 2023-11-01 00:00:50.295 │\n",
       "│ u_794918 ┆ s_23209024 ┆ v_291450   ┆ 2           ┆ 2023-11-01 00:00:50.664 │\n",
       "└──────────┴────────────┴────────────┴─────────────┴─────────────────────────┘"
      ]
     },
     "execution_count": 186,
     "metadata": {},
     "output_type": "execute_result"
    }
   ],
   "source": [
    "train.head()"
   ]
  },
  {
   "cell_type": "code",
   "execution_count": 187,
   "metadata": {},
   "outputs": [
    {
     "data": {
      "text/plain": [
       "(197841, 5)"
      ]
     },
     "execution_count": 187,
     "metadata": {},
     "output_type": "execute_result"
    }
   ],
   "source": [
    "train.shape"
   ]
  },
  {
   "cell_type": "code",
   "execution_count": 188,
   "metadata": {},
   "outputs": [
    {
     "data": {
      "text/html": [
       "<div><style>\n",
       ".dataframe > thead > tr,\n",
       ".dataframe > tbody > tr {\n",
       "  text-align: right;\n",
       "  white-space: pre-wrap;\n",
       "}\n",
       "</style>\n",
       "<small>shape: (5, 5)</small><table border=\"1\" class=\"dataframe\"><thead><tr><th>user_id</th><th>session_id</th><th>vacancy_id</th><th>action_type</th><th>action_dt</th></tr><tr><td>str</td><td>str</td><td>str</td><td>i64</td><td>datetime[ns]</td></tr></thead><tbody><tr><td>&quot;u_934685&quot;</td><td>&quot;s_811276&quot;</td><td>&quot;v_2006692&quot;</td><td>2</td><td>2023-11-01 00:06:22.427</td></tr><tr><td>&quot;u_934685&quot;</td><td>&quot;s_811276&quot;</td><td>&quot;v_2006692&quot;</td><td>1</td><td>2023-11-01 00:06:33.150</td></tr><tr><td>&quot;u_1142370&quot;</td><td>&quot;s_291772&quot;</td><td>&quot;v_1243207&quot;</td><td>2</td><td>2023-11-01 00:06:46.709</td></tr><tr><td>&quot;u_1153819&quot;</td><td>&quot;s_10827508&quot;</td><td>&quot;v_2722626&quot;</td><td>2</td><td>2023-11-01 00:12:24.688</td></tr><tr><td>&quot;u_1115024&quot;</td><td>&quot;s_6067860&quot;</td><td>&quot;v_896237&quot;</td><td>2</td><td>2023-11-01 00:12:39.766</td></tr></tbody></table></div>"
      ],
      "text/plain": [
       "shape: (5, 5)\n",
       "┌───────────┬────────────┬────────────┬─────────────┬─────────────────────────┐\n",
       "│ user_id   ┆ session_id ┆ vacancy_id ┆ action_type ┆ action_dt               │\n",
       "│ ---       ┆ ---        ┆ ---        ┆ ---         ┆ ---                     │\n",
       "│ str       ┆ str        ┆ str        ┆ i64         ┆ datetime[ns]            │\n",
       "╞═══════════╪════════════╪════════════╪═════════════╪═════════════════════════╡\n",
       "│ u_934685  ┆ s_811276   ┆ v_2006692  ┆ 2           ┆ 2023-11-01 00:06:22.427 │\n",
       "│ u_934685  ┆ s_811276   ┆ v_2006692  ┆ 1           ┆ 2023-11-01 00:06:33.150 │\n",
       "│ u_1142370 ┆ s_291772   ┆ v_1243207  ┆ 2           ┆ 2023-11-01 00:06:46.709 │\n",
       "│ u_1153819 ┆ s_10827508 ┆ v_2722626  ┆ 2           ┆ 2023-11-01 00:12:24.688 │\n",
       "│ u_1115024 ┆ s_6067860  ┆ v_896237   ┆ 2           ┆ 2023-11-01 00:12:39.766 │\n",
       "└───────────┴────────────┴────────────┴─────────────┴─────────────────────────┘"
      ]
     },
     "execution_count": 188,
     "metadata": {},
     "output_type": "execute_result"
    }
   ],
   "source": [
    "train = train.filter(pl.col(\"vacancy_id\").is_in(train[\"vacancy_id\"].value_counts().filter(pl.col(\"count\") >= min_item_cnt)[\"vacancy_id\"]))\n",
    "train = train.filter(pl.col(\"user_id\").is_in(train[\"user_id\"].value_counts().filter(pl.col(\"count\") >= min_item_cnt)[\"user_id\"]))\n",
    "train.head()"
   ]
  },
  {
   "cell_type": "code",
   "execution_count": 190,
   "metadata": {},
   "outputs": [],
   "source": [
    "features = features.filter(pl.col(\"vacancy_id\").is_in(train[\"vacancy_id\"].unique()))"
   ]
  },
  {
   "cell_type": "code",
   "execution_count": 191,
   "metadata": {},
   "outputs": [
    {
     "data": {
      "text/plain": [
       "((20696, 5), (3123, 2))"
      ]
     },
     "execution_count": 191,
     "metadata": {},
     "output_type": "execute_result"
    }
   ],
   "source": [
    "train.shape, features.shape"
   ]
  },
  {
   "cell_type": "code",
   "execution_count": 192,
   "metadata": {},
   "outputs": [],
   "source": [
    "unique_users = sorted(train[\"user_id\"].unique().to_list())\n",
    "unique_vacancies = sorted(train[\"vacancy_id\"].unique().to_list())\n",
    "\n",
    "user2idx = {user_id: idx for idx, user_id in enumerate(unique_users)}\n",
    "vac2idx = {vac_id: idx for idx, vac_id in enumerate(unique_vacancies)}"
   ]
  },
  {
   "cell_type": "markdown",
   "metadata": {},
   "source": [
    "# **Making matrix**"
   ]
  },
  {
   "cell_type": "code",
   "execution_count": 193,
   "metadata": {},
   "outputs": [],
   "source": [
    "idx2vac = {idx: vac_id for vac_id, idx in vac2idx.items()}\n",
    "action_weights = {\n",
    "    1: 4.0,\n",
    "    2: 1.0,\n",
    "    3: 2.0\n",
    "}"
   ]
  },
  {
   "cell_type": "code",
   "execution_count": 246,
   "metadata": {},
   "outputs": [
    {
     "data": {
      "text/html": [
       "<div><style>\n",
       ".dataframe > thead > tr,\n",
       ".dataframe > tbody > tr {\n",
       "  text-align: right;\n",
       "  white-space: pre-wrap;\n",
       "}\n",
       "</style>\n",
       "<small>shape: (5, 2)</small><table border=\"1\" class=\"dataframe\"><thead><tr><th>vacancy_id</th><th>rate</th></tr><tr><td>str</td><td>f64</td></tr></thead><tbody><tr><td>&quot;2252&quot;</td><td>0.713011</td></tr><tr><td>&quot;2430&quot;</td><td>1.125985</td></tr><tr><td>&quot;2972&quot;</td><td>1.189716</td></tr><tr><td>&quot;942&quot;</td><td>0.876662</td></tr><tr><td>&quot;2820&quot;</td><td>0.977777</td></tr></tbody></table></div>"
      ],
      "text/plain": [
       "shape: (5, 2)\n",
       "┌────────────┬──────────┐\n",
       "│ vacancy_id ┆ rate     │\n",
       "│ ---        ┆ ---      │\n",
       "│ str        ┆ f64      │\n",
       "╞════════════╪══════════╡\n",
       "│ 2252       ┆ 0.713011 │\n",
       "│ 2430       ┆ 1.125985 │\n",
       "│ 2972       ┆ 1.189716 │\n",
       "│ 942        ┆ 0.876662 │\n",
       "│ 2820       ┆ 0.977777 │\n",
       "└────────────┴──────────┘"
      ]
     },
     "execution_count": 246,
     "metadata": {},
     "output_type": "execute_result"
    }
   ],
   "source": [
    "features = features.with_columns(features[\"vacancy_id\"].replace(vac2idx).alias(\"vacancy_id\"))\n",
    "features = features.with_columns(features[\"rate\"].fill_null(features[\"rate\"].mean()).alias(\"rate\"))\n",
    "features.head()"
   ]
  },
  {
   "cell_type": "code",
   "execution_count": 243,
   "metadata": {},
   "outputs": [
    {
     "data": {
      "text/html": [
       "<div><style>\n",
       ".dataframe > thead > tr,\n",
       ".dataframe > tbody > tr {\n",
       "  text-align: right;\n",
       "  white-space: pre-wrap;\n",
       "}\n",
       "</style>\n",
       "<small>shape: (5, 3)</small><table border=\"1\" class=\"dataframe\"><thead><tr><th>user_id</th><th>vacancy_id</th><th>action_type</th></tr><tr><td>str</td><td>str</td><td>f64</td></tr></thead><tbody><tr><td>&quot;1570&quot;</td><td>&quot;1304&quot;</td><td>1.0</td></tr><tr><td>&quot;1570&quot;</td><td>&quot;1304&quot;</td><td>4.0</td></tr><tr><td>&quot;232&quot;</td><td>&quot;311&quot;</td><td>1.0</td></tr><tr><td>&quot;245&quot;</td><td>&quot;2182&quot;</td><td>1.0</td></tr><tr><td>&quot;173&quot;</td><td>&quot;2996&quot;</td><td>1.0</td></tr></tbody></table></div>"
      ],
      "text/plain": [
       "shape: (5, 3)\n",
       "┌─────────┬────────────┬─────────────┐\n",
       "│ user_id ┆ vacancy_id ┆ action_type │\n",
       "│ ---     ┆ ---        ┆ ---         │\n",
       "│ str     ┆ str        ┆ f64         │\n",
       "╞═════════╪════════════╪═════════════╡\n",
       "│ 1570    ┆ 1304       ┆ 1.0         │\n",
       "│ 1570    ┆ 1304       ┆ 4.0         │\n",
       "│ 232     ┆ 311        ┆ 1.0         │\n",
       "│ 245     ┆ 2182       ┆ 1.0         │\n",
       "│ 173     ┆ 2996       ┆ 1.0         │\n",
       "└─────────┴────────────┴─────────────┘"
      ]
     },
     "execution_count": 243,
     "metadata": {},
     "output_type": "execute_result"
    }
   ],
   "source": [
    "pairs = train.select([\"user_id\", \"vacancy_id\", \"action_type\"])\n",
    "pairs = pairs.with_columns(pairs[\"user_id\"].replace(user2idx).alias(\"user_id\"))\n",
    "pairs = pairs.with_columns(pairs['vacancy_id'].replace(vac2idx).alias(\"vacancy_id\"))\n",
    "pairs = pairs.with_columns(pairs['action_type'].replace(action_weights).alias(\"action_type\"))\n",
    "pairs.head()"
   ]
  },
  {
   "cell_type": "code",
   "execution_count": 260,
   "metadata": {},
   "outputs": [
    {
     "data": {
      "text/plain": [
       "((3123,), (3093,))"
      ]
     },
     "execution_count": 260,
     "metadata": {},
     "output_type": "execute_result"
    }
   ],
   "source": [
    "pairs[\"vacancy_id\"].unique().shape, features[\"vacancy_id\"].unique().shape"
   ]
  },
  {
   "cell_type": "code",
   "execution_count": 267,
   "metadata": {},
   "outputs": [],
   "source": [
    "pairs = pairs.filter(pl.col(\"vacancy_id\").is_in(features[\"vacancy_id\"]))"
   ]
  },
  {
   "cell_type": "code",
   "execution_count": 395,
   "metadata": {},
   "outputs": [
    {
     "name": "stderr",
     "output_type": "stream",
     "text": [
      "100%|██████████| 20503/20503 [04:36<00:00, 74.26it/s] \n"
     ]
    },
    {
     "data": {
      "text/html": [
       "<div><style>\n",
       ".dataframe > thead > tr,\n",
       ".dataframe > tbody > tr {\n",
       "  text-align: right;\n",
       "  white-space: pre-wrap;\n",
       "}\n",
       "</style>\n",
       "<small>shape: (0, 1)</small><table border=\"1\" class=\"dataframe\"><thead><tr><th>action_weights</th></tr><tr><td>f64</td></tr></thead><tbody></tbody></table></div>"
      ],
      "text/plain": [
       "shape: (0, 1)\n",
       "┌────────────────┐\n",
       "│ action_weights │\n",
       "│ ---            │\n",
       "│ f64            │\n",
       "╞════════════════╡\n",
       "└────────────────┘"
      ]
     },
     "execution_count": 395,
     "metadata": {},
     "output_type": "execute_result"
    }
   ],
   "source": [
    "action_w = pl.DataFrame({\"action_weights\": pl.Series([]).cast(float)})\n",
    "l = []\n",
    "for i in tqdm(range(pairs.shape[0])): \n",
    "    for j in range(features.shape[0]):\n",
    "        if pairs[i][\"vacancy_id\"].item() == features[j][\"vacancy_id\"].item():\n",
    "            l.append(pairs[i][\"action_type\"].item()*features[j][\"rate\"].item())\n",
    "            break\n",
    "# action_w = action_w[\"action_weights\"].append(pl.Series(l))\n",
    "action_w\n"
   ]
  },
  {
   "cell_type": "code",
   "execution_count": 401,
   "metadata": {},
   "outputs": [
    {
     "ename": "TypeError",
     "evalue": "cannot use `__getitem__` on Series of dtype Float64 with argument 'action_weights' of type 'str'",
     "output_type": "error",
     "traceback": [
      "\u001b[1;31m---------------------------------------------------------------------------\u001b[0m",
      "\u001b[1;31mTypeError\u001b[0m                                 Traceback (most recent call last)",
      "Cell \u001b[1;32mIn[401], line 1\u001b[0m\n\u001b[1;32m----> 1\u001b[0m action_w \u001b[38;5;241m=\u001b[39m \u001b[43maction_w\u001b[49m\u001b[43m[\u001b[49m\u001b[38;5;124;43m\"\u001b[39;49m\u001b[38;5;124;43maction_weights\u001b[39;49m\u001b[38;5;124;43m\"\u001b[39;49m\u001b[43m]\u001b[49m\u001b[38;5;241m.\u001b[39mappend(pl\u001b[38;5;241m.\u001b[39mSeries(l))\n\u001b[0;32m      2\u001b[0m action_w\n",
      "File \u001b[1;32mc:\\labs\\hse_project\\venv\\Lib\\site-packages\\polars\\series\\series.py:1351\u001b[0m, in \u001b[0;36mSeries.__getitem__\u001b[1;34m(self, item)\u001b[0m\n\u001b[0;32m   1345\u001b[0m     \u001b[38;5;28;01mreturn\u001b[39;00m \u001b[38;5;28mself\u001b[39m\u001b[38;5;241m.\u001b[39m_take_with_series(idx_series)\n\u001b[0;32m   1347\u001b[0m msg \u001b[38;5;241m=\u001b[39m (\n\u001b[0;32m   1348\u001b[0m     \u001b[38;5;124mf\u001b[39m\u001b[38;5;124m\"\u001b[39m\u001b[38;5;124mcannot use `__getitem__` on Series of dtype \u001b[39m\u001b[38;5;132;01m{\u001b[39;00m\u001b[38;5;28mself\u001b[39m\u001b[38;5;241m.\u001b[39mdtype\u001b[38;5;132;01m!r}\u001b[39;00m\u001b[38;5;124m\"\u001b[39m\n\u001b[0;32m   1349\u001b[0m     \u001b[38;5;124mf\u001b[39m\u001b[38;5;124m\"\u001b[39m\u001b[38;5;124m with argument \u001b[39m\u001b[38;5;132;01m{\u001b[39;00mitem\u001b[38;5;132;01m!r}\u001b[39;00m\u001b[38;5;124m of type \u001b[39m\u001b[38;5;132;01m{\u001b[39;00m\u001b[38;5;28mtype\u001b[39m(item)\u001b[38;5;241m.\u001b[39m\u001b[38;5;18m__name__\u001b[39m\u001b[38;5;132;01m!r}\u001b[39;00m\u001b[38;5;124m\"\u001b[39m\n\u001b[0;32m   1350\u001b[0m )\n\u001b[1;32m-> 1351\u001b[0m \u001b[38;5;28;01mraise\u001b[39;00m \u001b[38;5;167;01mTypeError\u001b[39;00m(msg)\n",
      "\u001b[1;31mTypeError\u001b[0m: cannot use `__getitem__` on Series of dtype Float64 with argument 'action_weights' of type 'str'"
     ]
    }
   ],
   "source": [
    "action_w = action_w[\"action_weights\"].append(pl.Series(l))\n",
    "action_w"
   ]
  },
  {
   "cell_type": "code",
   "execution_count": 39,
   "metadata": {},
   "outputs": [],
   "source": [
    "users = pairs[\"user_id\"].to_numpy().astype(int)\n",
    "vacancies = pairs['vacancy_id'].to_numpy().astype(int)\n",
    "preferences = pairs['action_type'].to_numpy().astype(int)"
   ]
  },
  {
   "cell_type": "code",
   "execution_count": 40,
   "metadata": {},
   "outputs": [
    {
     "data": {
      "text/plain": [
       "array([ 624, 1589, 1069, ...,  202,  202, 1347])"
      ]
     },
     "execution_count": 40,
     "metadata": {},
     "output_type": "execute_result"
    }
   ],
   "source": [
    "users"
   ]
  },
  {
   "cell_type": "code",
   "execution_count": 41,
   "metadata": {},
   "outputs": [
    {
     "data": {
      "text/plain": [
       "array([ 441,  433, 2702, ...,  988,  988, 2092])"
      ]
     },
     "execution_count": 41,
     "metadata": {},
     "output_type": "execute_result"
    }
   ],
   "source": [
    "vacancies"
   ]
  },
  {
   "cell_type": "code",
   "execution_count": 42,
   "metadata": {},
   "outputs": [
    {
     "data": {
      "text/plain": [
       "SeriesView([1, 1, 1, ..., 2, 1, 1])"
      ]
     },
     "execution_count": 42,
     "metadata": {},
     "output_type": "execute_result"
    }
   ],
   "source": [
    "preferences"
   ]
  },
  {
   "cell_type": "code",
   "execution_count": 43,
   "metadata": {},
   "outputs": [
    {
     "data": {
      "text/plain": [
       "<1649x3093 sparse matrix of type '<class 'numpy.intc'>'\n",
       "\twith 8487 stored elements in Compressed Sparse Row format>"
      ]
     },
     "execution_count": 43,
     "metadata": {},
     "output_type": "execute_result"
    }
   ],
   "source": [
    "uv_mat = csr_matrix((preferences, (users, vacancies)))\n",
    "uv_mat"
   ]
  },
  {
   "cell_type": "markdown",
   "metadata": {},
   "source": [
    "# **Working with BERT and ALS**"
   ]
  },
  {
   "cell_type": "code",
   "execution_count": null,
   "metadata": {},
   "outputs": [],
   "source": []
  }
 ],
 "metadata": {
  "kernelspec": {
   "display_name": "Python 3",
   "language": "python",
   "name": "python3"
  },
  "language_info": {
   "codemirror_mode": {
    "name": "ipython",
    "version": 3
   },
   "file_extension": ".py",
   "mimetype": "text/x-python",
   "name": "python",
   "nbconvert_exporter": "python",
   "pygments_lexer": "ipython3",
   "version": "3.11.8"
  }
 },
 "nbformat": 4,
 "nbformat_minor": 2
}
