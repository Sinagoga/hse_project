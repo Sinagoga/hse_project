{
 "cells": [
  {
   "cell_type": "markdown",
   "metadata": {},
   "source": [
    "# **Import packages and open data**"
   ]
  },
  {
   "cell_type": "code",
   "execution_count": 1,
   "metadata": {},
   "outputs": [
    {
     "name": "stderr",
     "output_type": "stream",
     "text": [
      "c:\\labs\\hse_project\\venv\\Lib\\site-packages\\tqdm\\auto.py:21: TqdmWarning: IProgress not found. Please update jupyter and ipywidgets. See https://ipywidgets.readthedocs.io/en/stable/user_install.html\n",
      "  from .autonotebook import tqdm as notebook_tqdm\n"
     ]
    }
   ],
   "source": [
    "import polars as pl\n",
    "import numpy as np\n",
    "import re\n",
    "from tqdm import tqdm\n",
    "from scipy.sparse import csr_matrix\n",
    "from torch import nn\n",
    "import implicit\n",
    "from transformers import BertModel, BertTokenizer\n",
    "\n",
    "RANDOM_STATE = 42\n",
    "N_PREDICTIONS = 100"
   ]
  },
  {
   "cell_type": "code",
   "execution_count": 2,
   "metadata": {},
   "outputs": [],
   "source": [
    "train_df = pl.read_parquet(\"C:\\labs\\hh_hack\\hh_recsys_train_hh.pq\")\n",
    "test_df = pl.read_parquet(\"C:\\labs\\hh_hack\\hh_recsys_test_hh.pq\")\n",
    "vac_df = pl.read_parquet(\"C:\\labs\\hh_hack\\hh_recsys_vacancies.pq\")"
   ]
  },
  {
   "cell_type": "code",
   "execution_count": 4,
   "metadata": {},
   "outputs": [
    {
     "data": {
      "text/plain": [
       "(2734129, 13)"
      ]
     },
     "execution_count": 4,
     "metadata": {},
     "output_type": "execute_result"
    }
   ],
   "source": [
    "vac_df.shape"
   ]
  },
  {
   "cell_type": "code",
   "execution_count": 5,
   "metadata": {},
   "outputs": [],
   "source": [
    "vac_df = vac_df[:vac_df.shape[0]//100]"
   ]
  },
  {
   "cell_type": "markdown",
   "metadata": {},
   "source": [
    "# **Work with vacancies**"
   ]
  },
  {
   "cell_type": "code",
   "execution_count": 6,
   "metadata": {},
   "outputs": [
    {
     "data": {
      "text/html": [
       "<div><style>\n",
       ".dataframe > thead > tr,\n",
       ".dataframe > tbody > tr {\n",
       "  text-align: right;\n",
       "  white-space: pre-wrap;\n",
       "}\n",
       "</style>\n",
       "<small>shape: (5, 13)</small><table border=\"1\" class=\"dataframe\"><thead><tr><th>vacancy_id</th><th>name</th><th>company.id</th><th>description</th><th>keySkills.keySkill</th><th>compensation.from</th><th>compensation.to</th><th>compensation.currencyCode</th><th>area.id</th><th>area.regionId</th><th>employment</th><th>workSchedule</th><th>workExperience</th></tr><tr><td>str</td><td>str</td><td>str</td><td>str</td><td>list[str]</td><td>i64</td><td>i64</td><td>str</td><td>str</td><td>str</td><td>str</td><td>str</td><td>str</td></tr></thead><tbody><tr><td>&quot;v_862116&quot;</td><td>&quot;Смотритель муз…</td><td>&quot;c_162972&quot;</td><td>&quot;&lt;strong&gt;Обязан…</td><td>[&quot;Пользователь ПК&quot;, &quot;Работа в команде&quot;, … &quot;PR-консультирование&quot;]</td><td>16500</td><td>null</td><td>&quot;RUR&quot;</td><td>&quot;a_4761&quot;</td><td>&quot;ar_33&quot;</td><td>&quot;full&quot;</td><td>&quot;fullDay&quot;</td><td>&quot;noExperience&quot;</td></tr><tr><td>&quot;v_288642&quot;</td><td>&quot;Ведущий менедж…</td><td>&quot;c_208672&quot;</td><td>&quot;&lt;p&gt;&lt;strong&gt;Воз…</td><td>[&quot;Активные продажи&quot;, &quot;Холодные продажи&quot;, … &quot;Организация мероприятий&quot;]</td><td>50000</td><td>null</td><td>&quot;RUR&quot;</td><td>&quot;a_744&quot;</td><td>&quot;ar_2&quot;</td><td>&quot;full&quot;</td><td>&quot;fullDay&quot;</td><td>&quot;noExperience&quot;</td></tr><tr><td>&quot;v_1840054&quot;</td><td>&quot;Бухгалтер (по …</td><td>&quot;c_198109&quot;</td><td>&quot;&lt;strong&gt;Обязан…</td><td>null</td><td>50000</td><td>65000</td><td>&quot;RUR&quot;</td><td>&quot;a_6223&quot;</td><td>&quot;ar_78&quot;</td><td>&quot;full&quot;</td><td>&quot;fullDay&quot;</td><td>&quot;between3And6&quot;</td></tr><tr><td>&quot;v_2346232&quot;</td><td>&quot;Пекарь (Токсов…</td><td>&quot;c_6137&quot;</td><td>&quot;&lt;p&gt;&lt;strong&gt;Для…</td><td>null</td><td>38500</td><td>42000</td><td>&quot;RUR&quot;</td><td>&quot;a_4795&quot;</td><td>&quot;ar_51&quot;</td><td>&quot;full&quot;</td><td>&quot;fullDay&quot;</td><td>&quot;noExperience&quot;</td></tr><tr><td>&quot;v_312507&quot;</td><td>&quot;Торговый предс…</td><td>&quot;c_206699&quot;</td><td>&quot;&lt;p&gt;Компания ТД…</td><td>[&quot;Продуктивность&quot;, &quot;Клиентоориентированность&quot;, … &quot;Развитие продаж&quot;]</td><td>60000</td><td>null</td><td>&quot;RUR&quot;</td><td>&quot;a_6837&quot;</td><td>&quot;ar_4&quot;</td><td>&quot;full&quot;</td><td>&quot;fullDay&quot;</td><td>&quot;between1And3&quot;</td></tr></tbody></table></div>"
      ],
      "text/plain": [
       "shape: (5, 13)\n",
       "┌───────────┬───────────┬───────────┬───────────┬───┬───────────┬───────────┬───────────┬──────────┐\n",
       "│ vacancy_i ┆ name      ┆ company.i ┆ descripti ┆ … ┆ area.regi ┆ employmen ┆ workSched ┆ workExpe │\n",
       "│ d         ┆ ---       ┆ d         ┆ on        ┆   ┆ onId      ┆ t         ┆ ule       ┆ rience   │\n",
       "│ ---       ┆ str       ┆ ---       ┆ ---       ┆   ┆ ---       ┆ ---       ┆ ---       ┆ ---      │\n",
       "│ str       ┆           ┆ str       ┆ str       ┆   ┆ str       ┆ str       ┆ str       ┆ str      │\n",
       "╞═══════════╪═══════════╪═══════════╪═══════════╪═══╪═══════════╪═══════════╪═══════════╪══════════╡\n",
       "│ v_862116  ┆ Смотрител ┆ c_162972  ┆ <strong>О ┆ … ┆ ar_33     ┆ full      ┆ fullDay   ┆ noExperi │\n",
       "│           ┆ ь         ┆           ┆ бязанност ┆   ┆           ┆           ┆           ┆ ence     │\n",
       "│           ┆ музейный  ┆           ┆ и:</stron ┆   ┆           ┆           ┆           ┆          │\n",
       "│           ┆           ┆           ┆ g> <u…    ┆   ┆           ┆           ┆           ┆          │\n",
       "│ v_288642  ┆ Ведущий   ┆ c_208672  ┆ <p><stron ┆ … ┆ ar_2      ┆ full      ┆ fullDay   ┆ noExperi │\n",
       "│           ┆ менеджер  ┆           ┆ g>Возможн ┆   ┆           ┆           ┆           ┆ ence     │\n",
       "│           ┆ по работе ┆           ┆ о, наша   ┆   ┆           ┆           ┆           ┆          │\n",
       "│           ┆ с физ…    ┆           ┆ ваканс…   ┆   ┆           ┆           ┆           ┆          │\n",
       "│ v_1840054 ┆ Бухгалтер ┆ c_198109  ┆ <strong>О ┆ … ┆ ar_78     ┆ full      ┆ fullDay   ┆ between3 │\n",
       "│           ┆ (по       ┆           ┆ бязанност ┆   ┆           ┆           ┆           ┆ And6     │\n",
       "│           ┆ расчету   ┆           ┆ и:</stron ┆   ┆           ┆           ┆           ┆          │\n",
       "│           ┆ зарплаты) ┆           ┆ g> <u…    ┆   ┆           ┆           ┆           ┆          │\n",
       "│ v_2346232 ┆ Пекарь    ┆ c_6137    ┆ <p><stron ┆ … ┆ ar_51     ┆ full      ┆ fullDay   ┆ noExperi │\n",
       "│           ┆ (Токсово, ┆           ┆ g>Для     ┆   ┆           ┆           ┆           ┆ ence     │\n",
       "│           ┆ Привокзал ┆           ┆ каждого,  ┆   ┆           ┆           ┆           ┆          │\n",
       "│           ┆ ьная, …   ┆           ┆ кто хоче… ┆   ┆           ┆           ┆           ┆          │\n",
       "│ v_312507  ┆ Торговый  ┆ c_206699  ┆ <p>Компан ┆ … ┆ ar_4      ┆ full      ┆ fullDay   ┆ between1 │\n",
       "│           ┆ представи ┆           ┆ ия ТД &qu ┆   ┆           ┆           ┆           ┆ And3     │\n",
       "│           ┆ тель (г.  ┆           ┆ ot;Оливье ┆   ┆           ┆           ┆           ┆          │\n",
       "│           ┆ Абака…    ┆           ┆ ра&qu…    ┆   ┆           ┆           ┆           ┆          │\n",
       "└───────────┴───────────┴───────────┴───────────┴───┴───────────┴───────────┴───────────┴──────────┘"
      ]
     },
     "execution_count": 6,
     "metadata": {},
     "output_type": "execute_result"
    }
   ],
   "source": [
    "vac_df.head()"
   ]
  },
  {
   "cell_type": "code",
   "execution_count": 7,
   "metadata": {},
   "outputs": [
    {
     "data": {
      "text/html": [
       "<div><style>\n",
       ".dataframe > thead > tr,\n",
       ".dataframe > tbody > tr {\n",
       "  text-align: right;\n",
       "  white-space: pre-wrap;\n",
       "}\n",
       "</style>\n",
       "<small>shape: (9, 14)</small><table border=\"1\" class=\"dataframe\"><thead><tr><th>statistic</th><th>vacancy_id</th><th>name</th><th>company.id</th><th>description</th><th>keySkills.keySkill</th><th>compensation.from</th><th>compensation.to</th><th>compensation.currencyCode</th><th>area.id</th><th>area.regionId</th><th>employment</th><th>workSchedule</th><th>workExperience</th></tr><tr><td>str</td><td>str</td><td>str</td><td>str</td><td>str</td><td>f64</td><td>f64</td><td>f64</td><td>str</td><td>str</td><td>str</td><td>str</td><td>str</td><td>str</td></tr></thead><tbody><tr><td>&quot;count&quot;</td><td>&quot;27341&quot;</td><td>&quot;27341&quot;</td><td>&quot;27341&quot;</td><td>&quot;27341&quot;</td><td>14957.0</td><td>20611.0</td><td>12313.0</td><td>&quot;22143&quot;</td><td>&quot;27341&quot;</td><td>&quot;27128&quot;</td><td>&quot;27341&quot;</td><td>&quot;27341&quot;</td><td>&quot;27341&quot;</td></tr><tr><td>&quot;null_count&quot;</td><td>&quot;0&quot;</td><td>&quot;0&quot;</td><td>&quot;0&quot;</td><td>&quot;0&quot;</td><td>12384.0</td><td>6730.0</td><td>15028.0</td><td>&quot;5198&quot;</td><td>&quot;0&quot;</td><td>&quot;213&quot;</td><td>&quot;0&quot;</td><td>&quot;0&quot;</td><td>&quot;0&quot;</td></tr><tr><td>&quot;mean&quot;</td><td>null</td><td>null</td><td>null</td><td>null</td><td>null</td><td>68558.723594</td><td>96158.224559</td><td>null</td><td>null</td><td>null</td><td>null</td><td>null</td><td>null</td></tr><tr><td>&quot;std&quot;</td><td>null</td><td>null</td><td>null</td><td>null</td><td>null</td><td>112842.072794</td><td>218133.210496</td><td>null</td><td>null</td><td>null</td><td>null</td><td>null</td><td>null</td></tr><tr><td>&quot;min&quot;</td><td>&quot;v_1000206&quot;</td><td>&quot;&quot;Фронтенд разр…</td><td>&quot;c_100002&quot;</td><td>&quot;            &lt;p…</td><td>null</td><td>20.0</td><td>30.0</td><td>&quot;BYR&quot;</td><td>&quot;a_1&quot;</td><td>&quot;ar_0&quot;</td><td>&quot;full&quot;</td><td>&quot;flexible&quot;</td><td>&quot;between1And3&quot;</td></tr><tr><td>&quot;25%&quot;</td><td>null</td><td>null</td><td>null</td><td>null</td><td>null</td><td>40000.0</td><td>50000.0</td><td>null</td><td>null</td><td>null</td><td>null</td><td>null</td><td>null</td></tr><tr><td>&quot;50%&quot;</td><td>null</td><td>null</td><td>null</td><td>null</td><td>null</td><td>55000.0</td><td>70000.0</td><td>null</td><td>null</td><td>null</td><td>null</td><td>null</td><td>null</td></tr><tr><td>&quot;75%&quot;</td><td>null</td><td>null</td><td>null</td><td>null</td><td>null</td><td>80000.0</td><td>120000.0</td><td>null</td><td>null</td><td>null</td><td>null</td><td>null</td><td>null</td></tr><tr><td>&quot;max&quot;</td><td>&quot;v_999892&quot;</td><td>&quot;​​​​​​​Purchas…</td><td>&quot;c_99995&quot;</td><td>&quot;‼Компания ПРОМ…</td><td>null</td><td>8e6</td><td>2e7</td><td>&quot;UZS&quot;</td><td>&quot;a_996&quot;</td><td>&quot;ar_99&quot;</td><td>&quot;volunteer&quot;</td><td>&quot;shift&quot;</td><td>&quot;noExperience&quot;</td></tr></tbody></table></div>"
      ],
      "text/plain": [
       "shape: (9, 14)\n",
       "┌───────────┬───────────┬───────────┬───────────┬───┬───────────┬───────────┬───────────┬──────────┐\n",
       "│ statistic ┆ vacancy_i ┆ name      ┆ company.i ┆ … ┆ area.regi ┆ employmen ┆ workSched ┆ workExpe │\n",
       "│ ---       ┆ d         ┆ ---       ┆ d         ┆   ┆ onId      ┆ t         ┆ ule       ┆ rience   │\n",
       "│ str       ┆ ---       ┆ str       ┆ ---       ┆   ┆ ---       ┆ ---       ┆ ---       ┆ ---      │\n",
       "│           ┆ str       ┆           ┆ str       ┆   ┆ str       ┆ str       ┆ str       ┆ str      │\n",
       "╞═══════════╪═══════════╪═══════════╪═══════════╪═══╪═══════════╪═══════════╪═══════════╪══════════╡\n",
       "│ count     ┆ 27341     ┆ 27341     ┆ 27341     ┆ … ┆ 27128     ┆ 27341     ┆ 27341     ┆ 27341    │\n",
       "│ null_coun ┆ 0         ┆ 0         ┆ 0         ┆ … ┆ 213       ┆ 0         ┆ 0         ┆ 0        │\n",
       "│ t         ┆           ┆           ┆           ┆   ┆           ┆           ┆           ┆          │\n",
       "│ mean      ┆ null      ┆ null      ┆ null      ┆ … ┆ null      ┆ null      ┆ null      ┆ null     │\n",
       "│ std       ┆ null      ┆ null      ┆ null      ┆ … ┆ null      ┆ null      ┆ null      ┆ null     │\n",
       "│ min       ┆ v_1000206 ┆ \"Фронтенд ┆ c_100002  ┆ … ┆ ar_0      ┆ full      ┆ flexible  ┆ between1 │\n",
       "│           ┆           ┆ разработч ┆           ┆   ┆           ┆           ┆           ┆ And3     │\n",
       "│           ┆           ┆ ик/програ ┆           ┆   ┆           ┆           ┆           ┆          │\n",
       "│           ┆           ┆ ммис…     ┆           ┆   ┆           ┆           ┆           ┆          │\n",
       "│ 25%       ┆ null      ┆ null      ┆ null      ┆ … ┆ null      ┆ null      ┆ null      ┆ null     │\n",
       "│ 50%       ┆ null      ┆ null      ┆ null      ┆ … ┆ null      ┆ null      ┆ null      ┆ null     │\n",
       "│ 75%       ┆ null      ┆ null      ┆ null      ┆ … ┆ null      ┆ null      ┆ null      ┆ null     │\n",
       "│ max       ┆ v_999892  ┆ ​​​​​​​Purchasin ┆ c_99995   ┆ … ┆ ar_99     ┆ volunteer ┆ shift     ┆ noExperi │\n",
       "│           ┆           ┆ g manager ┆           ┆   ┆           ┆           ┆           ┆ ence     │\n",
       "│           ┆           ┆ (Istan…   ┆           ┆   ┆           ┆           ┆           ┆          │\n",
       "└───────────┴───────────┴───────────┴───────────┴───┴───────────┴───────────┴───────────┴──────────┘"
      ]
     },
     "execution_count": 7,
     "metadata": {},
     "output_type": "execute_result"
    }
   ],
   "source": [
    "vac_df.describe()"
   ]
  },
  {
   "cell_type": "code",
   "execution_count": 8,
   "metadata": {},
   "outputs": [
    {
     "data": {
      "text/plain": [
       "(27341, 1, 2341)"
      ]
     },
     "execution_count": 8,
     "metadata": {},
     "output_type": "execute_result"
    }
   ],
   "source": [
    "all_steps = vac_df.shape[0]\n",
    "max_steps = vac_df.shape[0]//25_000\n",
    "last_step = vac_df.shape[0]%25_000\n",
    "all_steps, max_steps, last_step"
   ]
  },
  {
   "cell_type": "code",
   "execution_count": 9,
   "metadata": {},
   "outputs": [
    {
     "name": "stdout",
     "output_type": "stream",
     "text": [
      "(27341, 2)\n"
     ]
    },
    {
     "data": {
      "text/html": [
       "<div><style>\n",
       ".dataframe > thead > tr,\n",
       ".dataframe > tbody > tr {\n",
       "  text-align: right;\n",
       "  white-space: pre-wrap;\n",
       "}\n",
       "</style>\n",
       "<small>shape: (5, 2)</small><table border=\"1\" class=\"dataframe\"><thead><tr><th>vacancy_id</th><th>rate</th></tr><tr><td>str</td><td>f64</td></tr></thead><tbody><tr><td>&quot;v_862116&quot;</td><td>0.875406</td></tr><tr><td>&quot;v_288642&quot;</td><td>0.876231</td></tr><tr><td>&quot;v_1840054&quot;</td><td>0.709749</td></tr><tr><td>&quot;v_2346232&quot;</td><td>0.875991</td></tr><tr><td>&quot;v_312507&quot;</td><td>1.126477</td></tr></tbody></table></div>"
      ],
      "text/plain": [
       "shape: (5, 2)\n",
       "┌────────────┬──────────┐\n",
       "│ vacancy_id ┆ rate     │\n",
       "│ ---        ┆ ---      │\n",
       "│ str        ┆ f64      │\n",
       "╞════════════╪══════════╡\n",
       "│ v_862116   ┆ 0.875406 │\n",
       "│ v_288642   ┆ 0.876231 │\n",
       "│ v_1840054  ┆ 0.709749 │\n",
       "│ v_2346232  ┆ 0.875991 │\n",
       "│ v_312507   ┆ 1.126477 │\n",
       "└────────────┴──────────┘"
      ]
     },
     "execution_count": 9,
     "metadata": {},
     "output_type": "execute_result"
    }
   ],
   "source": [
    "area_id = sorted(vac_df[\"area.id\"].unique().to_list())\n",
    "empl = sorted(vac_df[\"employment\"].unique().to_list())\n",
    "work_sch = sorted(vac_df[\"workSchedule\"].unique().to_list())\n",
    "work_exp = sorted(vac_df[\"workExperience\"].unique().to_list())\n",
    "area2idx = {area_id[i] : i for i in range(len(area_id))}\n",
    "empl2idx = {empl[i] : i for i in range(len(empl))}\n",
    "sch2idx = {work_sch[i] : i for i in range(len(work_sch))}\n",
    "exp2idx = {work_exp[i] : i for i in range(len(work_exp))}\n",
    "last_v = 0\n",
    "features = pl.DataFrame()\n",
    "cur = vac_df.drop(\"name\", \"company.id\", \"compensation.currencyCode\", \"area.regionId\", \"description\", \"keySkills.keySkill\", \"area.id\")\n",
    "cur = cur.with_columns(cur[\"compensation.from\"].fill_null(0).alias(\"compensation.from\"))\n",
    "cur = cur.with_columns(cur[\"compensation.to\"].fill_null(0).alias(\"compensation.to\"))\n",
    "cur = cur.with_columns(pl.Series(\"compensation.to\", [cur[\"compensation.to\"][i] if cur[\"compensation.to\"][i]!=0 else cur[\"compensation.from\"][i] for i in range(all_steps)]))\n",
    "# cur = cur.with_columns(cur[\"area.id\"].replace(area2idx).cast(int).alias(\"area.id\"))\n",
    "cur = cur.with_columns(cur[\"employment\"].replace(empl2idx).cast(int).map_elements(lambda x: 2 if x == 0 else x/4).alias(\"employment\"))\n",
    "cur = cur.with_columns(cur[\"workSchedule\"].replace(sch2idx).cast(int).map_elements(lambda x: 2 if x == 0 else x/4).alias(\"workSchedule\"))\n",
    "cur = cur.with_columns(cur[\"workExperience\"].replace(exp2idx).cast(int).map_elements(lambda x: 2 if x == 0 else x/3).alias(\"workExperience\"))\n",
    "cur = cur.with_columns(((pl.col(\"compensation.from\") + pl.col(\"compensation.to\"))/2/60734.836747/167.2).alias(\"compensation.mean\"))\n",
    "cur = cur.with_columns(((pl.col(\"employment\") + pl.col(\"workSchedule\") + pl.col(\"workExperience\") + pl.col(\"compensation.mean\"))/4).alias(\"rate\"))\n",
    "cur = cur.drop(\"compensation.from\", \"compensation.to\", \"employment\", \"workSchedule\", \"workExperience\", \"compensation.mean\")\n",
    "features = pl.concat([features, cur])\n",
    "print(features.shape)\n",
    "features.head()\n"
   ]
  },
  {
   "cell_type": "markdown",
   "metadata": {},
   "source": [
    "# **Preparing data**"
   ]
  },
  {
   "cell_type": "code",
   "execution_count": 10,
   "metadata": {},
   "outputs": [],
   "source": [
    "min_seq_len = 8\n",
    "min_item_cnt = 8"
   ]
  },
  {
   "cell_type": "code",
   "execution_count": 11,
   "metadata": {},
   "outputs": [
    {
     "data": {
      "text/plain": [
       "13064"
      ]
     },
     "execution_count": 11,
     "metadata": {},
     "output_type": "execute_result"
    }
   ],
   "source": [
    "train_df.shape[0]%50_000"
   ]
  },
  {
   "cell_type": "code",
   "execution_count": 12,
   "metadata": {},
   "outputs": [
    {
     "data": {
      "text/html": [
       "<div><style>\n",
       ".dataframe > thead > tr,\n",
       ".dataframe > tbody > tr {\n",
       "  text-align: right;\n",
       "  white-space: pre-wrap;\n",
       "}\n",
       "</style>\n",
       "<small>shape: (5, 5)</small><table border=\"1\" class=\"dataframe\"><thead><tr><th>user_id</th><th>session_id</th><th>vacancy_id</th><th>action_type</th><th>action_dt</th></tr><tr><td>str</td><td>str</td><td>str</td><td>i64</td><td>datetime[ns]</td></tr></thead><tbody><tr><td>&quot;u_229843&quot;</td><td>&quot;s_6902690&quot;</td><td>&quot;v_2519518&quot;</td><td>2</td><td>2023-11-01 00:00:00.019</td></tr><tr><td>&quot;u_399965&quot;</td><td>&quot;s_20560802&quot;</td><td>&quot;v_665882&quot;</td><td>2</td><td>2023-11-01 00:00:00.074</td></tr><tr><td>&quot;u_760080&quot;</td><td>&quot;s_6503120&quot;</td><td>&quot;v_896765&quot;</td><td>2</td><td>2023-11-01 00:00:00.557</td></tr><tr><td>&quot;u_125008&quot;</td><td>&quot;s_26036381&quot;</td><td>&quot;v_1575915&quot;</td><td>3</td><td>2023-11-01 00:00:00.739</td></tr><tr><td>&quot;u_1150559&quot;</td><td>&quot;s_1912334&quot;</td><td>&quot;v_2093333&quot;</td><td>2</td><td>2023-11-01 00:00:00.747</td></tr></tbody></table></div>"
      ],
      "text/plain": [
       "shape: (5, 5)\n",
       "┌───────────┬────────────┬────────────┬─────────────┬─────────────────────────┐\n",
       "│ user_id   ┆ session_id ┆ vacancy_id ┆ action_type ┆ action_dt               │\n",
       "│ ---       ┆ ---        ┆ ---        ┆ ---         ┆ ---                     │\n",
       "│ str       ┆ str        ┆ str        ┆ i64         ┆ datetime[ns]            │\n",
       "╞═══════════╪════════════╪════════════╪═════════════╪═════════════════════════╡\n",
       "│ u_229843  ┆ s_6902690  ┆ v_2519518  ┆ 2           ┆ 2023-11-01 00:00:00.019 │\n",
       "│ u_399965  ┆ s_20560802 ┆ v_665882   ┆ 2           ┆ 2023-11-01 00:00:00.074 │\n",
       "│ u_760080  ┆ s_6503120  ┆ v_896765   ┆ 2           ┆ 2023-11-01 00:00:00.557 │\n",
       "│ u_125008  ┆ s_26036381 ┆ v_1575915  ┆ 3           ┆ 2023-11-01 00:00:00.739 │\n",
       "│ u_1150559 ┆ s_1912334  ┆ v_2093333  ┆ 2           ┆ 2023-11-01 00:00:00.747 │\n",
       "└───────────┴────────────┴────────────┴─────────────┴─────────────────────────┘"
      ]
     },
     "execution_count": 12,
     "metadata": {},
     "output_type": "execute_result"
    }
   ],
   "source": [
    "train = pl.DataFrame()\n",
    "# for i in tqdm(range(1, 69)):\n",
    "#     train = pl.concat([train, train_df[(i-1)*50_000:i*50_000].explode(columns=[\"vacancy_id\", \"action_type\", \"action_dt\"]).sort(\"action_dt\")])\n",
    "# train = pl.concat([train, train_df[i*50_000:i*50_000+13064].explode(columns=[\"vacancy_id\", \"action_type\", \"action_dt\"]).sort(\"action_dt\")])\n",
    "train = pl.concat([train, train_df.explode(columns=[\"vacancy_id\", \"action_type\", \"action_dt\"]).sort(\"action_dt\")])\n",
    "train.head()"
   ]
  },
  {
   "cell_type": "code",
   "execution_count": 13,
   "metadata": {},
   "outputs": [
    {
     "data": {
      "text/plain": [
       "(21516070, 5)"
      ]
     },
     "execution_count": 13,
     "metadata": {},
     "output_type": "execute_result"
    }
   ],
   "source": [
    "train.shape"
   ]
  },
  {
   "cell_type": "code",
   "execution_count": 14,
   "metadata": {},
   "outputs": [],
   "source": [
    "train = train.filter(pl.col(\"vacancy_id\").is_in(features[\"vacancy_id\"]))"
   ]
  },
  {
   "cell_type": "code",
   "execution_count": 15,
   "metadata": {},
   "outputs": [
    {
     "data": {
      "text/html": [
       "<div><style>\n",
       ".dataframe > thead > tr,\n",
       ".dataframe > tbody > tr {\n",
       "  text-align: right;\n",
       "  white-space: pre-wrap;\n",
       "}\n",
       "</style>\n",
       "<small>shape: (5, 5)</small><table border=\"1\" class=\"dataframe\"><thead><tr><th>user_id</th><th>session_id</th><th>vacancy_id</th><th>action_type</th><th>action_dt</th></tr><tr><td>str</td><td>str</td><td>str</td><td>i64</td><td>datetime[ns]</td></tr></thead><tbody><tr><td>&quot;u_800105&quot;</td><td>&quot;s_14201662&quot;</td><td>&quot;v_703293&quot;</td><td>2</td><td>2023-11-01 00:00:11.156</td></tr><tr><td>&quot;u_847702&quot;</td><td>&quot;s_34563950&quot;</td><td>&quot;v_1740412&quot;</td><td>2</td><td>2023-11-01 00:00:22.942</td></tr><tr><td>&quot;u_232671&quot;</td><td>&quot;s_14038&quot;</td><td>&quot;v_2627133&quot;</td><td>2</td><td>2023-11-01 00:00:43.167</td></tr><tr><td>&quot;u_351123&quot;</td><td>&quot;s_4817650&quot;</td><td>&quot;v_1198228&quot;</td><td>2</td><td>2023-11-01 00:00:50.295</td></tr><tr><td>&quot;u_794918&quot;</td><td>&quot;s_23209024&quot;</td><td>&quot;v_291450&quot;</td><td>2</td><td>2023-11-01 00:00:50.664</td></tr></tbody></table></div>"
      ],
      "text/plain": [
       "shape: (5, 5)\n",
       "┌──────────┬────────────┬────────────┬─────────────┬─────────────────────────┐\n",
       "│ user_id  ┆ session_id ┆ vacancy_id ┆ action_type ┆ action_dt               │\n",
       "│ ---      ┆ ---        ┆ ---        ┆ ---         ┆ ---                     │\n",
       "│ str      ┆ str        ┆ str        ┆ i64         ┆ datetime[ns]            │\n",
       "╞══════════╪════════════╪════════════╪═════════════╪═════════════════════════╡\n",
       "│ u_800105 ┆ s_14201662 ┆ v_703293   ┆ 2           ┆ 2023-11-01 00:00:11.156 │\n",
       "│ u_847702 ┆ s_34563950 ┆ v_1740412  ┆ 2           ┆ 2023-11-01 00:00:22.942 │\n",
       "│ u_232671 ┆ s_14038    ┆ v_2627133  ┆ 2           ┆ 2023-11-01 00:00:43.167 │\n",
       "│ u_351123 ┆ s_4817650  ┆ v_1198228  ┆ 2           ┆ 2023-11-01 00:00:50.295 │\n",
       "│ u_794918 ┆ s_23209024 ┆ v_291450   ┆ 2           ┆ 2023-11-01 00:00:50.664 │\n",
       "└──────────┴────────────┴────────────┴─────────────┴─────────────────────────┘"
      ]
     },
     "execution_count": 15,
     "metadata": {},
     "output_type": "execute_result"
    }
   ],
   "source": [
    "train.head()"
   ]
  },
  {
   "cell_type": "code",
   "execution_count": 16,
   "metadata": {},
   "outputs": [
    {
     "data": {
      "text/plain": [
       "(197841, 5)"
      ]
     },
     "execution_count": 16,
     "metadata": {},
     "output_type": "execute_result"
    }
   ],
   "source": [
    "train.shape"
   ]
  },
  {
   "cell_type": "code",
   "execution_count": 17,
   "metadata": {},
   "outputs": [
    {
     "data": {
      "text/html": [
       "<div><style>\n",
       ".dataframe > thead > tr,\n",
       ".dataframe > tbody > tr {\n",
       "  text-align: right;\n",
       "  white-space: pre-wrap;\n",
       "}\n",
       "</style>\n",
       "<small>shape: (5, 5)</small><table border=\"1\" class=\"dataframe\"><thead><tr><th>user_id</th><th>session_id</th><th>vacancy_id</th><th>action_type</th><th>action_dt</th></tr><tr><td>str</td><td>str</td><td>str</td><td>i64</td><td>datetime[ns]</td></tr></thead><tbody><tr><td>&quot;u_934685&quot;</td><td>&quot;s_811276&quot;</td><td>&quot;v_2006692&quot;</td><td>2</td><td>2023-11-01 00:06:22.427</td></tr><tr><td>&quot;u_934685&quot;</td><td>&quot;s_811276&quot;</td><td>&quot;v_2006692&quot;</td><td>1</td><td>2023-11-01 00:06:33.150</td></tr><tr><td>&quot;u_1142370&quot;</td><td>&quot;s_291772&quot;</td><td>&quot;v_1243207&quot;</td><td>2</td><td>2023-11-01 00:06:46.709</td></tr><tr><td>&quot;u_1153819&quot;</td><td>&quot;s_10827508&quot;</td><td>&quot;v_2722626&quot;</td><td>2</td><td>2023-11-01 00:12:24.688</td></tr><tr><td>&quot;u_1115024&quot;</td><td>&quot;s_6067860&quot;</td><td>&quot;v_896237&quot;</td><td>2</td><td>2023-11-01 00:12:39.766</td></tr></tbody></table></div>"
      ],
      "text/plain": [
       "shape: (5, 5)\n",
       "┌───────────┬────────────┬────────────┬─────────────┬─────────────────────────┐\n",
       "│ user_id   ┆ session_id ┆ vacancy_id ┆ action_type ┆ action_dt               │\n",
       "│ ---       ┆ ---        ┆ ---        ┆ ---         ┆ ---                     │\n",
       "│ str       ┆ str        ┆ str        ┆ i64         ┆ datetime[ns]            │\n",
       "╞═══════════╪════════════╪════════════╪═════════════╪═════════════════════════╡\n",
       "│ u_934685  ┆ s_811276   ┆ v_2006692  ┆ 2           ┆ 2023-11-01 00:06:22.427 │\n",
       "│ u_934685  ┆ s_811276   ┆ v_2006692  ┆ 1           ┆ 2023-11-01 00:06:33.150 │\n",
       "│ u_1142370 ┆ s_291772   ┆ v_1243207  ┆ 2           ┆ 2023-11-01 00:06:46.709 │\n",
       "│ u_1153819 ┆ s_10827508 ┆ v_2722626  ┆ 2           ┆ 2023-11-01 00:12:24.688 │\n",
       "│ u_1115024 ┆ s_6067860  ┆ v_896237   ┆ 2           ┆ 2023-11-01 00:12:39.766 │\n",
       "└───────────┴────────────┴────────────┴─────────────┴─────────────────────────┘"
      ]
     },
     "execution_count": 17,
     "metadata": {},
     "output_type": "execute_result"
    }
   ],
   "source": [
    "train = train.filter(pl.col(\"vacancy_id\").is_in(train[\"vacancy_id\"].value_counts().filter(pl.col(\"count\") >= min_item_cnt)[\"vacancy_id\"]))\n",
    "train = train.filter(pl.col(\"user_id\").is_in(train[\"user_id\"].value_counts().filter(pl.col(\"count\") >= min_item_cnt)[\"user_id\"]))\n",
    "train.head()"
   ]
  },
  {
   "cell_type": "code",
   "execution_count": 18,
   "metadata": {},
   "outputs": [],
   "source": [
    "features = features.filter(pl.col(\"vacancy_id\").is_in(train[\"vacancy_id\"].unique()))"
   ]
  },
  {
   "cell_type": "code",
   "execution_count": 19,
   "metadata": {},
   "outputs": [
    {
     "data": {
      "text/plain": [
       "((20696, 5), (3123, 2))"
      ]
     },
     "execution_count": 19,
     "metadata": {},
     "output_type": "execute_result"
    }
   ],
   "source": [
    "train.shape, features.shape"
   ]
  },
  {
   "cell_type": "code",
   "execution_count": 20,
   "metadata": {},
   "outputs": [],
   "source": [
    "unique_users = sorted(train[\"user_id\"].unique().to_list())\n",
    "unique_vacancies = sorted(train[\"vacancy_id\"].unique().to_list())\n",
    "\n",
    "user2idx = {user_id: idx for idx, user_id in enumerate(unique_users)}\n",
    "vac2idx = {vac_id: idx for idx, vac_id in enumerate(unique_vacancies)}"
   ]
  },
  {
   "cell_type": "markdown",
   "metadata": {},
   "source": [
    "# **Making matrix**"
   ]
  },
  {
   "cell_type": "code",
   "execution_count": 21,
   "metadata": {},
   "outputs": [],
   "source": [
    "idx2vac = {idx: vac_id for vac_id, idx in vac2idx.items()}\n",
    "action_weights = {\n",
    "    1: 4.0,\n",
    "    2: 1.0,\n",
    "    3: 2.0\n",
    "}"
   ]
  },
  {
   "cell_type": "code",
   "execution_count": 22,
   "metadata": {},
   "outputs": [
    {
     "data": {
      "text/html": [
       "<div><style>\n",
       ".dataframe > thead > tr,\n",
       ".dataframe > tbody > tr {\n",
       "  text-align: right;\n",
       "  white-space: pre-wrap;\n",
       "}\n",
       "</style>\n",
       "<small>shape: (5, 2)</small><table border=\"1\" class=\"dataframe\"><thead><tr><th>vacancy_id</th><th>rate</th></tr><tr><td>str</td><td>f64</td></tr></thead><tbody><tr><td>&quot;2252&quot;</td><td>0.713011</td></tr><tr><td>&quot;2430&quot;</td><td>1.125985</td></tr><tr><td>&quot;2972&quot;</td><td>1.189716</td></tr><tr><td>&quot;942&quot;</td><td>0.876662</td></tr><tr><td>&quot;2820&quot;</td><td>0.977777</td></tr></tbody></table></div>"
      ],
      "text/plain": [
       "shape: (5, 2)\n",
       "┌────────────┬──────────┐\n",
       "│ vacancy_id ┆ rate     │\n",
       "│ ---        ┆ ---      │\n",
       "│ str        ┆ f64      │\n",
       "╞════════════╪══════════╡\n",
       "│ 2252       ┆ 0.713011 │\n",
       "│ 2430       ┆ 1.125985 │\n",
       "│ 2972       ┆ 1.189716 │\n",
       "│ 942        ┆ 0.876662 │\n",
       "│ 2820       ┆ 0.977777 │\n",
       "└────────────┴──────────┘"
      ]
     },
     "execution_count": 22,
     "metadata": {},
     "output_type": "execute_result"
    }
   ],
   "source": [
    "features = features.with_columns(features[\"vacancy_id\"].replace(vac2idx).alias(\"vacancy_id\"))\n",
    "features = features.with_columns(features[\"rate\"].fill_null(features[\"rate\"].mean()).alias(\"rate\"))\n",
    "features.head()"
   ]
  },
  {
   "cell_type": "code",
   "execution_count": 23,
   "metadata": {},
   "outputs": [
    {
     "data": {
      "text/html": [
       "<div><style>\n",
       ".dataframe > thead > tr,\n",
       ".dataframe > tbody > tr {\n",
       "  text-align: right;\n",
       "  white-space: pre-wrap;\n",
       "}\n",
       "</style>\n",
       "<small>shape: (5, 3)</small><table border=\"1\" class=\"dataframe\"><thead><tr><th>user_id</th><th>vacancy_id</th><th>action_type</th></tr><tr><td>str</td><td>str</td><td>f64</td></tr></thead><tbody><tr><td>&quot;1570&quot;</td><td>&quot;1304&quot;</td><td>1.0</td></tr><tr><td>&quot;1570&quot;</td><td>&quot;1304&quot;</td><td>4.0</td></tr><tr><td>&quot;232&quot;</td><td>&quot;311&quot;</td><td>1.0</td></tr><tr><td>&quot;245&quot;</td><td>&quot;2182&quot;</td><td>1.0</td></tr><tr><td>&quot;173&quot;</td><td>&quot;2996&quot;</td><td>1.0</td></tr></tbody></table></div>"
      ],
      "text/plain": [
       "shape: (5, 3)\n",
       "┌─────────┬────────────┬─────────────┐\n",
       "│ user_id ┆ vacancy_id ┆ action_type │\n",
       "│ ---     ┆ ---        ┆ ---         │\n",
       "│ str     ┆ str        ┆ f64         │\n",
       "╞═════════╪════════════╪═════════════╡\n",
       "│ 1570    ┆ 1304       ┆ 1.0         │\n",
       "│ 1570    ┆ 1304       ┆ 4.0         │\n",
       "│ 232     ┆ 311        ┆ 1.0         │\n",
       "│ 245     ┆ 2182       ┆ 1.0         │\n",
       "│ 173     ┆ 2996       ┆ 1.0         │\n",
       "└─────────┴────────────┴─────────────┘"
      ]
     },
     "execution_count": 23,
     "metadata": {},
     "output_type": "execute_result"
    }
   ],
   "source": [
    "pairs = train.select([\"user_id\", \"vacancy_id\", \"action_type\"])\n",
    "pairs = pairs.with_columns(pairs[\"user_id\"].replace(user2idx).alias(\"user_id\"))\n",
    "pairs = pairs.with_columns(pairs['vacancy_id'].replace(vac2idx).alias(\"vacancy_id\"))\n",
    "pairs = pairs.with_columns(pairs['action_type'].replace(action_weights).alias(\"action_type\"))\n",
    "pairs.head()"
   ]
  },
  {
   "cell_type": "code",
   "execution_count": 24,
   "metadata": {},
   "outputs": [
    {
     "data": {
      "text/plain": [
       "((3123,), (3123,))"
      ]
     },
     "execution_count": 24,
     "metadata": {},
     "output_type": "execute_result"
    }
   ],
   "source": [
    "pairs[\"vacancy_id\"].unique().shape, features[\"vacancy_id\"].unique().shape"
   ]
  },
  {
   "cell_type": "code",
   "execution_count": 25,
   "metadata": {},
   "outputs": [],
   "source": [
    "pairs = pairs.filter(pl.col(\"vacancy_id\").is_in(features[\"vacancy_id\"]))"
   ]
  },
  {
   "cell_type": "code",
   "execution_count": 26,
   "metadata": {},
   "outputs": [
    {
     "name": "stderr",
     "output_type": "stream",
     "text": [
      "  0%|          | 24/20696 [00:00<04:57, 69.38it/s]"
     ]
    },
    {
     "name": "stderr",
     "output_type": "stream",
     "text": [
      "100%|██████████| 20696/20696 [07:52<00:00, 43.80it/s] \n"
     ]
    }
   ],
   "source": [
    "# action_w = pl.DataFrame({\"action_weights\": pl.Series([]).cast(float)})\n",
    "l = []\n",
    "for i in tqdm(range(pairs.shape[0])): \n",
    "    for j in range(features.shape[0]):\n",
    "        if pairs[i][\"vacancy_id\"].item() == features[j][\"vacancy_id\"].item():\n",
    "            l.append(pairs[i][\"action_type\"].item()*features[j][\"rate\"].item())\n",
    "            break\n",
    "# action_w = action_w[\"action_weights\"].append(pl.Series(l))\n",
    "# action_w\n"
   ]
  },
  {
   "cell_type": "code",
   "execution_count": 27,
   "metadata": {},
   "outputs": [
    {
     "data": {
      "text/html": [
       "<div><style>\n",
       ".dataframe > thead > tr,\n",
       ".dataframe > tbody > tr {\n",
       "  text-align: right;\n",
       "  white-space: pre-wrap;\n",
       "}\n",
       "</style>\n",
       "<small>shape: (10,)</small><table border=\"1\" class=\"dataframe\"><thead><tr><th>action_weights</th></tr><tr><td>f64</td></tr></thead><tbody><tr><td>0.938731</td></tr><tr><td>3.754924</td></tr><tr><td>0.940774</td></tr><tr><td>0.877216</td></tr><tr><td>0.9375</td></tr><tr><td>1.190762</td></tr><tr><td>1.126846</td></tr><tr><td>4.507386</td></tr><tr><td>1.125</td></tr><tr><td>0.708333</td></tr></tbody></table></div>"
      ],
      "text/plain": [
       "shape: (10,)\n",
       "Series: 'action_weights' [f64]\n",
       "[\n",
       "\t0.938731\n",
       "\t3.754924\n",
       "\t0.940774\n",
       "\t0.877216\n",
       "\t0.9375\n",
       "\t1.190762\n",
       "\t1.126846\n",
       "\t4.507386\n",
       "\t1.125\n",
       "\t0.708333\n",
       "]"
      ]
     },
     "execution_count": 27,
     "metadata": {},
     "output_type": "execute_result"
    }
   ],
   "source": [
    "action_w = pl.DataFrame({\"action_weights\": pl.Series([]).cast(float)})\n",
    "action_w = action_w[\"action_weights\"].append(pl.Series(l))\n",
    "action_w.head()"
   ]
  },
  {
   "cell_type": "code",
   "execution_count": 28,
   "metadata": {},
   "outputs": [],
   "source": [
    "pairs = pairs.with_columns(action_type = pl.Series(l))"
   ]
  },
  {
   "cell_type": "code",
   "execution_count": 29,
   "metadata": {},
   "outputs": [],
   "source": [
    "users = pairs[\"user_id\"].to_numpy().astype(int)\n",
    "vacancies = pairs['vacancy_id'].to_numpy().astype(int)\n",
    "preferences = pairs['action_type'].to_numpy().astype(float)"
   ]
  },
  {
   "cell_type": "code",
   "execution_count": 30,
   "metadata": {},
   "outputs": [
    {
     "data": {
      "text/plain": [
       "array([1570, 1570,  232, ...,  872,  959,  741])"
      ]
     },
     "execution_count": 30,
     "metadata": {},
     "output_type": "execute_result"
    }
   ],
   "source": [
    "users"
   ]
  },
  {
   "cell_type": "code",
   "execution_count": 31,
   "metadata": {},
   "outputs": [
    {
     "data": {
      "text/plain": [
       "array([1304, 1304,  311, ...,  875, 1871, 2018])"
      ]
     },
     "execution_count": 31,
     "metadata": {},
     "output_type": "execute_result"
    }
   ],
   "source": [
    "vacancies"
   ]
  },
  {
   "cell_type": "code",
   "execution_count": 32,
   "metadata": {},
   "outputs": [
    {
     "data": {
      "text/plain": [
       "SeriesView([0.93873094, 3.75492375, 0.94077429, ..., 0.97777653,\n",
       "            1.125     , 1.1875    ])"
      ]
     },
     "execution_count": 32,
     "metadata": {},
     "output_type": "execute_result"
    }
   ],
   "source": [
    "preferences"
   ]
  },
  {
   "cell_type": "code",
   "execution_count": 33,
   "metadata": {},
   "outputs": [
    {
     "data": {
      "text/plain": [
       "<1682x3123 sparse matrix of type '<class 'numpy.float64'>'\n",
       "\twith 8674 stored elements in Compressed Sparse Row format>"
      ]
     },
     "execution_count": 33,
     "metadata": {},
     "output_type": "execute_result"
    }
   ],
   "source": [
    "uv_mat = csr_matrix((preferences, (users, vacancies)))\n",
    "uv_mat"
   ]
  },
  {
   "cell_type": "markdown",
   "metadata": {},
   "source": [
    "# **Working with BERT and ALS**"
   ]
  },
  {
   "cell_type": "code",
   "execution_count": 34,
   "metadata": {},
   "outputs": [
    {
     "name": "stderr",
     "output_type": "stream",
     "text": [
      "c:\\labs\\hse_project\\venv\\Lib\\site-packages\\implicit\\cpu\\als.py:95: RuntimeWarning: OpenBLAS is configured to use 8 threads. It is highly recommended to disable its internal threadpool by setting the environment variable 'OPENBLAS_NUM_THREADS=1' or by calling 'threadpoolctl.threadpool_limits(1, \"blas\")'. Having OpenBLAS use a threadpool can lead to severe performance issues here.\n",
      "  check_blas_config()\n",
      "100%|██████████| 20/20 [00:02<00:00,  7.70it/s, loss=0.00186]\n"
     ]
    }
   ],
   "source": [
    "als_model = implicit.als.AlternatingLeastSquares(\n",
    "    factors=150,\n",
    "    random_state=RANDOM_STATE,\n",
    "    iterations=20,\n",
    "    calculate_training_loss=True,\n",
    "    regularization=0.001\n",
    ")\n",
    "als_model.fit(uv_mat)"
   ]
  },
  {
   "cell_type": "markdown",
   "metadata": {},
   "source": [
    "# **Collecting data for user**"
   ]
  },
  {
   "cell_type": "code",
   "execution_count": 46,
   "metadata": {},
   "outputs": [
    {
     "data": {
      "text/plain": [
       "{'0': 'v_1001643',\n",
       " '1': 'v_1002507',\n",
       " '2': 'v_1004084',\n",
       " '3': 'v_1005147',\n",
       " '4': 'v_1005189',\n",
       " '5': 'v_1005231',\n",
       " '6': 'v_100545',\n",
       " '7': 'v_1006183',\n",
       " '8': 'v_1006816',\n",
       " '9': 'v_1007526',\n",
       " '10': 'v_100795',\n",
       " '11': 'v_1008427',\n",
       " '12': 'v_1008928',\n",
       " '13': 'v_1010890',\n",
       " '14': 'v_1010894',\n",
       " '15': 'v_101119',\n",
       " '16': 'v_1011703',\n",
       " '17': 'v_1011942',\n",
       " '18': 'v_1011956',\n",
       " '19': 'v_101243',\n",
       " '20': 'v_1013173',\n",
       " '21': 'v_1015631',\n",
       " '22': 'v_1016011',\n",
       " '23': 'v_1016907',\n",
       " '24': 'v_1017022',\n",
       " '25': 'v_1018123',\n",
       " '26': 'v_1018159',\n",
       " '27': 'v_1019413',\n",
       " '28': 'v_101985',\n",
       " '29': 'v_102114',\n",
       " '30': 'v_1021332',\n",
       " '31': 'v_1021638',\n",
       " '32': 'v_1021825',\n",
       " '33': 'v_1022229',\n",
       " '34': 'v_1022594',\n",
       " '35': 'v_1025606',\n",
       " '36': 'v_1026630',\n",
       " '37': 'v_1027775',\n",
       " '38': 'v_1028508',\n",
       " '39': 'v_1028853',\n",
       " '40': 'v_10289',\n",
       " '41': 'v_1030003',\n",
       " '42': 'v_1030014',\n",
       " '43': 'v_1032043',\n",
       " '44': 'v_1032093',\n",
       " '45': 'v_1032816',\n",
       " '46': 'v_1033430',\n",
       " '47': 'v_1034177',\n",
       " '48': 'v_1034310',\n",
       " '49': 'v_1034517',\n",
       " '50': 'v_1035409',\n",
       " '51': 'v_1035492',\n",
       " '52': 'v_1038828',\n",
       " '53': 'v_1042065',\n",
       " '54': 'v_1043562',\n",
       " '55': 'v_1043717',\n",
       " '56': 'v_1044555',\n",
       " '57': 'v_1045102',\n",
       " '58': 'v_1045667',\n",
       " '59': 'v_1046246',\n",
       " '60': 'v_1047886',\n",
       " '61': 'v_1048191',\n",
       " '62': 'v_1048719',\n",
       " '63': 'v_1048781',\n",
       " '64': 'v_1048838',\n",
       " '65': 'v_1049158',\n",
       " '66': 'v_104939',\n",
       " '67': 'v_1049848',\n",
       " '68': 'v_1049953',\n",
       " '69': 'v_1051057',\n",
       " '70': 'v_1051612',\n",
       " '71': 'v_1051777',\n",
       " '72': 'v_1051965',\n",
       " '73': 'v_105301',\n",
       " '74': 'v_1054601',\n",
       " '75': 'v_1055364',\n",
       " '76': 'v_1056620',\n",
       " '77': 'v_1058257',\n",
       " '78': 'v_1060068',\n",
       " '79': 'v_106396',\n",
       " '80': 'v_1064962',\n",
       " '81': 'v_1065915',\n",
       " '82': 'v_1066014',\n",
       " '83': 'v_1066185',\n",
       " '84': 'v_1066657',\n",
       " '85': 'v_1066948',\n",
       " '86': 'v_1068759',\n",
       " '87': 'v_106912',\n",
       " '88': 'v_1069193',\n",
       " '89': 'v_1069600',\n",
       " '90': 'v_1070631',\n",
       " '91': 'v_1071379',\n",
       " '92': 'v_1072860',\n",
       " '93': 'v_1074480',\n",
       " '94': 'v_107457',\n",
       " '95': 'v_1075097',\n",
       " '96': 'v_1075557',\n",
       " '97': 'v_1076491',\n",
       " '98': 'v_1076610',\n",
       " '99': 'v_1078010',\n",
       " '100': 'v_1080476',\n",
       " '101': 'v_1080928',\n",
       " '102': 'v_1081741',\n",
       " '103': 'v_1082094',\n",
       " '104': 'v_1082705',\n",
       " '105': 'v_1082758',\n",
       " '106': 'v_1083393',\n",
       " '107': 'v_10835',\n",
       " '108': 'v_1083784',\n",
       " '109': 'v_1085263',\n",
       " '110': 'v_1085714',\n",
       " '111': 'v_1085845',\n",
       " '112': 'v_1087485',\n",
       " '113': 'v_1087935',\n",
       " '114': 'v_1087978',\n",
       " '115': 'v_1088179',\n",
       " '116': 'v_1089222',\n",
       " '117': 'v_1089421',\n",
       " '118': 'v_1089734',\n",
       " '119': 'v_1089951',\n",
       " '120': 'v_1090058',\n",
       " '121': 'v_1090258',\n",
       " '122': 'v_109162',\n",
       " '123': 'v_1092228',\n",
       " '124': 'v_1092326',\n",
       " '125': 'v_1093332',\n",
       " '126': 'v_1095125',\n",
       " '127': 'v_1095940',\n",
       " '128': 'v_1097266',\n",
       " '129': 'v_1097517',\n",
       " '130': 'v_1100229',\n",
       " '131': 'v_1100247',\n",
       " '132': 'v_1101431',\n",
       " '133': 'v_110146',\n",
       " '134': 'v_110242',\n",
       " '135': 'v_1102448',\n",
       " '136': 'v_1103304',\n",
       " '137': 'v_1104241',\n",
       " '138': 'v_1105399',\n",
       " '139': 'v_1106255',\n",
       " '140': 'v_1106311',\n",
       " '141': 'v_1106378',\n",
       " '142': 'v_1106602',\n",
       " '143': 'v_1106755',\n",
       " '144': 'v_1106832',\n",
       " '145': 'v_1107426',\n",
       " '146': 'v_1107492',\n",
       " '147': 'v_110778',\n",
       " '148': 'v_1109018',\n",
       " '149': 'v_1109766',\n",
       " '150': 'v_1111117',\n",
       " '151': 'v_1111162',\n",
       " '152': 'v_1111996',\n",
       " '153': 'v_1112604',\n",
       " '154': 'v_111287',\n",
       " '155': 'v_1113146',\n",
       " '156': 'v_1113191',\n",
       " '157': 'v_1113616',\n",
       " '158': 'v_1114604',\n",
       " '159': 'v_1114825',\n",
       " '160': 'v_1115145',\n",
       " '161': 'v_1115594',\n",
       " '162': 'v_1118396',\n",
       " '163': 'v_1118413',\n",
       " '164': 'v_1118546',\n",
       " '165': 'v_1119295',\n",
       " '166': 'v_1119313',\n",
       " '167': 'v_1119539',\n",
       " '168': 'v_1120854',\n",
       " '169': 'v_112132',\n",
       " '170': 'v_1122213',\n",
       " '171': 'v_1122559',\n",
       " '172': 'v_1124272',\n",
       " '173': 'v_1125239',\n",
       " '174': 'v_11253',\n",
       " '175': 'v_1125743',\n",
       " '176': 'v_1126489',\n",
       " '177': 'v_1126732',\n",
       " '178': 'v_1128157',\n",
       " '179': 'v_1129271',\n",
       " '180': 'v_1129553',\n",
       " '181': 'v_1129776',\n",
       " '182': 'v_1131195',\n",
       " '183': 'v_1131787',\n",
       " '184': 'v_1132334',\n",
       " '185': 'v_113315',\n",
       " '186': 'v_1135683',\n",
       " '187': 'v_1136556',\n",
       " '188': 'v_1138162',\n",
       " '189': 'v_1139622',\n",
       " '190': 'v_1141187',\n",
       " '191': 'v_1142337',\n",
       " '192': 'v_1144010',\n",
       " '193': 'v_1144773',\n",
       " '194': 'v_1145873',\n",
       " '195': 'v_1146470',\n",
       " '196': 'v_1147442',\n",
       " '197': 'v_114764',\n",
       " '198': 'v_1147710',\n",
       " '199': 'v_1148304',\n",
       " '200': 'v_1148669',\n",
       " '201': 'v_1149000',\n",
       " '202': 'v_1151905',\n",
       " '203': 'v_1154542',\n",
       " '204': 'v_1154612',\n",
       " '205': 'v_1154858',\n",
       " '206': 'v_1154949',\n",
       " '207': 'v_1156763',\n",
       " '208': 'v_1158278',\n",
       " '209': 'v_1158543',\n",
       " '210': 'v_1160218',\n",
       " '211': 'v_1160957',\n",
       " '212': 'v_1161342',\n",
       " '213': 'v_116246',\n",
       " '214': 'v_1162752',\n",
       " '215': 'v_116374',\n",
       " '216': 'v_1163961',\n",
       " '217': 'v_1164025',\n",
       " '218': 'v_1164947',\n",
       " '219': 'v_1166404',\n",
       " '220': 'v_1166756',\n",
       " '221': 'v_1167941',\n",
       " '222': 'v_1168981',\n",
       " '223': 'v_1170818',\n",
       " '224': 'v_1172376',\n",
       " '225': 'v_1172388',\n",
       " '226': 'v_1174228',\n",
       " '227': 'v_1175154',\n",
       " '228': 'v_117533',\n",
       " '229': 'v_1175432',\n",
       " '230': 'v_1176401',\n",
       " '231': 'v_1176659',\n",
       " '232': 'v_1177120',\n",
       " '233': 'v_1179452',\n",
       " '234': 'v_1179947',\n",
       " '235': 'v_118114',\n",
       " '236': 'v_1181765',\n",
       " '237': 'v_1181867',\n",
       " '238': 'v_1182133',\n",
       " '239': 'v_1183450',\n",
       " '240': 'v_1184174',\n",
       " '241': 'v_1184761',\n",
       " '242': 'v_1185060',\n",
       " '243': 'v_1185111',\n",
       " '244': 'v_1185929',\n",
       " '245': 'v_1186735',\n",
       " '246': 'v_1186825',\n",
       " '247': 'v_1190079',\n",
       " '248': 'v_119021',\n",
       " '249': 'v_1191688',\n",
       " '250': 'v_1192760',\n",
       " '251': 'v_1192955',\n",
       " '252': 'v_1193328',\n",
       " '253': 'v_1194589',\n",
       " '254': 'v_1196192',\n",
       " '255': 'v_1197385',\n",
       " '256': 'v_1197951',\n",
       " '257': 'v_1198228',\n",
       " '258': 'v_1198269',\n",
       " '259': 'v_1199172',\n",
       " '260': 'v_1200129',\n",
       " '261': 'v_1200481',\n",
       " '262': 'v_1200912',\n",
       " '263': 'v_1201402',\n",
       " '264': 'v_1201437',\n",
       " '265': 'v_1201452',\n",
       " '266': 'v_1202614',\n",
       " '267': 'v_1204039',\n",
       " '268': 'v_1204464',\n",
       " '269': 'v_1206906',\n",
       " '270': 'v_1207331',\n",
       " '271': 'v_120894',\n",
       " '272': 'v_1209226',\n",
       " '273': 'v_1209934',\n",
       " '274': 'v_1210222',\n",
       " '275': 'v_1210394',\n",
       " '276': 'v_1212042',\n",
       " '277': 'v_1213003',\n",
       " '278': 'v_121411',\n",
       " '279': 'v_1214761',\n",
       " '280': 'v_1215372',\n",
       " '281': 'v_1215954',\n",
       " '282': 'v_121851',\n",
       " '283': 'v_1218570',\n",
       " '284': 'v_1219236',\n",
       " '285': 'v_1220028',\n",
       " '286': 'v_1220059',\n",
       " '287': 'v_1220982',\n",
       " '288': 'v_1222387',\n",
       " '289': 'v_122264',\n",
       " '290': 'v_1223131',\n",
       " '291': 'v_1225715',\n",
       " '292': 'v_1225850',\n",
       " '293': 'v_1226202',\n",
       " '294': 'v_1230134',\n",
       " '295': 'v_1230138',\n",
       " '296': 'v_1230612',\n",
       " '297': 'v_1231448',\n",
       " '298': 'v_1232222',\n",
       " '299': 'v_1232313',\n",
       " '300': 'v_1232531',\n",
       " '301': 'v_123261',\n",
       " '302': 'v_1232669',\n",
       " '303': 'v_1234395',\n",
       " '304': 'v_1236156',\n",
       " '305': 'v_1236504',\n",
       " '306': 'v_1236814',\n",
       " '307': 'v_1236997',\n",
       " '308': 'v_1239142',\n",
       " '309': 'v_1240048',\n",
       " '310': 'v_1242085',\n",
       " '311': 'v_1243207',\n",
       " '312': 'v_1244490',\n",
       " '313': 'v_1245175',\n",
       " '314': 'v_1246065',\n",
       " '315': 'v_1246151',\n",
       " '316': 'v_1246556',\n",
       " '317': 'v_1246623',\n",
       " '318': 'v_1248924',\n",
       " '319': 'v_1249670',\n",
       " '320': 'v_1249810',\n",
       " '321': 'v_125185',\n",
       " '322': 'v_1252229',\n",
       " '323': 'v_1252696',\n",
       " '324': 'v_1254079',\n",
       " '325': 'v_1254973',\n",
       " '326': 'v_1255411',\n",
       " '327': 'v_1255453',\n",
       " '328': 'v_1255818',\n",
       " '329': 'v_1256077',\n",
       " '330': 'v_1256232',\n",
       " '331': 'v_1256977',\n",
       " '332': 'v_1257373',\n",
       " '333': 'v_1257923',\n",
       " '334': 'v_1258157',\n",
       " '335': 'v_1259039',\n",
       " '336': 'v_1261128',\n",
       " '337': 'v_1261250',\n",
       " '338': 'v_1261328',\n",
       " '339': 'v_1262373',\n",
       " '340': 'v_1262561',\n",
       " '341': 'v_1262906',\n",
       " '342': 'v_1263190',\n",
       " '343': 'v_1263465',\n",
       " '344': 'v_126416',\n",
       " '345': 'v_1264942',\n",
       " '346': 'v_1266437',\n",
       " '347': 'v_1267078',\n",
       " '348': 'v_1267147',\n",
       " '349': 'v_1267850',\n",
       " '350': 'v_1267914',\n",
       " '351': 'v_1268693',\n",
       " '352': 'v_1269571',\n",
       " '353': 'v_1269633',\n",
       " '354': 'v_126985',\n",
       " '355': 'v_1270823',\n",
       " '356': 'v_1272660',\n",
       " '357': 'v_1272901',\n",
       " '358': 'v_1272908',\n",
       " '359': 'v_1273106',\n",
       " '360': 'v_1273219',\n",
       " '361': 'v_127526',\n",
       " '362': 'v_1275350',\n",
       " '363': 'v_1275770',\n",
       " '364': 'v_1275896',\n",
       " '365': 'v_1277065',\n",
       " '366': 'v_127719',\n",
       " '367': 'v_127770',\n",
       " '368': 'v_1279750',\n",
       " '369': 'v_1280366',\n",
       " '370': 'v_1282701',\n",
       " '371': 'v_1283199',\n",
       " '372': 'v_1284095',\n",
       " '373': 'v_1284508',\n",
       " '374': 'v_1284794',\n",
       " '375': 'v_128516',\n",
       " '376': 'v_1285663',\n",
       " '377': 'v_1286238',\n",
       " '378': 'v_1286642',\n",
       " '379': 'v_1286661',\n",
       " '380': 'v_1289726',\n",
       " '381': 'v_1290064',\n",
       " '382': 'v_1293117',\n",
       " '383': 'v_1295021',\n",
       " '384': 'v_1295454',\n",
       " '385': 'v_1295655',\n",
       " '386': 'v_1296502',\n",
       " '387': 'v_1297432',\n",
       " '388': 'v_1298107',\n",
       " '389': 'v_1300',\n",
       " '390': 'v_1301687',\n",
       " '391': 'v_1301950',\n",
       " '392': 'v_1303278',\n",
       " '393': 'v_1303458',\n",
       " '394': 'v_1304832',\n",
       " '395': 'v_1304900',\n",
       " '396': 'v_130513',\n",
       " '397': 'v_1305843',\n",
       " '398': 'v_1305940',\n",
       " '399': 'v_1306504',\n",
       " '400': 'v_1307318',\n",
       " '401': 'v_1307774',\n",
       " '402': 'v_130779',\n",
       " '403': 'v_1309118',\n",
       " '404': 'v_1311178',\n",
       " '405': 'v_1312648',\n",
       " '406': 'v_1312792',\n",
       " '407': 'v_1312882',\n",
       " '408': 'v_1313365',\n",
       " '409': 'v_1313872',\n",
       " '410': 'v_1314521',\n",
       " '411': 'v_1314655',\n",
       " '412': 'v_1315017',\n",
       " '413': 'v_1315450',\n",
       " '414': 'v_1315762',\n",
       " '415': 'v_1316797',\n",
       " '416': 'v_1317484',\n",
       " '417': 'v_1317831',\n",
       " '418': 'v_1319223',\n",
       " '419': 'v_1320379',\n",
       " '420': 'v_1320575',\n",
       " '421': 'v_1321265',\n",
       " '422': 'v_1323799',\n",
       " '423': 'v_132478',\n",
       " '424': 'v_1325370',\n",
       " '425': 'v_1326476',\n",
       " '426': 'v_1327630',\n",
       " '427': 'v_132767',\n",
       " '428': 'v_1329046',\n",
       " '429': 'v_1329629',\n",
       " '430': 'v_1330818',\n",
       " '431': 'v_1331300',\n",
       " '432': 'v_133140',\n",
       " '433': 'v_1332622',\n",
       " '434': 'v_1332935',\n",
       " '435': 'v_1334405',\n",
       " '436': 'v_1334647',\n",
       " '437': 'v_1334711',\n",
       " '438': 'v_1334843',\n",
       " '439': 'v_1334993',\n",
       " '440': 'v_1336587',\n",
       " '441': 'v_1337141',\n",
       " '442': 'v_1337611',\n",
       " '443': 'v_1337755',\n",
       " '444': 'v_1339249',\n",
       " '445': 'v_1339401',\n",
       " '446': 'v_1339683',\n",
       " '447': 'v_1340369',\n",
       " '448': 'v_1340680',\n",
       " '449': 'v_1341079',\n",
       " '450': 'v_1341559',\n",
       " '451': 'v_1341592',\n",
       " '452': 'v_1341907',\n",
       " '453': 'v_1342032',\n",
       " '454': 'v_1342336',\n",
       " '455': 'v_1342782',\n",
       " '456': 'v_1343037',\n",
       " '457': 'v_1344393',\n",
       " '458': 'v_1344558',\n",
       " '459': 'v_1345388',\n",
       " '460': 'v_1345753',\n",
       " '461': 'v_1345998',\n",
       " '462': 'v_1346506',\n",
       " '463': 'v_1347664',\n",
       " '464': 'v_1348645',\n",
       " '465': 'v_1349281',\n",
       " '466': 'v_1349488',\n",
       " '467': 'v_1349647',\n",
       " '468': 'v_1351215',\n",
       " '469': 'v_1353199',\n",
       " '470': 'v_1353746',\n",
       " '471': 'v_1353913',\n",
       " '472': 'v_13543',\n",
       " '473': 'v_1354952',\n",
       " '474': 'v_1356069',\n",
       " '475': 'v_1356173',\n",
       " '476': 'v_136000',\n",
       " '477': 'v_1361619',\n",
       " '478': 'v_136219',\n",
       " '479': 'v_1363151',\n",
       " '480': 'v_136386',\n",
       " '481': 'v_1365867',\n",
       " '482': 'v_1366211',\n",
       " '483': 'v_1366503',\n",
       " '484': 'v_1366689',\n",
       " '485': 'v_1369650',\n",
       " '486': 'v_1371135',\n",
       " '487': 'v_1371386',\n",
       " '488': 'v_137187',\n",
       " '489': 'v_1373831',\n",
       " '490': 'v_1376202',\n",
       " '491': 'v_1376975',\n",
       " '492': 'v_1378492',\n",
       " '493': 'v_1378673',\n",
       " '494': 'v_137956',\n",
       " '495': 'v_137983',\n",
       " '496': 'v_1380202',\n",
       " '497': 'v_1380597',\n",
       " '498': 'v_1380658',\n",
       " '499': 'v_1383076',\n",
       " '500': 'v_1383454',\n",
       " '501': 'v_1383485',\n",
       " '502': 'v_1383652',\n",
       " '503': 'v_1384103',\n",
       " '504': 'v_1384760',\n",
       " '505': 'v_1386126',\n",
       " '506': 'v_1386854',\n",
       " '507': 'v_1386855',\n",
       " '508': 'v_1387677',\n",
       " '509': 'v_1388112',\n",
       " '510': 'v_138857',\n",
       " '511': 'v_1388725',\n",
       " '512': 'v_1389864',\n",
       " '513': 'v_1391144',\n",
       " '514': 'v_1391490',\n",
       " '515': 'v_139253',\n",
       " '516': 'v_1392534',\n",
       " '517': 'v_1393527',\n",
       " '518': 'v_1393911',\n",
       " '519': 'v_1393966',\n",
       " '520': 'v_1394107',\n",
       " '521': 'v_139445',\n",
       " '522': 'v_1395487',\n",
       " '523': 'v_1395618',\n",
       " '524': 'v_1396337',\n",
       " '525': 'v_1396983',\n",
       " '526': 'v_1397807',\n",
       " '527': 'v_1398566',\n",
       " '528': 'v_1399835',\n",
       " '529': 'v_1400056',\n",
       " '530': 'v_1400771',\n",
       " '531': 'v_1402297',\n",
       " '532': 'v_1403027',\n",
       " '533': 'v_1403115',\n",
       " '534': 'v_1403406',\n",
       " '535': 'v_1403868',\n",
       " '536': 'v_1404103',\n",
       " '537': 'v_1404326',\n",
       " '538': 'v_1405073',\n",
       " '539': 'v_1405410',\n",
       " '540': 'v_140590',\n",
       " '541': 'v_1405945',\n",
       " '542': 'v_140730',\n",
       " '543': 'v_1407375',\n",
       " '544': 'v_1408175',\n",
       " '545': 'v_1410504',\n",
       " '546': 'v_1411491',\n",
       " '547': 'v_1412553',\n",
       " '548': 'v_1412613',\n",
       " '549': 'v_1415261',\n",
       " '550': 'v_1418070',\n",
       " '551': 'v_1419126',\n",
       " '552': 'v_1419261',\n",
       " '553': 'v_1419322',\n",
       " '554': 'v_1419670',\n",
       " '555': 'v_142103',\n",
       " '556': 'v_1421258',\n",
       " '557': 'v_1422097',\n",
       " '558': 'v_1422808',\n",
       " '559': 'v_1424169',\n",
       " '560': 'v_1424561',\n",
       " '561': 'v_1425644',\n",
       " '562': 'v_1425690',\n",
       " '563': 'v_1425710',\n",
       " '564': 'v_1425819',\n",
       " '565': 'v_142725',\n",
       " '566': 'v_1427949',\n",
       " '567': 'v_142797',\n",
       " '568': 'v_1428280',\n",
       " '569': 'v_1428771',\n",
       " '570': 'v_1429232',\n",
       " '571': 'v_1430946',\n",
       " '572': 'v_1430957',\n",
       " '573': 'v_1434802',\n",
       " '574': 'v_1434930',\n",
       " '575': 'v_143641',\n",
       " '576': 'v_1436741',\n",
       " '577': 'v_1437293',\n",
       " '578': 'v_1437967',\n",
       " '579': 'v_1442279',\n",
       " '580': 'v_1442767',\n",
       " '581': 'v_1443994',\n",
       " '582': 'v_1444249',\n",
       " '583': 'v_1445452',\n",
       " '584': 'v_1445464',\n",
       " '585': 'v_1446800',\n",
       " '586': 'v_1446975',\n",
       " '587': 'v_1447180',\n",
       " '588': 'v_1448055',\n",
       " '589': 'v_1448228',\n",
       " '590': 'v_1448917',\n",
       " '591': 'v_1449514',\n",
       " '592': 'v_1450172',\n",
       " '593': 'v_1450342',\n",
       " '594': 'v_1451333',\n",
       " '595': 'v_145193',\n",
       " '596': 'v_1452411',\n",
       " '597': 'v_1453721',\n",
       " '598': 'v_145413',\n",
       " '599': 'v_1454327',\n",
       " '600': 'v_1456358',\n",
       " '601': 'v_1457316',\n",
       " '602': 'v_1459040',\n",
       " '603': 'v_145908',\n",
       " '604': 'v_1459667',\n",
       " '605': 'v_1460128',\n",
       " '606': 'v_1460498',\n",
       " '607': 'v_1461549',\n",
       " '608': 'v_1462020',\n",
       " '609': 'v_1463200',\n",
       " '610': 'v_1465119',\n",
       " '611': 'v_1466015',\n",
       " '612': 'v_1468809',\n",
       " '613': 'v_1470812',\n",
       " '614': 'v_147282',\n",
       " '615': 'v_1473542',\n",
       " '616': 'v_147465',\n",
       " '617': 'v_1474931',\n",
       " '618': 'v_1475160',\n",
       " '619': 'v_147528',\n",
       " '620': 'v_1477173',\n",
       " '621': 'v_1480306',\n",
       " '622': 'v_1481796',\n",
       " '623': 'v_14828',\n",
       " '624': 'v_1483375',\n",
       " '625': 'v_148419',\n",
       " '626': 'v_1484219',\n",
       " '627': 'v_1484731',\n",
       " '628': 'v_148515',\n",
       " '629': 'v_1485657',\n",
       " '630': 'v_1486383',\n",
       " '631': 'v_148643',\n",
       " '632': 'v_148675',\n",
       " '633': 'v_1487439',\n",
       " '634': 'v_1490977',\n",
       " '635': 'v_1491415',\n",
       " '636': 'v_1491940',\n",
       " '637': 'v_1492024',\n",
       " '638': 'v_1492081',\n",
       " '639': 'v_149224',\n",
       " '640': 'v_1492368',\n",
       " '641': 'v_1493690',\n",
       " '642': 'v_1493865',\n",
       " '643': 'v_1493929',\n",
       " '644': 'v_1493956',\n",
       " '645': 'v_1494393',\n",
       " '646': 'v_1494774',\n",
       " '647': 'v_1494884',\n",
       " '648': 'v_1494921',\n",
       " '649': 'v_1495243',\n",
       " '650': 'v_149527',\n",
       " '651': 'v_1496137',\n",
       " '652': 'v_1497249',\n",
       " '653': 'v_149730',\n",
       " '654': 'v_1499054',\n",
       " '655': 'v_1499397',\n",
       " '656': 'v_1500586',\n",
       " '657': 'v_1501727',\n",
       " '658': 'v_150324',\n",
       " '659': 'v_1504334',\n",
       " '660': 'v_150519',\n",
       " '661': 'v_1505652',\n",
       " '662': 'v_1506806',\n",
       " '663': 'v_1507084',\n",
       " '664': 'v_1507927',\n",
       " '665': 'v_1508492',\n",
       " '666': 'v_1509169',\n",
       " '667': 'v_1510979',\n",
       " '668': 'v_1513335',\n",
       " '669': 'v_1514490',\n",
       " '670': 'v_1516021',\n",
       " '671': 'v_1516248',\n",
       " '672': 'v_151658',\n",
       " '673': 'v_1516851',\n",
       " '674': 'v_1517291',\n",
       " '675': 'v_1517823',\n",
       " '676': 'v_1519001',\n",
       " '677': 'v_1519404',\n",
       " '678': 'v_1519891',\n",
       " '679': 'v_1520510',\n",
       " '680': 'v_1523286',\n",
       " '681': 'v_1525352',\n",
       " '682': 'v_1525477',\n",
       " '683': 'v_1525596',\n",
       " '684': 'v_1526447',\n",
       " '685': 'v_1527472',\n",
       " '686': 'v_1528785',\n",
       " '687': 'v_1529196',\n",
       " '688': 'v_1529395',\n",
       " '689': 'v_1529820',\n",
       " '690': 'v_1530075',\n",
       " '691': 'v_1530519',\n",
       " '692': 'v_153084',\n",
       " '693': 'v_1531338',\n",
       " '694': 'v_1531735',\n",
       " '695': 'v_1532002',\n",
       " '696': 'v_1532224',\n",
       " '697': 'v_1535035',\n",
       " '698': 'v_1535241',\n",
       " '699': 'v_1535341',\n",
       " '700': 'v_1535791',\n",
       " '701': 'v_1536119',\n",
       " '702': 'v_1536736',\n",
       " '703': 'v_1536836',\n",
       " '704': 'v_1537002',\n",
       " '705': 'v_1537096',\n",
       " '706': 'v_1537106',\n",
       " '707': 'v_1537899',\n",
       " '708': 'v_1538484',\n",
       " '709': 'v_1539354',\n",
       " '710': 'v_1539754',\n",
       " '711': 'v_1540618',\n",
       " '712': 'v_154177',\n",
       " '713': 'v_1542367',\n",
       " '714': 'v_1543647',\n",
       " '715': 'v_154377',\n",
       " '716': 'v_1545187',\n",
       " '717': 'v_1545912',\n",
       " '718': 'v_1546292',\n",
       " '719': 'v_1546306',\n",
       " '720': 'v_1546511',\n",
       " '721': 'v_1546580',\n",
       " '722': 'v_1546954',\n",
       " '723': 'v_1547092',\n",
       " '724': 'v_1547270',\n",
       " '725': 'v_1548844',\n",
       " '726': 'v_1549135',\n",
       " '727': 'v_1551832',\n",
       " '728': 'v_1552153',\n",
       " '729': 'v_1552204',\n",
       " '730': 'v_1552241',\n",
       " '731': 'v_1552733',\n",
       " '732': 'v_1554635',\n",
       " '733': 'v_1556089',\n",
       " '734': 'v_1556134',\n",
       " '735': 'v_1556977',\n",
       " '736': 'v_155716',\n",
       " '737': 'v_1557804',\n",
       " '738': 'v_1559276',\n",
       " '739': 'v_1559665',\n",
       " '740': 'v_1560014',\n",
       " '741': 'v_1560382',\n",
       " '742': 'v_1560720',\n",
       " '743': 'v_1562200',\n",
       " '744': 'v_1562861',\n",
       " '745': 'v_1563372',\n",
       " '746': 'v_156503',\n",
       " '747': 'v_1565078',\n",
       " '748': 'v_1565494',\n",
       " '749': 'v_1565805',\n",
       " '750': 'v_1565824',\n",
       " '751': 'v_1567212',\n",
       " '752': 'v_1568193',\n",
       " '753': 'v_1569536',\n",
       " '754': 'v_1571011',\n",
       " '755': 'v_1572185',\n",
       " '756': 'v_1572448',\n",
       " '757': 'v_1573640',\n",
       " '758': 'v_1573708',\n",
       " '759': 'v_157545',\n",
       " '760': 'v_1577132',\n",
       " '761': 'v_1577714',\n",
       " '762': 'v_1577760',\n",
       " '763': 'v_1578148',\n",
       " '764': 'v_1579787',\n",
       " '765': 'v_1580787',\n",
       " '766': 'v_1581721',\n",
       " '767': 'v_158230',\n",
       " '768': 'v_1583365',\n",
       " '769': 'v_1583443',\n",
       " '770': 'v_1585121',\n",
       " '771': 'v_1585392',\n",
       " '772': 'v_158746',\n",
       " '773': 'v_1588071',\n",
       " '774': 'v_1588263',\n",
       " '775': 'v_1588517',\n",
       " '776': 'v_1588750',\n",
       " '777': 'v_1591071',\n",
       " '778': 'v_1591733',\n",
       " '779': 'v_1592061',\n",
       " '780': 'v_1592834',\n",
       " '781': 'v_159435',\n",
       " '782': 'v_1594463',\n",
       " '783': 'v_1594540',\n",
       " '784': 'v_1595563',\n",
       " '785': 'v_1595588',\n",
       " '786': 'v_1595652',\n",
       " '787': 'v_1596091',\n",
       " '788': 'v_1596960',\n",
       " '789': 'v_159876',\n",
       " '790': 'v_1599091',\n",
       " '791': 'v_1599114',\n",
       " '792': 'v_1599478',\n",
       " '793': 'v_1599479',\n",
       " '794': 'v_1601706',\n",
       " '795': 'v_1603065',\n",
       " '796': 'v_160318',\n",
       " '797': 'v_1605405',\n",
       " '798': 'v_1605975',\n",
       " '799': 'v_1606139',\n",
       " '800': 'v_1606835',\n",
       " '801': 'v_1608072',\n",
       " '802': 'v_1608129',\n",
       " '803': 'v_160856',\n",
       " '804': 'v_1609078',\n",
       " '805': 'v_1609630',\n",
       " '806': 'v_1610470',\n",
       " '807': 'v_1611635',\n",
       " '808': 'v_1613335',\n",
       " '809': 'v_1613639',\n",
       " '810': 'v_161366',\n",
       " '811': 'v_1614283',\n",
       " '812': 'v_1614505',\n",
       " '813': 'v_1615365',\n",
       " '814': 'v_161655',\n",
       " '815': 'v_1617717',\n",
       " '816': 'v_162067',\n",
       " '817': 'v_1621141',\n",
       " '818': 'v_1621489',\n",
       " '819': 'v_1621559',\n",
       " '820': 'v_162172',\n",
       " '821': 'v_1622294',\n",
       " '822': 'v_1624342',\n",
       " '823': 'v_1625524',\n",
       " '824': 'v_1626003',\n",
       " '825': 'v_1626803',\n",
       " '826': 'v_1626863',\n",
       " '827': 'v_1627370',\n",
       " '828': 'v_162854',\n",
       " '829': 'v_1629401',\n",
       " '830': 'v_1632927',\n",
       " '831': 'v_1633757',\n",
       " '832': 'v_1634728',\n",
       " '833': 'v_1637301',\n",
       " '834': 'v_1638260',\n",
       " '835': 'v_1638819',\n",
       " '836': 'v_1641482',\n",
       " '837': 'v_1641686',\n",
       " '838': 'v_1641789',\n",
       " '839': 'v_1641913',\n",
       " '840': 'v_1642681',\n",
       " '841': 'v_1643697',\n",
       " '842': 'v_1644628',\n",
       " '843': 'v_1644747',\n",
       " '844': 'v_1645438',\n",
       " '845': 'v_164575',\n",
       " '846': 'v_1646617',\n",
       " '847': 'v_165031',\n",
       " '848': 'v_1650326',\n",
       " '849': 'v_1650748',\n",
       " '850': 'v_165376',\n",
       " '851': 'v_1654009',\n",
       " '852': 'v_1654010',\n",
       " '853': 'v_1655086',\n",
       " '854': 'v_1656816',\n",
       " '855': 'v_1659715',\n",
       " '856': 'v_1661912',\n",
       " '857': 'v_1662475',\n",
       " '858': 'v_166277',\n",
       " '859': 'v_1663393',\n",
       " '860': 'v_1666481',\n",
       " '861': 'v_1666751',\n",
       " '862': 'v_1667277',\n",
       " '863': 'v_166780',\n",
       " '864': 'v_1667923',\n",
       " '865': 'v_1668214',\n",
       " '866': 'v_1669274',\n",
       " '867': 'v_1669521',\n",
       " '868': 'v_1669865',\n",
       " '869': 'v_1670216',\n",
       " '870': 'v_1670931',\n",
       " '871': 'v_1671502',\n",
       " '872': 'v_1674099',\n",
       " '873': 'v_1674202',\n",
       " '874': 'v_1674947',\n",
       " '875': 'v_1677107',\n",
       " '876': 'v_1677467',\n",
       " '877': 'v_1677840',\n",
       " '878': 'v_1678070',\n",
       " '879': 'v_1681383',\n",
       " '880': 'v_1681417',\n",
       " '881': 'v_1681981',\n",
       " '882': 'v_1682357',\n",
       " '883': 'v_168256',\n",
       " '884': 'v_1683174',\n",
       " '885': 'v_1683295',\n",
       " '886': 'v_1684608',\n",
       " '887': 'v_1685922',\n",
       " '888': 'v_1687090',\n",
       " '889': 'v_1687524',\n",
       " '890': 'v_1687742',\n",
       " '891': 'v_1688466',\n",
       " '892': 'v_1688854',\n",
       " '893': 'v_1690609',\n",
       " '894': 'v_169070',\n",
       " '895': 'v_1691553',\n",
       " '896': 'v_1692151',\n",
       " '897': 'v_1692787',\n",
       " '898': 'v_169503',\n",
       " '899': 'v_1695036',\n",
       " '900': 'v_1695782',\n",
       " '901': 'v_1701791',\n",
       " '902': 'v_1701976',\n",
       " '903': 'v_1702194',\n",
       " '904': 'v_1702878',\n",
       " '905': 'v_1703446',\n",
       " '906': 'v_170435',\n",
       " '907': 'v_1704671',\n",
       " '908': 'v_1707980',\n",
       " '909': 'v_1708293',\n",
       " '910': 'v_1709586',\n",
       " '911': 'v_1711788',\n",
       " '912': 'v_1714172',\n",
       " '913': 'v_1715142',\n",
       " '914': 'v_1715539',\n",
       " '915': 'v_171562',\n",
       " '916': 'v_1716297',\n",
       " '917': 'v_1717437',\n",
       " '918': 'v_1720622',\n",
       " '919': 'v_1721176',\n",
       " '920': 'v_1721594',\n",
       " '921': 'v_172166',\n",
       " '922': 'v_172216',\n",
       " '923': 'v_1723687',\n",
       " '924': 'v_1724264',\n",
       " '925': 'v_1724458',\n",
       " '926': 'v_17256',\n",
       " '927': 'v_1726045',\n",
       " '928': 'v_1728464',\n",
       " '929': 'v_1729363',\n",
       " '930': 'v_1730020',\n",
       " '931': 'v_173044',\n",
       " '932': 'v_1730613',\n",
       " '933': 'v_17311',\n",
       " '934': 'v_173136',\n",
       " '935': 'v_1731847',\n",
       " '936': 'v_173263',\n",
       " '937': 'v_1732953',\n",
       " '938': 'v_1733226',\n",
       " '939': 'v_1734607',\n",
       " '940': 'v_1736126',\n",
       " '941': 'v_1736566',\n",
       " '942': 'v_1738320',\n",
       " '943': 'v_1738665',\n",
       " '944': 'v_1739974',\n",
       " '945': 'v_1740412',\n",
       " '946': 'v_1740562',\n",
       " '947': 'v_1741429',\n",
       " '948': 'v_1742076',\n",
       " '949': 'v_1742853',\n",
       " '950': 'v_1743328',\n",
       " '951': 'v_1745671',\n",
       " '952': 'v_174633',\n",
       " '953': 'v_1746999',\n",
       " '954': 'v_1747007',\n",
       " '955': 'v_174744',\n",
       " '956': 'v_1748108',\n",
       " '957': 'v_1748968',\n",
       " '958': 'v_1750090',\n",
       " '959': 'v_1750693',\n",
       " '960': 'v_1752456',\n",
       " '961': 'v_1753843',\n",
       " '962': 'v_175393',\n",
       " '963': 'v_175504',\n",
       " '964': 'v_175506',\n",
       " '965': 'v_1756108',\n",
       " '966': 'v_1757377',\n",
       " '967': 'v_1757457',\n",
       " '968': 'v_1757930',\n",
       " '969': 'v_1759224',\n",
       " '970': 'v_1759377',\n",
       " '971': 'v_175951',\n",
       " '972': 'v_1759783',\n",
       " '973': 'v_1761507',\n",
       " '974': 'v_1762585',\n",
       " '975': 'v_1762737',\n",
       " '976': 'v_1763454',\n",
       " '977': 'v_176393',\n",
       " '978': 'v_1764491',\n",
       " '979': 'v_1765235',\n",
       " '980': 'v_1765646',\n",
       " '981': 'v_176573',\n",
       " '982': 'v_1766416',\n",
       " '983': 'v_1767015',\n",
       " '984': 'v_17679',\n",
       " '985': 'v_1768035',\n",
       " '986': 'v_1768562',\n",
       " '987': 'v_1769371',\n",
       " '988': 'v_1769607',\n",
       " '989': 'v_176967',\n",
       " '990': 'v_1770468',\n",
       " '991': 'v_1771442',\n",
       " '992': 'v_1772436',\n",
       " '993': 'v_1772723',\n",
       " '994': 'v_1773429',\n",
       " '995': 'v_1773989',\n",
       " '996': 'v_1774628',\n",
       " '997': 'v_1774739',\n",
       " '998': 'v_1775545',\n",
       " '999': 'v_1775968',\n",
       " ...}"
      ]
     },
     "execution_count": 46,
     "metadata": {},
     "output_type": "execute_result"
    }
   ],
   "source": [
    "idx2vac = {str(vac2idx[i]): i for i in vac2idx}\n",
    "idx2vac"
   ]
  },
  {
   "cell_type": "code",
   "execution_count": 65,
   "metadata": {},
   "outputs": [
    {
     "data": {
      "text/html": [
       "<div><style>\n",
       ".dataframe > thead > tr,\n",
       ".dataframe > tbody > tr {\n",
       "  text-align: right;\n",
       "  white-space: pre-wrap;\n",
       "}\n",
       "</style>\n",
       "<small>shape: (11,)</small><table border=\"1\" class=\"dataframe\"><thead><tr><th>vacancy_id</th></tr><tr><td>str</td></tr></thead><tbody><tr><td>&quot;v_344063&quot;</td></tr><tr><td>&quot;v_730326&quot;</td></tr><tr><td>&quot;v_1585392&quot;</td></tr><tr><td>&quot;v_1932520&quot;</td></tr><tr><td>&quot;v_2562346&quot;</td></tr><tr><td>&quot;v_1811141&quot;</td></tr><tr><td>&quot;v_800988&quot;</td></tr><tr><td>&quot;v_1554635&quot;</td></tr><tr><td>&quot;v_1261128&quot;</td></tr><tr><td>&quot;v_1493865&quot;</td></tr><tr><td>&quot;v_2377427&quot;</td></tr></tbody></table></div>"
      ],
      "text/plain": [
       "shape: (11,)\n",
       "Series: 'vacancy_id' [str]\n",
       "[\n",
       "\t\"v_344063\"\n",
       "\t\"v_730326\"\n",
       "\t\"v_1585392\"\n",
       "\t\"v_1932520\"\n",
       "\t\"v_2562346\"\n",
       "\t\"v_1811141\"\n",
       "\t\"v_800988\"\n",
       "\t\"v_1554635\"\n",
       "\t\"v_1261128\"\n",
       "\t\"v_1493865\"\n",
       "\t\"v_2377427\"\n",
       "]"
      ]
     },
     "execution_count": 65,
     "metadata": {},
     "output_type": "execute_result"
    }
   ],
   "source": [
    "val_vacs = pairs[\"vacancy_id\"].unique().replace(idx2vac).shuffle()[::300]\n",
    "val_vacs"
   ]
  },
  {
   "cell_type": "code",
   "execution_count": 71,
   "metadata": {},
   "outputs": [
    {
     "data": {
      "text/html": [
       "<div><style>\n",
       ".dataframe > thead > tr,\n",
       ".dataframe > tbody > tr {\n",
       "  text-align: right;\n",
       "  white-space: pre-wrap;\n",
       "}\n",
       "</style>\n",
       "<small>shape: (11, 13)</small><table border=\"1\" class=\"dataframe\"><thead><tr><th>vacancy_id</th><th>name</th><th>company.id</th><th>description</th><th>keySkills.keySkill</th><th>compensation.from</th><th>compensation.to</th><th>compensation.currencyCode</th><th>area.id</th><th>area.regionId</th><th>employment</th><th>workSchedule</th><th>workExperience</th></tr><tr><td>str</td><td>str</td><td>str</td><td>str</td><td>list[str]</td><td>i64</td><td>i64</td><td>str</td><td>str</td><td>str</td><td>str</td><td>str</td><td>str</td></tr></thead><tbody><tr><td>&quot;v_1210394&quot;</td><td>&quot;Менеджер по ра…</td><td>&quot;c_270182&quot;</td><td>&quot;&lt;p&gt;Отдел по ра…</td><td>null</td><td>200000</td><td>250000</td><td>&quot;RUR&quot;</td><td>&quot;a_1756&quot;</td><td>&quot;ar_41&quot;</td><td>&quot;full&quot;</td><td>&quot;fullDay&quot;</td><td>&quot;between1And3&quot;</td></tr><tr><td>&quot;v_1316797&quot;</td><td>&quot;Оператор call-…</td><td>&quot;c_256239&quot;</td><td>&quot;&lt;p&gt;&lt;strong&gt;Мед…</td><td>[&quot;Грамотная речь&quot;, &quot;входящие звонки&quot;, … &quot;Прием и распределение телефонных звонков&quot;]</td><td>51000</td><td>null</td><td>&quot;RUR&quot;</td><td>&quot;a_1756&quot;</td><td>&quot;ar_41&quot;</td><td>&quot;full&quot;</td><td>&quot;shift&quot;</td><td>&quot;between1And3&quot;</td></tr><tr><td>&quot;v_241838&quot;</td><td>&quot;Разработчик C#…</td><td>&quot;c_50063&quot;</td><td>&quot;&lt;p&gt;Ищем в кома…</td><td>[&quot;Разработка ПО&quot;, &quot;.NET Core&quot;, … &quot;Git&quot;]</td><td>null</td><td>null</td><td>null</td><td>&quot;a_1756&quot;</td><td>&quot;ar_41&quot;</td><td>&quot;full&quot;</td><td>&quot;flexible&quot;</td><td>&quot;between3And6&quot;</td></tr><tr><td>&quot;v_1922369&quot;</td><td>&quot;Менеджер отдел…</td><td>&quot;c_262513&quot;</td><td>&quot;&lt;p&gt;&lt;strong&gt;Обя…</td><td>null</td><td>120000</td><td>300000</td><td>&quot;RUR&quot;</td><td>&quot;a_1756&quot;</td><td>&quot;ar_41&quot;</td><td>&quot;full&quot;</td><td>&quot;fullDay&quot;</td><td>&quot;noExperience&quot;</td></tr><tr><td>&quot;v_1430957&quot;</td><td>&quot;Менеджер по за…</td><td>&quot;c_256601&quot;</td><td>&quot;&lt;p&gt;&lt;strong&gt;ООО…</td><td>[&quot;Деловая переписка&quot;, &quot;Закупка товаров и услуг&quot;, … &quot;Деловая коммуникация&quot;]</td><td>60000</td><td>null</td><td>&quot;RUR&quot;</td><td>&quot;a_6223&quot;</td><td>&quot;ar_78&quot;</td><td>&quot;full&quot;</td><td>&quot;fullDay&quot;</td><td>&quot;between1And3&quot;</td></tr><tr><td>&quot;v_1106255&quot;</td><td>&quot;Специалист упр…</td><td>&quot;c_62154&quot;</td><td>&quot;&lt;p&gt;&lt;strong&gt;Обя…</td><td>null</td><td>67000</td><td>67000</td><td>&quot;RUR&quot;</td><td>&quot;a_1756&quot;</td><td>&quot;ar_41&quot;</td><td>&quot;full&quot;</td><td>&quot;fullDay&quot;</td><td>&quot;between1And3&quot;</td></tr><tr><td>&quot;v_3304&quot;</td><td>&quot;Оператор интер…</td><td>&quot;c_18877&quot;</td><td>&quot;&lt;p&gt;Привет!&lt;/p&gt;…</td><td>[&quot;Телефонные переговоры&quot;, &quot;оформление заказов&quot;, … &quot;Консультирование клиентов по телефону&quot;]</td><td>40000</td><td>null</td><td>&quot;RUR&quot;</td><td>&quot;a_1756&quot;</td><td>&quot;ar_41&quot;</td><td>&quot;full&quot;</td><td>&quot;remote&quot;</td><td>&quot;between1And3&quot;</td></tr><tr><td>&quot;v_1419670&quot;</td><td>&quot;Системный инже…</td><td>&quot;c_212655&quot;</td><td>&quot;&lt;p&gt;&lt;em&gt;&lt;strong…</td><td>[&quot;Linux&quot;, &quot;SQL&quot;, … &quot;внедрения решений IT&quot;]</td><td>null</td><td>null</td><td>null</td><td>&quot;a_1756&quot;</td><td>&quot;ar_41&quot;</td><td>&quot;full&quot;</td><td>&quot;fullDay&quot;</td><td>&quot;between1And3&quot;</td></tr><tr><td>&quot;v_2336712&quot;</td><td>&quot;Делопроизводит…</td><td>&quot;c_59453&quot;</td><td>&quot;&lt;strong&gt;Обязан…</td><td>[&quot;Пользователь ПК&quot;, &quot;Грамотная речь&quot;, … &quot;работа в ЭДО&quot;]</td><td>35000</td><td>43000</td><td>&quot;RUR&quot;</td><td>&quot;a_1756&quot;</td><td>&quot;ar_41&quot;</td><td>&quot;full&quot;</td><td>&quot;fullDay&quot;</td><td>&quot;between1And3&quot;</td></tr><tr><td>&quot;v_1540618&quot;</td><td>&quot;Финансовый дир…</td><td>&quot;c_274595&quot;</td><td>&quot;&lt;p&gt;Мы выходим …</td><td>[&quot;1С: Предприятие 8&quot;, &quot;Бухгалтерский учет&quot;, … &quot;1С: Управление Торговлей&quot;]</td><td>150000</td><td>null</td><td>&quot;RUR&quot;</td><td>&quot;a_1756&quot;</td><td>&quot;ar_41&quot;</td><td>&quot;full&quot;</td><td>&quot;fullDay&quot;</td><td>&quot;moreThan6&quot;</td></tr><tr><td>&quot;v_1017022&quot;</td><td>&quot;Менеджер по пр…</td><td>&quot;c_241001&quot;</td><td>&quot;&lt;p&gt;&lt;strong&gt;Есл…</td><td>[&quot;Активные продажи&quot;, &quot;Развитие продаж&quot;, … &quot;Навыки переговоров&quot;]</td><td>80000</td><td>150000</td><td>&quot;RUR&quot;</td><td>&quot;a_1696&quot;</td><td>null</td><td>&quot;full&quot;</td><td>&quot;remote&quot;</td><td>&quot;noExperience&quot;</td></tr></tbody></table></div>"
      ],
      "text/plain": [
       "shape: (11, 13)\n",
       "┌───────────┬───────────┬───────────┬───────────┬───┬───────────┬───────────┬───────────┬──────────┐\n",
       "│ vacancy_i ┆ name      ┆ company.i ┆ descripti ┆ … ┆ area.regi ┆ employmen ┆ workSched ┆ workExpe │\n",
       "│ d         ┆ ---       ┆ d         ┆ on        ┆   ┆ onId      ┆ t         ┆ ule       ┆ rience   │\n",
       "│ ---       ┆ str       ┆ ---       ┆ ---       ┆   ┆ ---       ┆ ---       ┆ ---       ┆ ---      │\n",
       "│ str       ┆           ┆ str       ┆ str       ┆   ┆ str       ┆ str       ┆ str       ┆ str      │\n",
       "╞═══════════╪═══════════╪═══════════╪═══════════╪═══╪═══════════╪═══════════╪═══════════╪══════════╡\n",
       "│ v_1210394 ┆ Менеджер  ┆ c_270182  ┆ <p>Отдел  ┆ … ┆ ar_41     ┆ full      ┆ fullDay   ┆ between1 │\n",
       "│           ┆ по        ┆           ┆ по работе ┆   ┆           ┆           ┆           ┆ And3     │\n",
       "│           ┆ развитию  ┆           ┆ с премиал ┆   ┆           ┆           ┆           ┆          │\n",
       "│           ┆ инвестици ┆           ┆ ьным…     ┆   ┆           ┆           ┆           ┆          │\n",
       "│           ┆ он…       ┆           ┆           ┆   ┆           ┆           ┆           ┆          │\n",
       "│ v_1316797 ┆ Оператор  ┆ c_256239  ┆ <p><stron ┆ … ┆ ar_41     ┆ full      ┆ shift     ┆ between1 │\n",
       "│           ┆ call-цент ┆           ┆ g>Медицин ┆   ┆           ┆           ┆           ┆ And3     │\n",
       "│           ┆ ра / Спец ┆           ┆ ский      ┆   ┆           ┆           ┆           ┆          │\n",
       "│           ┆ иалис…    ┆           ┆ центр     ┆   ┆           ┆           ┆           ┆          │\n",
       "│           ┆           ┆           ┆ Мед…      ┆   ┆           ┆           ┆           ┆          │\n",
       "│ v_241838  ┆ Разработч ┆ c_50063   ┆ <p>Ищем в ┆ … ┆ ar_41     ┆ full      ┆ flexible  ┆ between3 │\n",
       "│           ┆ ик        ┆           ┆ команду   ┆   ┆           ┆           ┆           ┆ And6     │\n",
       "│           ┆ C#/.NET,  ┆           ┆ на новый  ┆   ┆           ┆           ┆           ┆          │\n",
       "│           ┆ удаленно  ┆           ┆ масшт…    ┆   ┆           ┆           ┆           ┆          │\n",
       "│ v_1922369 ┆ Менеджер  ┆ c_262513  ┆ <p><stron ┆ … ┆ ar_41     ┆ full      ┆ fullDay   ┆ noExperi │\n",
       "│           ┆ отдела    ┆           ┆ g>Обязанн ┆   ┆           ┆           ┆           ┆ ence     │\n",
       "│           ┆ продаж    ┆           ┆ ости:</st ┆   ┆           ┆           ┆           ┆          │\n",
       "│           ┆ новострое ┆           ┆ rong>…    ┆   ┆           ┆           ┆           ┆          │\n",
       "│           ┆ …         ┆           ┆           ┆   ┆           ┆           ┆           ┆          │\n",
       "│ v_1430957 ┆ Менеджер  ┆ c_256601  ┆ <p><stron ┆ … ┆ ar_78     ┆ full      ┆ fullDay   ┆ between1 │\n",
       "│           ┆ по        ┆           ┆ g>ООО     ┆   ┆           ┆           ┆           ┆ And3     │\n",
       "│           ┆ закупкам  ┆           ┆ «ИНКОР» — ┆   ┆           ┆           ┆           ┆          │\n",
       "│           ┆           ┆           ┆ это дин…  ┆   ┆           ┆           ┆           ┆          │\n",
       "│ v_1106255 ┆ Специалис ┆ c_62154   ┆ <p><stron ┆ … ┆ ar_41     ┆ full      ┆ fullDay   ┆ between1 │\n",
       "│           ┆ т управле ┆           ┆ g>Обязанн ┆   ┆           ┆           ┆           ┆ And3     │\n",
       "│           ┆ ния по    ┆           ┆ ости:</st ┆   ┆           ┆           ┆           ┆          │\n",
       "│           ┆ персона…  ┆           ┆ rong>…    ┆   ┆           ┆           ┆           ┆          │\n",
       "│ v_3304    ┆ Оператор  ┆ c_18877   ┆ <p>Привет ┆ … ┆ ar_41     ┆ full      ┆ remote    ┆ between1 │\n",
       "│           ┆ интернет- ┆           ┆ !</p>     ┆   ┆           ┆           ┆           ┆ And3     │\n",
       "│           ┆ магазина  ┆           ┆ <p>Мы -   ┆   ┆           ┆           ┆           ┆          │\n",
       "│           ┆ Хобби…    ┆           ┆ команда   ┆   ┆           ┆           ┆           ┆          │\n",
       "│           ┆           ┆           ┆ M…        ┆   ┆           ┆           ┆           ┆          │\n",
       "│ v_1419670 ┆ Системный ┆ c_212655  ┆ <p><em><s ┆ … ┆ ar_41     ┆ full      ┆ fullDay   ┆ between1 │\n",
       "│           ┆ инженер в ┆           ┆ trong>Обя ┆   ┆           ┆           ┆           ┆ And3     │\n",
       "│           ┆ группу    ┆           ┆ занности: ┆   ┆           ┆           ┆           ┆          │\n",
       "│           ┆ монит…    ┆           ┆ </str…    ┆   ┆           ┆           ┆           ┆          │\n",
       "│ v_2336712 ┆ Делопроиз ┆ c_59453   ┆ <strong>О ┆ … ┆ ar_41     ┆ full      ┆ fullDay   ┆ between1 │\n",
       "│           ┆ водитель  ┆           ┆ бязанност ┆   ┆           ┆           ┆           ┆ And3     │\n",
       "│           ┆ в         ┆           ┆ и:</stron ┆   ┆           ┆           ┆           ┆          │\n",
       "│           ┆ приемную  ┆           ┆ g> <u…    ┆   ┆           ┆           ┆           ┆          │\n",
       "│ v_1540618 ┆ Финансовы ┆ c_274595  ┆ <p>Мы     ┆ … ┆ ar_41     ┆ full      ┆ fullDay   ┆ moreThan │\n",
       "│           ┆ й         ┆           ┆ выходим   ┆   ┆           ┆           ┆           ┆ 6        │\n",
       "│           ┆ директор  ┆           ┆ на новый  ┆   ┆           ┆           ┆           ┆          │\n",
       "│           ┆           ┆           ┆ уровень   ┆   ┆           ┆           ┆           ┆          │\n",
       "│           ┆           ┆           ┆ р…        ┆   ┆           ┆           ┆           ┆          │\n",
       "│ v_1017022 ┆ Менеджер  ┆ c_241001  ┆ <p><stron ┆ … ┆ null      ┆ full      ┆ remote    ┆ noExperi │\n",
       "│           ┆ по        ┆           ┆ g>Если ты ┆   ┆           ┆           ┆           ┆ ence     │\n",
       "│           ┆ продажам  ┆           ┆ хочешь    ┆   ┆           ┆           ┆           ┆          │\n",
       "│           ┆           ┆           ┆ зараба…   ┆   ┆           ┆           ┆           ┆          │\n",
       "└───────────┴───────────┴───────────┴───────────┴───┴───────────┴───────────┴───────────┴──────────┘"
      ]
     },
     "execution_count": 71,
     "metadata": {},
     "output_type": "execute_result"
    }
   ],
   "source": [
    "vac_df.filter(pl.col(\"vacancy_id\").is_in(pairs[\"vacancy_id\"].unique().replace(idx2vac).shuffle()[::300]))"
   ]
  },
  {
   "cell_type": "code",
   "execution_count": 77,
   "metadata": {},
   "outputs": [],
   "source": [
    "coo_mat = uv_mat.tocoo()"
   ]
  },
  {
   "cell_type": "code",
   "execution_count": 93,
   "metadata": {},
   "outputs": [
    {
     "data": {
      "text/html": [
       "<div><style>\n",
       ".dataframe > thead > tr,\n",
       ".dataframe > tbody > tr {\n",
       "  text-align: right;\n",
       "  white-space: pre-wrap;\n",
       "}\n",
       "</style>\n",
       "<small>shape: (20_696, 3)</small><table border=\"1\" class=\"dataframe\"><thead><tr><th>user_id</th><th>vacancy_id</th><th>action_type</th></tr><tr><td>str</td><td>str</td><td>f64</td></tr></thead><tbody><tr><td>&quot;1570&quot;</td><td>&quot;1304&quot;</td><td>0.938731</td></tr><tr><td>&quot;1570&quot;</td><td>&quot;1304&quot;</td><td>3.754924</td></tr><tr><td>&quot;232&quot;</td><td>&quot;311&quot;</td><td>0.940774</td></tr><tr><td>&quot;245&quot;</td><td>&quot;2182&quot;</td><td>0.877216</td></tr><tr><td>&quot;173&quot;</td><td>&quot;2996&quot;</td><td>0.9375</td></tr><tr><td>&quot;1133&quot;</td><td>&quot;507&quot;</td><td>1.190762</td></tr><tr><td>&quot;861&quot;</td><td>&quot;978&quot;</td><td>1.126846</td></tr><tr><td>&quot;861&quot;</td><td>&quot;978&quot;</td><td>4.507386</td></tr><tr><td>&quot;861&quot;</td><td>&quot;2640&quot;</td><td>1.125</td></tr><tr><td>&quot;170&quot;</td><td>&quot;1015&quot;</td><td>0.708333</td></tr><tr><td>&quot;1539&quot;</td><td>&quot;977&quot;</td><td>0.856136</td></tr><tr><td>&quot;232&quot;</td><td>&quot;2100&quot;</td><td>0.939962</td></tr><tr><td>&hellip;</td><td>&hellip;</td><td>&hellip;</td></tr><tr><td>&quot;733&quot;</td><td>&quot;1931&quot;</td><td>2.2516</td></tr><tr><td>&quot;1293&quot;</td><td>&quot;1196&quot;</td><td>1.127831</td></tr><tr><td>&quot;1270&quot;</td><td>&quot;2409&quot;</td><td>1.125</td></tr><tr><td>&quot;1270&quot;</td><td>&quot;947&quot;</td><td>0.708333</td></tr><tr><td>&quot;872&quot;</td><td>&quot;2809&quot;</td><td>1.125</td></tr><tr><td>&quot;202&quot;</td><td>&quot;968&quot;</td><td>1.126969</td></tr><tr><td>&quot;1678&quot;</td><td>&quot;1899&quot;</td><td>0.938854</td></tr><tr><td>&quot;723&quot;</td><td>&quot;2616&quot;</td><td>0.977777</td></tr><tr><td>&quot;872&quot;</td><td>&quot;1343&quot;</td><td>0.708333</td></tr><tr><td>&quot;872&quot;</td><td>&quot;875&quot;</td><td>0.977777</td></tr><tr><td>&quot;959&quot;</td><td>&quot;1871&quot;</td><td>1.125</td></tr><tr><td>&quot;741&quot;</td><td>&quot;2018&quot;</td><td>1.1875</td></tr></tbody></table></div>"
      ],
      "text/plain": [
       "shape: (20_696, 3)\n",
       "┌─────────┬────────────┬─────────────┐\n",
       "│ user_id ┆ vacancy_id ┆ action_type │\n",
       "│ ---     ┆ ---        ┆ ---         │\n",
       "│ str     ┆ str        ┆ f64         │\n",
       "╞═════════╪════════════╪═════════════╡\n",
       "│ 1570    ┆ 1304       ┆ 0.938731    │\n",
       "│ 1570    ┆ 1304       ┆ 3.754924    │\n",
       "│ 232     ┆ 311        ┆ 0.940774    │\n",
       "│ 245     ┆ 2182       ┆ 0.877216    │\n",
       "│ 173     ┆ 2996       ┆ 0.9375      │\n",
       "│ …       ┆ …          ┆ …           │\n",
       "│ 723     ┆ 2616       ┆ 0.977777    │\n",
       "│ 872     ┆ 1343       ┆ 0.708333    │\n",
       "│ 872     ┆ 875        ┆ 0.977777    │\n",
       "│ 959     ┆ 1871       ┆ 1.125       │\n",
       "│ 741     ┆ 2018       ┆ 1.1875      │\n",
       "└─────────┴────────────┴─────────────┘"
      ]
     },
     "execution_count": 93,
     "metadata": {},
     "output_type": "execute_result"
    }
   ],
   "source": [
    "pairs"
   ]
  },
  {
   "cell_type": "code",
   "execution_count": 95,
   "metadata": {},
   "outputs": [],
   "source": [
    "prepared_data = pl.DataFrame({'users': coo_mat.row,\n",
    "                              'vacancies': coo_mat.col,\n",
    "                              'preferences': coo_mat.data})\n",
    "vac2idx_data = pl.DataFrame({\"vacancy_id\": vac2idx.keys(), \"idx\": vac2idx.values()})\n",
    "user2idx_data = pl.DataFrame({\"user_id\": user2idx.keys(), \"idx\": user2idx.values()})\n",
    "# prepared_data.write_parquet(\"C:\\labs\\hh_hack\\hh_prepared_data.pq\")\n",
    "# vac2idx_data.write_parquet(\"C:\\labs\\hh_hack\\hh_vac2idx_data.pq\")\n",
    "# user2idx_data.write_parquet(\"C:\\labs\\hh_hack\\hh_user2idx_data.pq\")"
   ]
  },
  {
   "cell_type": "code",
   "execution_count": 100,
   "metadata": {},
   "outputs": [
    {
     "data": {
      "text/plain": [
       "'<strong>Обязанности:</strong> <ul> <li>Осуществлять контроль за соблюдением посетителями правил поведения в музее</li> <li>При возникновении угрозы повреждения или кражи музейных предметов информировать руководство музея</li> </ul> <strong>Требования:</strong> <ul> <li>образование средне-специальное или высшее</li> <li>музейное дело, культурология</li> </ul> <strong>Условия:</strong> <ul> <li>Выходные: 2 дня. График с 09:00 до 18:00, по четвергам с 11:00 до 20:00</li> <li>Обед скользящий</li> </ul>'"
      ]
     },
     "execution_count": 100,
     "metadata": {},
     "output_type": "execute_result"
    }
   ],
   "source": [
    "vac_df[0][\"description\"].item()"
   ]
  },
  {
   "cell_type": "code",
   "execution_count": null,
   "metadata": {},
   "outputs": [],
   "source": [
    "from prompt_toolkit import print_formatted_text, HTML\n",
    "\n",
    "print_formatted_text(HTML(\"'<strong>Обязанности:</strong> <ul> <li>Осуществлять контроль за соблюдением посетителями правил поведения в музее</li> <li>При возникновении угрозы повреждения или кражи музейных предметов информировать руководство музея</li> </ul> <strong>Требования:</strong> <ul> <li>образование средне-специальное или высшее</li> <li>музейное дело, культурология</li> </ul> <strong>Условия:</strong> <ul> <li>Выходные: 2 дня. График с 09:00 до 18:00, по четвергам с 11:00 до 20:00</li> <li>Обед скользящий</li> </ul>'\"))"
   ]
  }
 ],
 "metadata": {
  "kernelspec": {
   "display_name": "Python 3",
   "language": "python",
   "name": "python3"
  },
  "language_info": {
   "codemirror_mode": {
    "name": "ipython",
    "version": 3
   },
   "file_extension": ".py",
   "mimetype": "text/x-python",
   "name": "python",
   "nbconvert_exporter": "python",
   "pygments_lexer": "ipython3",
   "version": "3.11.8"
  }
 },
 "nbformat": 4,
 "nbformat_minor": 2
}
