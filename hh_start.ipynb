{
 "cells": [
  {
   "cell_type": "markdown",
   "metadata": {},
   "source": [
    "# **Import packages and open data**"
   ]
  },
  {
   "cell_type": "code",
   "execution_count": 1,
   "metadata": {},
   "outputs": [
    {
     "name": "stderr",
     "output_type": "stream",
     "text": [
      "c:\\labs\\hse_project\\venv\\Lib\\site-packages\\tqdm\\auto.py:21: TqdmWarning: IProgress not found. Please update jupyter and ipywidgets. See https://ipywidgets.readthedocs.io/en/stable/user_install.html\n",
      "  from .autonotebook import tqdm as notebook_tqdm\n"
     ]
    }
   ],
   "source": [
    "import polars as pl\n",
    "import numpy as np\n",
    "import re\n",
    "from tqdm import tqdm\n",
    "from scipy.sparse import csr_matrix\n",
    "from torch import nn\n",
    "import implicit\n",
    "from transformers import BertModel, BertTokenizer\n",
    "\n",
    "RANDOM_STATE = 42\n",
    "N_PREDICTIONS = 100"
   ]
  },
  {
   "cell_type": "code",
   "execution_count": 2,
   "metadata": {},
   "outputs": [],
   "source": [
    "train_df = pl.read_parquet(\"C:\\labs\\hh_hack\\hh_recsys_train_hh.pq\")\n",
    "test_df = pl.read_parquet(\"C:\\labs\\hh_hack\\hh_recsys_test_hh.pq\")\n",
    "vac_df = pl.read_parquet(\"C:\\labs\\hh_hack\\hh_recsys_vacancies.pq\")"
   ]
  },
  {
   "cell_type": "markdown",
   "metadata": {},
   "source": [
    "# **Work with vacancies**"
   ]
  },
  {
   "cell_type": "code",
   "execution_count": 3,
   "metadata": {},
   "outputs": [
    {
     "data": {
      "text/html": [
       "<div><style>\n",
       ".dataframe > thead > tr,\n",
       ".dataframe > tbody > tr {\n",
       "  text-align: right;\n",
       "  white-space: pre-wrap;\n",
       "}\n",
       "</style>\n",
       "<small>shape: (5, 13)</small><table border=\"1\" class=\"dataframe\"><thead><tr><th>vacancy_id</th><th>name</th><th>company.id</th><th>description</th><th>keySkills.keySkill</th><th>compensation.from</th><th>compensation.to</th><th>compensation.currencyCode</th><th>area.id</th><th>area.regionId</th><th>employment</th><th>workSchedule</th><th>workExperience</th></tr><tr><td>str</td><td>str</td><td>str</td><td>str</td><td>list[str]</td><td>i64</td><td>i64</td><td>str</td><td>str</td><td>str</td><td>str</td><td>str</td><td>str</td></tr></thead><tbody><tr><td>&quot;v_862116&quot;</td><td>&quot;Смотритель муз…</td><td>&quot;c_162972&quot;</td><td>&quot;&lt;strong&gt;Обязан…</td><td>[&quot;Пользователь ПК&quot;, &quot;Работа в команде&quot;, … &quot;PR-консультирование&quot;]</td><td>16500</td><td>null</td><td>&quot;RUR&quot;</td><td>&quot;a_4761&quot;</td><td>&quot;ar_33&quot;</td><td>&quot;full&quot;</td><td>&quot;fullDay&quot;</td><td>&quot;noExperience&quot;</td></tr><tr><td>&quot;v_288642&quot;</td><td>&quot;Ведущий менедж…</td><td>&quot;c_208672&quot;</td><td>&quot;&lt;p&gt;&lt;strong&gt;Воз…</td><td>[&quot;Активные продажи&quot;, &quot;Холодные продажи&quot;, … &quot;Организация мероприятий&quot;]</td><td>50000</td><td>null</td><td>&quot;RUR&quot;</td><td>&quot;a_744&quot;</td><td>&quot;ar_2&quot;</td><td>&quot;full&quot;</td><td>&quot;fullDay&quot;</td><td>&quot;noExperience&quot;</td></tr><tr><td>&quot;v_1840054&quot;</td><td>&quot;Бухгалтер (по …</td><td>&quot;c_198109&quot;</td><td>&quot;&lt;strong&gt;Обязан…</td><td>null</td><td>50000</td><td>65000</td><td>&quot;RUR&quot;</td><td>&quot;a_6223&quot;</td><td>&quot;ar_78&quot;</td><td>&quot;full&quot;</td><td>&quot;fullDay&quot;</td><td>&quot;between3And6&quot;</td></tr><tr><td>&quot;v_2346232&quot;</td><td>&quot;Пекарь (Токсов…</td><td>&quot;c_6137&quot;</td><td>&quot;&lt;p&gt;&lt;strong&gt;Для…</td><td>null</td><td>38500</td><td>42000</td><td>&quot;RUR&quot;</td><td>&quot;a_4795&quot;</td><td>&quot;ar_51&quot;</td><td>&quot;full&quot;</td><td>&quot;fullDay&quot;</td><td>&quot;noExperience&quot;</td></tr><tr><td>&quot;v_312507&quot;</td><td>&quot;Торговый предс…</td><td>&quot;c_206699&quot;</td><td>&quot;&lt;p&gt;Компания ТД…</td><td>[&quot;Продуктивность&quot;, &quot;Клиентоориентированность&quot;, … &quot;Развитие продаж&quot;]</td><td>60000</td><td>null</td><td>&quot;RUR&quot;</td><td>&quot;a_6837&quot;</td><td>&quot;ar_4&quot;</td><td>&quot;full&quot;</td><td>&quot;fullDay&quot;</td><td>&quot;between1And3&quot;</td></tr></tbody></table></div>"
      ],
      "text/plain": [
       "shape: (5, 13)\n",
       "┌───────────┬───────────┬───────────┬───────────┬───┬───────────┬───────────┬───────────┬──────────┐\n",
       "│ vacancy_i ┆ name      ┆ company.i ┆ descripti ┆ … ┆ area.regi ┆ employmen ┆ workSched ┆ workExpe │\n",
       "│ d         ┆ ---       ┆ d         ┆ on        ┆   ┆ onId      ┆ t         ┆ ule       ┆ rience   │\n",
       "│ ---       ┆ str       ┆ ---       ┆ ---       ┆   ┆ ---       ┆ ---       ┆ ---       ┆ ---      │\n",
       "│ str       ┆           ┆ str       ┆ str       ┆   ┆ str       ┆ str       ┆ str       ┆ str      │\n",
       "╞═══════════╪═══════════╪═══════════╪═══════════╪═══╪═══════════╪═══════════╪═══════════╪══════════╡\n",
       "│ v_862116  ┆ Смотрител ┆ c_162972  ┆ <strong>О ┆ … ┆ ar_33     ┆ full      ┆ fullDay   ┆ noExperi │\n",
       "│           ┆ ь         ┆           ┆ бязанност ┆   ┆           ┆           ┆           ┆ ence     │\n",
       "│           ┆ музейный  ┆           ┆ и:</stron ┆   ┆           ┆           ┆           ┆          │\n",
       "│           ┆           ┆           ┆ g> <u…    ┆   ┆           ┆           ┆           ┆          │\n",
       "│ v_288642  ┆ Ведущий   ┆ c_208672  ┆ <p><stron ┆ … ┆ ar_2      ┆ full      ┆ fullDay   ┆ noExperi │\n",
       "│           ┆ менеджер  ┆           ┆ g>Возможн ┆   ┆           ┆           ┆           ┆ ence     │\n",
       "│           ┆ по работе ┆           ┆ о, наша   ┆   ┆           ┆           ┆           ┆          │\n",
       "│           ┆ с физ…    ┆           ┆ ваканс…   ┆   ┆           ┆           ┆           ┆          │\n",
       "│ v_1840054 ┆ Бухгалтер ┆ c_198109  ┆ <strong>О ┆ … ┆ ar_78     ┆ full      ┆ fullDay   ┆ between3 │\n",
       "│           ┆ (по       ┆           ┆ бязанност ┆   ┆           ┆           ┆           ┆ And6     │\n",
       "│           ┆ расчету   ┆           ┆ и:</stron ┆   ┆           ┆           ┆           ┆          │\n",
       "│           ┆ зарплаты) ┆           ┆ g> <u…    ┆   ┆           ┆           ┆           ┆          │\n",
       "│ v_2346232 ┆ Пекарь    ┆ c_6137    ┆ <p><stron ┆ … ┆ ar_51     ┆ full      ┆ fullDay   ┆ noExperi │\n",
       "│           ┆ (Токсово, ┆           ┆ g>Для     ┆   ┆           ┆           ┆           ┆ ence     │\n",
       "│           ┆ Привокзал ┆           ┆ каждого,  ┆   ┆           ┆           ┆           ┆          │\n",
       "│           ┆ ьная, …   ┆           ┆ кто хоче… ┆   ┆           ┆           ┆           ┆          │\n",
       "│ v_312507  ┆ Торговый  ┆ c_206699  ┆ <p>Компан ┆ … ┆ ar_4      ┆ full      ┆ fullDay   ┆ between1 │\n",
       "│           ┆ представи ┆           ┆ ия ТД &qu ┆   ┆           ┆           ┆           ┆ And3     │\n",
       "│           ┆ тель (г.  ┆           ┆ ot;Оливье ┆   ┆           ┆           ┆           ┆          │\n",
       "│           ┆ Абака…    ┆           ┆ ра&qu…    ┆   ┆           ┆           ┆           ┆          │\n",
       "└───────────┴───────────┴───────────┴───────────┴───┴───────────┴───────────┴───────────┴──────────┘"
      ]
     },
     "execution_count": 3,
     "metadata": {},
     "output_type": "execute_result"
    }
   ],
   "source": [
    "vac_df.head()"
   ]
  },
  {
   "cell_type": "code",
   "execution_count": 4,
   "metadata": {},
   "outputs": [
    {
     "data": {
      "text/html": [
       "<div><style>\n",
       ".dataframe > thead > tr,\n",
       ".dataframe > tbody > tr {\n",
       "  text-align: right;\n",
       "  white-space: pre-wrap;\n",
       "}\n",
       "</style>\n",
       "<small>shape: (9, 14)</small><table border=\"1\" class=\"dataframe\"><thead><tr><th>statistic</th><th>vacancy_id</th><th>name</th><th>company.id</th><th>description</th><th>keySkills.keySkill</th><th>compensation.from</th><th>compensation.to</th><th>compensation.currencyCode</th><th>area.id</th><th>area.regionId</th><th>employment</th><th>workSchedule</th><th>workExperience</th></tr><tr><td>str</td><td>str</td><td>str</td><td>str</td><td>str</td><td>f64</td><td>f64</td><td>f64</td><td>str</td><td>str</td><td>str</td><td>str</td><td>str</td><td>str</td></tr></thead><tbody><tr><td>&quot;count&quot;</td><td>&quot;2734129&quot;</td><td>&quot;2734129&quot;</td><td>&quot;2734129&quot;</td><td>&quot;2734129&quot;</td><td>1.498838e6</td><td>2.067784e6</td><td>1.237135e6</td><td>&quot;2220766&quot;</td><td>&quot;2734129&quot;</td><td>&quot;2712786&quot;</td><td>&quot;2734129&quot;</td><td>&quot;2734129&quot;</td><td>&quot;2734129&quot;</td></tr><tr><td>&quot;null_count&quot;</td><td>&quot;0&quot;</td><td>&quot;0&quot;</td><td>&quot;0&quot;</td><td>&quot;0&quot;</td><td>1.235291e6</td><td>666345.0</td><td>1.496994e6</td><td>&quot;513363&quot;</td><td>&quot;0&quot;</td><td>&quot;21343&quot;</td><td>&quot;0&quot;</td><td>&quot;0&quot;</td><td>&quot;0&quot;</td></tr><tr><td>&quot;mean&quot;</td><td>null</td><td>null</td><td>null</td><td>null</td><td>null</td><td>67860.137144</td><td>95380.003839</td><td>null</td><td>null</td><td>null</td><td>null</td><td>null</td><td>null</td></tr><tr><td>&quot;std&quot;</td><td>null</td><td>null</td><td>null</td><td>null</td><td>null</td><td>694490.816107</td><td>910186.501464</td><td>null</td><td>null</td><td>null</td><td>null</td><td>null</td><td>null</td></tr><tr><td>&quot;min&quot;</td><td>&quot;v_0&quot;</td><td>&quot;!Токарь 4,5 ра…</td><td>&quot;c_0&quot;</td><td>&quot;\r\n",
       " Требования:…</td><td>null</td><td>1.0</td><td>1.0</td><td>&quot;AZN&quot;</td><td>&quot;a_0&quot;</td><td>&quot;ar_0&quot;</td><td>&quot;full&quot;</td><td>&quot;flexible&quot;</td><td>&quot;between1And3&quot;</td></tr><tr><td>&quot;25%&quot;</td><td>null</td><td>null</td><td>null</td><td>null</td><td>null</td><td>40000.0</td><td>50000.0</td><td>null</td><td>null</td><td>null</td><td>null</td><td>null</td><td>null</td></tr><tr><td>&quot;50%&quot;</td><td>null</td><td>null</td><td>null</td><td>null</td><td>null</td><td>55000.0</td><td>70000.0</td><td>null</td><td>null</td><td>null</td><td>null</td><td>null</td><td>null</td></tr><tr><td>&quot;75%&quot;</td><td>null</td><td>null</td><td>null</td><td>null</td><td>null</td><td>80000.0</td><td>120000.0</td><td>null</td><td>null</td><td>null</td><td>null</td><td>null</td><td>null</td></tr><tr><td>&quot;max&quot;</td><td>&quot;v_999999&quot;</td><td>&quot;𓆉 Менеджер по …</td><td>&quot;c_99999&quot;</td><td>&quot;️Требования_&lt;b…</td><td>null</td><td>9.91788366e8</td><td>9.91788366e8</td><td>&quot;UZS&quot;</td><td>&quot;a_999&quot;</td><td>&quot;ar_99&quot;</td><td>&quot;volunteer&quot;</td><td>&quot;shift&quot;</td><td>&quot;noExperience&quot;</td></tr></tbody></table></div>"
      ],
      "text/plain": [
       "shape: (9, 14)\n",
       "┌───────────┬───────────┬───────────┬───────────┬───┬───────────┬───────────┬───────────┬──────────┐\n",
       "│ statistic ┆ vacancy_i ┆ name      ┆ company.i ┆ … ┆ area.regi ┆ employmen ┆ workSched ┆ workExpe │\n",
       "│ ---       ┆ d         ┆ ---       ┆ d         ┆   ┆ onId      ┆ t         ┆ ule       ┆ rience   │\n",
       "│ str       ┆ ---       ┆ str       ┆ ---       ┆   ┆ ---       ┆ ---       ┆ ---       ┆ ---      │\n",
       "│           ┆ str       ┆           ┆ str       ┆   ┆ str       ┆ str       ┆ str       ┆ str      │\n",
       "╞═══════════╪═══════════╪═══════════╪═══════════╪═══╪═══════════╪═══════════╪═══════════╪══════════╡\n",
       "│ count     ┆ 2734129   ┆ 2734129   ┆ 2734129   ┆ … ┆ 2712786   ┆ 2734129   ┆ 2734129   ┆ 2734129  │\n",
       "│ null_coun ┆ 0         ┆ 0         ┆ 0         ┆ … ┆ 21343     ┆ 0         ┆ 0         ┆ 0        │\n",
       "│ t         ┆           ┆           ┆           ┆   ┆           ┆           ┆           ┆          │\n",
       "│ mean      ┆ null      ┆ null      ┆ null      ┆ … ┆ null      ┆ null      ┆ null      ┆ null     │\n",
       "│ std       ┆ null      ┆ null      ┆ null      ┆ … ┆ null      ┆ null      ┆ null      ┆ null     │\n",
       "│ min       ┆ v_0       ┆ !Токарь   ┆ c_0       ┆ … ┆ ar_0      ┆ full      ┆ flexible  ┆ between1 │\n",
       "│           ┆           ┆ 4,5       ┆           ┆   ┆           ┆           ┆           ┆ And3     │\n",
       "│           ┆           ┆ разряд!   ┆           ┆   ┆           ┆           ┆           ┆          │\n",
       "│ 25%       ┆ null      ┆ null      ┆ null      ┆ … ┆ null      ┆ null      ┆ null      ┆ null     │\n",
       "│ 50%       ┆ null      ┆ null      ┆ null      ┆ … ┆ null      ┆ null      ┆ null      ┆ null     │\n",
       "│ 75%       ┆ null      ┆ null      ┆ null      ┆ … ┆ null      ┆ null      ┆ null      ┆ null     │\n",
       "│ max       ┆ v_999999  ┆ 𓆉         ┆ c_99999   ┆ … ┆ ar_99     ┆ volunteer ┆ shift     ┆ noExperi │\n",
       "│           ┆           ┆ Менеджер  ┆           ┆   ┆           ┆           ┆           ┆ ence     │\n",
       "│           ┆           ┆ по работе ┆           ┆   ┆           ┆           ┆           ┆          │\n",
       "│           ┆           ┆ с         ┆           ┆   ┆           ┆           ┆           ┆          │\n",
       "│           ┆           ┆ клиентами ┆           ┆   ┆           ┆           ┆           ┆          │\n",
       "└───────────┴───────────┴───────────┴───────────┴───┴───────────┴───────────┴───────────┴──────────┘"
      ]
     },
     "execution_count": 4,
     "metadata": {},
     "output_type": "execute_result"
    }
   ],
   "source": [
    "vac_df.describe()"
   ]
  },
  {
   "cell_type": "code",
   "execution_count": 5,
   "metadata": {},
   "outputs": [
    {
     "data": {
      "text/plain": [
       "(109, 9129)"
      ]
     },
     "execution_count": 5,
     "metadata": {},
     "output_type": "execute_result"
    }
   ],
   "source": [
    "vac_df.shape[0]//25_000, vac_df.shape[0]%25_000"
   ]
  },
  {
   "cell_type": "code",
   "execution_count": 8,
   "metadata": {},
   "outputs": [],
   "source": [
    "area_id = sorted(vac_df[\"area.id\"].unique().to_list())\n",
    "empl = sorted(vac_df[\"employment\"].unique().to_list())\n",
    "work_sch = sorted(vac_df[\"workSchedule\"].unique().to_list())\n",
    "work_exp = sorted(vac_df[\"workExperience\"].unique().to_list())\n",
    "area2idx = {area_id[i] : i for i in range(len(area_id))}\n",
    "empl2idx = {empl[i] : i for i in range(len(empl))}\n",
    "sch2idx = {work_sch[i] : i for i in range(len(work_sch))}\n",
    "exp2idx = {work_exp[i] : i for i in range(len(work_exp))}\n",
    "# features = pl.DataFrame()\n",
    "# for v in tqdm(range(1, 50)):\n",
    "#     lb = (v-1)*25_000\n",
    "#     rb = v*25_000\n",
    "#     cur = vac_df[lb:rb].drop(\"company.id\", \"compensation.currencyCode\", \"area.regionId\")\n",
    "#     cur = cur.with_columns(vac_df[lb:rb][\"keySkills.keySkill\"].fill_null([\"\"]).alias(\"keySkills.keySkill\"))\n",
    "#     cur = cur.with_columns(cur[\"description\"].map_elements(lambda x: ''.join(re.split(r'</[a-z]+>|<[a-z]+>', str(x))).split()).alias(\"description\"))\n",
    "#     cur = cur.with_columns(cur[\"compensation.from\"].fill_null(0).alias(\"compensation.from\"))\n",
    "#     cur = cur.with_columns(cur[\"compensation.to\"].fill_null(0).alias(\"compensation.to\")).with_columns(pl.Series(\"compensation.to\", [cur[\"compensation.to\"][i] if cur[\"compensation.to\"][i]!=0 else cur[\"compensation.from\"][i] for i in range(25_000)]).alias(\"compensation.to\"))\n",
    "#     cur = cur.with_columns(cur[\"area.id\"].map_elements(lambda x: area2idx[x]).alias(\"area.id\"))\n",
    "#     cur = cur.with_columns(cur[\"employment\"].map_elements(lambda x: empl2idx[x]).alias(\"employment\"))\n",
    "#     cur = cur.with_columns(cur[\"workSchedule\"].map_elements(lambda x: sch2idx[x]).alias(\"workSchedule\"))\n",
    "#     cur = cur.with_columns(cur[\"workExperience\"].map_elements(lambda x: exp2idx[x]).alias(\"workExperience\"))\n",
    "#     features = pl.concat([features, cur])\n",
    "# features.write_parquet(\"C:\\labs\\hh_hack\\extracted_features.pq\")"
   ]
  },
  {
   "cell_type": "code",
   "execution_count": 9,
   "metadata": {},
   "outputs": [
    {
     "name": "stderr",
     "output_type": "stream",
     "text": [
      "  0%|          | 0/60 [00:00<?, ?it/s]C:\\Users\\lozhn\\AppData\\Local\\Temp\\ipykernel_14180\\3843927906.py:10: PolarsInefficientMapWarning: \n",
      "Series.map_elements is significantly slower than the native series API.\n",
      "Only use if you absolutely CANNOT implement your logic otherwise.\n",
      "Replace this expression...\n",
      "  - s.map_elements(lambda x: ...)\n",
      "with this one instead:\n",
      "  + s.replace(area2idx)\n",
      "\n",
      "  cur = cur.with_columns(cur[\"area.id\"].map_elements(lambda x: area2idx[x]).alias(\"area.id\"))\n",
      "C:\\Users\\lozhn\\AppData\\Local\\Temp\\ipykernel_14180\\3843927906.py:11: PolarsInefficientMapWarning: \n",
      "Series.map_elements is significantly slower than the native series API.\n",
      "Only use if you absolutely CANNOT implement your logic otherwise.\n",
      "Replace this expression...\n",
      "  - s.map_elements(lambda x: ...)\n",
      "with this one instead:\n",
      "  + s.replace(empl2idx)\n",
      "\n",
      "  cur = cur.with_columns(cur[\"employment\"].map_elements(lambda x: empl2idx[x]).alias(\"employment\"))\n",
      "C:\\Users\\lozhn\\AppData\\Local\\Temp\\ipykernel_14180\\3843927906.py:12: PolarsInefficientMapWarning: \n",
      "Series.map_elements is significantly slower than the native series API.\n",
      "Only use if you absolutely CANNOT implement your logic otherwise.\n",
      "Replace this expression...\n",
      "  - s.map_elements(lambda x: ...)\n",
      "with this one instead:\n",
      "  + s.replace(sch2idx)\n",
      "\n",
      "  cur = cur.with_columns(cur[\"workSchedule\"].map_elements(lambda x: sch2idx[x]).alias(\"workSchedule\"))\n",
      "C:\\Users\\lozhn\\AppData\\Local\\Temp\\ipykernel_14180\\3843927906.py:13: PolarsInefficientMapWarning: \n",
      "Series.map_elements is significantly slower than the native series API.\n",
      "Only use if you absolutely CANNOT implement your logic otherwise.\n",
      "Replace this expression...\n",
      "  - s.map_elements(lambda x: ...)\n",
      "with this one instead:\n",
      "  + s.replace(exp2idx)\n",
      "\n",
      "  cur = cur.with_columns(cur[\"workExperience\"].map_elements(lambda x: exp2idx[x]).alias(\"workExperience\"))\n",
      " 30%|███       | 18/60 [02:59<08:55, 12.75s/it]"
     ]
    },
    {
     "ename": "",
     "evalue": "",
     "output_type": "error",
     "traceback": [
      "\u001b[1;31mThe Kernel crashed while executing code in the current cell or a previous cell. \n",
      "\u001b[1;31mPlease review the code in the cell(s) to identify a possible cause of the failure. \n",
      "\u001b[1;31mClick <a href='https://aka.ms/vscodeJupyterKernelCrash'>here</a> for more info. \n",
      "\u001b[1;31mView Jupyter <a href='command:jupyter.viewOutput'>log</a> for further details."
     ]
    }
   ],
   "source": [
    "features = pl.read_parquet(\"C:\\labs\\hh_hack\\extracted_features.pq\")\n",
    "for v in tqdm(range(50, 110)):\n",
    "    lb = (v-1)*25_000\n",
    "    rb = v*25_000\n",
    "    cur = vac_df[lb:rb].drop(\"company.id\", \"compensation.currencyCode\", \"area.regionId\")\n",
    "    cur = cur.with_columns(vac_df[lb:rb][\"keySkills.keySkill\"].fill_null([\"\"]).alias(\"keySkills.keySkill\"))\n",
    "    cur = cur.with_columns(cur[\"description\"].map_elements(lambda x: ''.join(re.split(r'</[a-z]+>|<[a-z]+>', str(x))).split()).alias(\"description\"))\n",
    "    cur = cur.with_columns(cur[\"compensation.from\"].fill_null(0).alias(\"compensation.from\"))\n",
    "    cur = cur.with_columns(cur[\"compensation.to\"].fill_null(0).alias(\"compensation.to\")).with_columns(pl.Series(\"compensation.to\", [cur[\"compensation.to\"][i] if cur[\"compensation.to\"][i]!=0 else cur[\"compensation.from\"][i] for i in range(25_000)]).alias(\"compensation.to\"))\n",
    "    cur = cur.with_columns(cur[\"area.id\"].map_elements(lambda x: area2idx[x]).alias(\"area.id\"))\n",
    "    cur = cur.with_columns(cur[\"employment\"].map_elements(lambda x: empl2idx[x]).alias(\"employment\"))\n",
    "    cur = cur.with_columns(cur[\"workSchedule\"].map_elements(lambda x: sch2idx[x]).alias(\"workSchedule\"))\n",
    "    cur = cur.with_columns(cur[\"workExperience\"].map_elements(lambda x: exp2idx[x]).alias(\"workExperience\"))\n",
    "    features = pl.concat([features, cur])\n",
    "# lb = v*25_000\n",
    "# rb = lb+9129\n",
    "# cur = vac_df[lb:rb].drop(\"company.id\", \"compensation.currencyCode\", \"area.regionId\")\n",
    "# cur = cur.with_columns(vac_df[lb:rb][\"keySkills.keySkill\"].fill_null([\"\"]).alias(\"keySkills.keySkill\"))\n",
    "# cur = cur.with_columns(cur[\"description\"].map_elements(lambda x: ''.join(re.split(r'</[a-z]+>|<[a-z]+>', str(x))).split()).alias(\"description\"))\n",
    "# cur = cur.with_columns(cur[\"compensation.from\"].fill_null(0).alias(\"compensation.from\"))\n",
    "# cur = cur.with_columns(cur[\"compensation.to\"].fill_null(0).alias(\"compensation.to\")).with_columns(pl.Series(\"compensation.to\", [cur[\"compensation.to\"][i] if cur[\"compensation.to\"][i]!=0 else cur[\"compensation.from\"][i] for i in range(9129)]).alias(\"compensation.to\"))\n",
    "# cur = cur.with_columns(cur[\"area.id\"].map_elements(lambda x: area2idx[x]).alias(\"area.id\"))\n",
    "# cur = cur.with_columns(cur[\"employment\"].map_elements(lambda x: empl2idx[x]).alias(\"employment\"))\n",
    "# cur = cur.with_columns(cur[\"workSchedule\"].map_elements(lambda x: sch2idx[x]).alias(\"workSchedule\"))\n",
    "# cur = cur.with_columns(cur[\"workExperience\"].map_elements(lambda x: exp2idx[x]).alias(\"workExperience\"))\n",
    "# features = pl.concat([features, cur])"
   ]
  },
  {
   "cell_type": "markdown",
   "metadata": {},
   "source": [
    "# **Preparing data**"
   ]
  },
  {
   "cell_type": "code",
   "execution_count": null,
   "metadata": {},
   "outputs": [
    {
     "name": "stderr",
     "output_type": "stream",
     "text": [
      "100%|██████████| 69/69 [00:27<00:00,  2.47it/s]\n"
     ]
    },
    {
     "data": {
      "text/html": [
       "<div><style>\n",
       ".dataframe > thead > tr,\n",
       ".dataframe > tbody > tr {\n",
       "  text-align: right;\n",
       "  white-space: pre-wrap;\n",
       "}\n",
       "</style>\n",
       "<small>shape: (5, 5)</small><table border=\"1\" class=\"dataframe\"><thead><tr><th>user_id</th><th>session_id</th><th>vacancy_id</th><th>action_type</th><th>action_dt</th></tr><tr><td>str</td><td>str</td><td>str</td><td>i64</td><td>datetime[ns]</td></tr></thead><tbody><tr><td>&quot;u_370846&quot;</td><td>&quot;s_24698241&quot;</td><td>&quot;v_697571&quot;</td><td>1</td><td>2023-11-01 00:00:00.919</td></tr><tr><td>&quot;u_461521&quot;</td><td>&quot;s_7559925&quot;</td><td>&quot;v_2514797&quot;</td><td>2</td><td>2023-11-01 00:00:06.973</td></tr><tr><td>&quot;u_332204&quot;</td><td>&quot;s_6570164&quot;</td><td>&quot;v_742810&quot;</td><td>2</td><td>2023-11-01 00:00:12.594</td></tr><tr><td>&quot;u_229153&quot;</td><td>&quot;s_23936793&quot;</td><td>&quot;v_1411424&quot;</td><td>2</td><td>2023-11-01 00:00:13.518</td></tr><tr><td>&quot;u_1128173&quot;</td><td>&quot;s_14266530&quot;</td><td>&quot;v_248154&quot;</td><td>2</td><td>2023-11-01 00:00:16.114</td></tr></tbody></table></div>"
      ],
      "text/plain": [
       "shape: (5, 5)\n",
       "┌───────────┬────────────┬────────────┬─────────────┬─────────────────────────┐\n",
       "│ user_id   ┆ session_id ┆ vacancy_id ┆ action_type ┆ action_dt               │\n",
       "│ ---       ┆ ---        ┆ ---        ┆ ---         ┆ ---                     │\n",
       "│ str       ┆ str        ┆ str        ┆ i64         ┆ datetime[ns]            │\n",
       "╞═══════════╪════════════╪════════════╪═════════════╪═════════════════════════╡\n",
       "│ u_370846  ┆ s_24698241 ┆ v_697571   ┆ 1           ┆ 2023-11-01 00:00:00.919 │\n",
       "│ u_461521  ┆ s_7559925  ┆ v_2514797  ┆ 2           ┆ 2023-11-01 00:00:06.973 │\n",
       "│ u_332204  ┆ s_6570164  ┆ v_742810   ┆ 2           ┆ 2023-11-01 00:00:12.594 │\n",
       "│ u_229153  ┆ s_23936793 ┆ v_1411424  ┆ 2           ┆ 2023-11-01 00:00:13.518 │\n",
       "│ u_1128173 ┆ s_14266530 ┆ v_248154   ┆ 2           ┆ 2023-11-01 00:00:16.114 │\n",
       "└───────────┴────────────┴────────────┴─────────────┴─────────────────────────┘"
      ]
     },
     "execution_count": 3,
     "metadata": {},
     "output_type": "execute_result"
    }
   ],
   "source": [
    "train = pl.DataFrame()\n",
    "for i in tqdm(range(1, 70)):\n",
    "    new_df = pl.concat([train, train_df[(i-1)*50_000:i*50_000].explode(columns=[\"vacancy_id\", \"action_type\", \"action_dt\"]).sort(\"action_dt\")])\n",
    "train.head()"
   ]
  },
  {
   "cell_type": "code",
   "execution_count": null,
   "metadata": {},
   "outputs": [],
   "source": [
    "train_df = new_df"
   ]
  },
  {
   "cell_type": "markdown",
   "metadata": {},
   "source": [
    "# **Making matrix**"
   ]
  },
  {
   "cell_type": "code",
   "execution_count": null,
   "metadata": {},
   "outputs": [],
   "source": [
    "unique_users = train_df[\"user_id\"].unique().to_list()\n",
    "unique_vacancies = train_df[\"vacancy_id\"].unique().to_list()\n",
    "\n",
    "user2idx = {user_id: idx for idx, user_id in enumerate(unique_users)}\n",
    "vac2idx = {vac_id: idx for idx, vac_id in enumerate(unique_vacancies)}"
   ]
  },
  {
   "cell_type": "code",
   "execution_count": null,
   "metadata": {},
   "outputs": [],
   "source": [
    "idx2vac = {idx: vac_id for vac_id, idx in vac2idx.items()}\n",
    "action_weights = {\n",
    "    1: 4.0,\n",
    "    2: 1.0,\n",
    "    3: 2.0\n",
    "}"
   ]
  },
  {
   "cell_type": "code",
   "execution_count": null,
   "metadata": {},
   "outputs": [],
   "source": [
    "pairs = train_df.select([\"user_id\", \"vacancy_id\", \"action_type\"])"
   ]
  },
  {
   "cell_type": "code",
   "execution_count": null,
   "metadata": {},
   "outputs": [],
   "source": [
    "users = pairs[\"user_id\"].replace(user2idx).to_numpy().astype(int)\n",
    "vacancies = pairs['vacancy_id'].replace(vac2idx).to_numpy().astype(int)\n",
    "preferences = pairs['action_type'].replace(action_weights).to_numpy().astype(int)"
   ]
  },
  {
   "cell_type": "code",
   "execution_count": null,
   "metadata": {},
   "outputs": [
    {
     "data": {
      "text/plain": [
       "array([352731, 709819,  98735, ..., 753727, 567196, 464422])"
      ]
     },
     "execution_count": 24,
     "metadata": {},
     "output_type": "execute_result"
    }
   ],
   "source": [
    "users"
   ]
  },
  {
   "cell_type": "code",
   "execution_count": null,
   "metadata": {},
   "outputs": [
    {
     "data": {
      "text/plain": [
       "array([1226898, 1248555, 1234307, ..., 1288734,  537012,  409658])"
      ]
     },
     "execution_count": 25,
     "metadata": {},
     "output_type": "execute_result"
    }
   ],
   "source": [
    "vacancies"
   ]
  },
  {
   "cell_type": "code",
   "execution_count": null,
   "metadata": {},
   "outputs": [
    {
     "data": {
      "text/plain": [
       "SeriesView([4, 1, 1, ..., 1, 1, 1])"
      ]
     },
     "execution_count": 26,
     "metadata": {},
     "output_type": "execute_result"
    }
   ],
   "source": [
    "preferences"
   ]
  },
  {
   "cell_type": "code",
   "execution_count": null,
   "metadata": {},
   "outputs": [
    {
     "data": {
      "text/plain": [
       "<880985x1457882 sparse matrix of type '<class 'numpy.intc'>'\n",
       "\twith 14995101 stored elements in Compressed Sparse Row format>"
      ]
     },
     "execution_count": 27,
     "metadata": {},
     "output_type": "execute_result"
    }
   ],
   "source": [
    "uv_mat = csr_matrix((preferences, (users, vacancies)))\n",
    "uv_mat"
   ]
  },
  {
   "cell_type": "markdown",
   "metadata": {},
   "source": [
    "# **Working with BERT and ALS**"
   ]
  },
  {
   "cell_type": "code",
   "execution_count": null,
   "metadata": {},
   "outputs": [],
   "source": []
  }
 ],
 "metadata": {
  "kernelspec": {
   "display_name": "Python 3",
   "language": "python",
   "name": "python3"
  },
  "language_info": {
   "codemirror_mode": {
    "name": "ipython",
    "version": 3
   },
   "file_extension": ".py",
   "mimetype": "text/x-python",
   "name": "python",
   "nbconvert_exporter": "python",
   "pygments_lexer": "ipython3",
   "version": "3.11.8"
  }
 },
 "nbformat": 4,
 "nbformat_minor": 2
}
