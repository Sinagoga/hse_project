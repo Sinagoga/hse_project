{
 "cells": [
  {
   "cell_type": "markdown",
   "metadata": {},
   "source": [
    "# **Import packages and open data**"
   ]
  },
  {
   "cell_type": "code",
   "execution_count": 2,
   "metadata": {},
   "outputs": [
    {
     "name": "stderr",
     "output_type": "stream",
     "text": [
      "c:\\labs\\hse_project\\venv\\Lib\\site-packages\\tqdm\\auto.py:21: TqdmWarning: IProgress not found. Please update jupyter and ipywidgets. See https://ipywidgets.readthedocs.io/en/stable/user_install.html\n",
      "  from .autonotebook import tqdm as notebook_tqdm\n"
     ]
    }
   ],
   "source": [
    "import polars as pl\n",
    "import numpy as np\n",
    "import re\n",
    "from tqdm import tqdm\n",
    "from scipy.sparse import csr_matrix\n",
    "from torch import nn\n",
    "import implicit\n",
    "from transformers import BertModel, BertTokenizer\n",
    "\n",
    "RANDOM_STATE = 42\n",
    "N_PREDICTIONS = 100"
   ]
  },
  {
   "cell_type": "code",
   "execution_count": 3,
   "metadata": {},
   "outputs": [],
   "source": [
    "train_df = pl.read_parquet(\"C:\\labs\\hh_hack\\hh_recsys_train_hh.pq\")\n",
    "test_df = pl.read_parquet(\"C:\\labs\\hh_hack\\hh_recsys_test_hh.pq\")\n",
    "vac_df = pl.read_parquet(\"C:\\labs\\hh_hack\\hh_recsys_vacancies.pq\")"
   ]
  },
  {
   "cell_type": "code",
   "execution_count": 4,
   "metadata": {},
   "outputs": [
    {
     "data": {
      "text/plain": [
       "(2734129, 13)"
      ]
     },
     "execution_count": 4,
     "metadata": {},
     "output_type": "execute_result"
    }
   ],
   "source": [
    "vac_df.shape"
   ]
  },
  {
   "cell_type": "code",
   "execution_count": 5,
   "metadata": {},
   "outputs": [],
   "source": [
    "vac_df = vac_df[:vac_df.shape[0]//100]"
   ]
  },
  {
   "cell_type": "markdown",
   "metadata": {},
   "source": [
    "# **Work with vacancies**"
   ]
  },
  {
   "cell_type": "code",
   "execution_count": 6,
   "metadata": {},
   "outputs": [
    {
     "data": {
      "text/html": [
       "<div><style>\n",
       ".dataframe > thead > tr,\n",
       ".dataframe > tbody > tr {\n",
       "  text-align: right;\n",
       "  white-space: pre-wrap;\n",
       "}\n",
       "</style>\n",
       "<small>shape: (5, 13)</small><table border=\"1\" class=\"dataframe\"><thead><tr><th>vacancy_id</th><th>name</th><th>company.id</th><th>description</th><th>keySkills.keySkill</th><th>compensation.from</th><th>compensation.to</th><th>compensation.currencyCode</th><th>area.id</th><th>area.regionId</th><th>employment</th><th>workSchedule</th><th>workExperience</th></tr><tr><td>str</td><td>str</td><td>str</td><td>str</td><td>list[str]</td><td>i64</td><td>i64</td><td>str</td><td>str</td><td>str</td><td>str</td><td>str</td><td>str</td></tr></thead><tbody><tr><td>&quot;v_862116&quot;</td><td>&quot;Смотритель муз…</td><td>&quot;c_162972&quot;</td><td>&quot;&lt;strong&gt;Обязан…</td><td>[&quot;Пользователь ПК&quot;, &quot;Работа в команде&quot;, … &quot;PR-консультирование&quot;]</td><td>16500</td><td>null</td><td>&quot;RUR&quot;</td><td>&quot;a_4761&quot;</td><td>&quot;ar_33&quot;</td><td>&quot;full&quot;</td><td>&quot;fullDay&quot;</td><td>&quot;noExperience&quot;</td></tr><tr><td>&quot;v_288642&quot;</td><td>&quot;Ведущий менедж…</td><td>&quot;c_208672&quot;</td><td>&quot;&lt;p&gt;&lt;strong&gt;Воз…</td><td>[&quot;Активные продажи&quot;, &quot;Холодные продажи&quot;, … &quot;Организация мероприятий&quot;]</td><td>50000</td><td>null</td><td>&quot;RUR&quot;</td><td>&quot;a_744&quot;</td><td>&quot;ar_2&quot;</td><td>&quot;full&quot;</td><td>&quot;fullDay&quot;</td><td>&quot;noExperience&quot;</td></tr><tr><td>&quot;v_1840054&quot;</td><td>&quot;Бухгалтер (по …</td><td>&quot;c_198109&quot;</td><td>&quot;&lt;strong&gt;Обязан…</td><td>null</td><td>50000</td><td>65000</td><td>&quot;RUR&quot;</td><td>&quot;a_6223&quot;</td><td>&quot;ar_78&quot;</td><td>&quot;full&quot;</td><td>&quot;fullDay&quot;</td><td>&quot;between3And6&quot;</td></tr><tr><td>&quot;v_2346232&quot;</td><td>&quot;Пекарь (Токсов…</td><td>&quot;c_6137&quot;</td><td>&quot;&lt;p&gt;&lt;strong&gt;Для…</td><td>null</td><td>38500</td><td>42000</td><td>&quot;RUR&quot;</td><td>&quot;a_4795&quot;</td><td>&quot;ar_51&quot;</td><td>&quot;full&quot;</td><td>&quot;fullDay&quot;</td><td>&quot;noExperience&quot;</td></tr><tr><td>&quot;v_312507&quot;</td><td>&quot;Торговый предс…</td><td>&quot;c_206699&quot;</td><td>&quot;&lt;p&gt;Компания ТД…</td><td>[&quot;Продуктивность&quot;, &quot;Клиентоориентированность&quot;, … &quot;Развитие продаж&quot;]</td><td>60000</td><td>null</td><td>&quot;RUR&quot;</td><td>&quot;a_6837&quot;</td><td>&quot;ar_4&quot;</td><td>&quot;full&quot;</td><td>&quot;fullDay&quot;</td><td>&quot;between1And3&quot;</td></tr></tbody></table></div>"
      ],
      "text/plain": [
       "shape: (5, 13)\n",
       "┌───────────┬───────────┬───────────┬───────────┬───┬───────────┬───────────┬───────────┬──────────┐\n",
       "│ vacancy_i ┆ name      ┆ company.i ┆ descripti ┆ … ┆ area.regi ┆ employmen ┆ workSched ┆ workExpe │\n",
       "│ d         ┆ ---       ┆ d         ┆ on        ┆   ┆ onId      ┆ t         ┆ ule       ┆ rience   │\n",
       "│ ---       ┆ str       ┆ ---       ┆ ---       ┆   ┆ ---       ┆ ---       ┆ ---       ┆ ---      │\n",
       "│ str       ┆           ┆ str       ┆ str       ┆   ┆ str       ┆ str       ┆ str       ┆ str      │\n",
       "╞═══════════╪═══════════╪═══════════╪═══════════╪═══╪═══════════╪═══════════╪═══════════╪══════════╡\n",
       "│ v_862116  ┆ Смотрител ┆ c_162972  ┆ <strong>О ┆ … ┆ ar_33     ┆ full      ┆ fullDay   ┆ noExperi │\n",
       "│           ┆ ь         ┆           ┆ бязанност ┆   ┆           ┆           ┆           ┆ ence     │\n",
       "│           ┆ музейный  ┆           ┆ и:</stron ┆   ┆           ┆           ┆           ┆          │\n",
       "│           ┆           ┆           ┆ g> <u…    ┆   ┆           ┆           ┆           ┆          │\n",
       "│ v_288642  ┆ Ведущий   ┆ c_208672  ┆ <p><stron ┆ … ┆ ar_2      ┆ full      ┆ fullDay   ┆ noExperi │\n",
       "│           ┆ менеджер  ┆           ┆ g>Возможн ┆   ┆           ┆           ┆           ┆ ence     │\n",
       "│           ┆ по работе ┆           ┆ о, наша   ┆   ┆           ┆           ┆           ┆          │\n",
       "│           ┆ с физ…    ┆           ┆ ваканс…   ┆   ┆           ┆           ┆           ┆          │\n",
       "│ v_1840054 ┆ Бухгалтер ┆ c_198109  ┆ <strong>О ┆ … ┆ ar_78     ┆ full      ┆ fullDay   ┆ between3 │\n",
       "│           ┆ (по       ┆           ┆ бязанност ┆   ┆           ┆           ┆           ┆ And6     │\n",
       "│           ┆ расчету   ┆           ┆ и:</stron ┆   ┆           ┆           ┆           ┆          │\n",
       "│           ┆ зарплаты) ┆           ┆ g> <u…    ┆   ┆           ┆           ┆           ┆          │\n",
       "│ v_2346232 ┆ Пекарь    ┆ c_6137    ┆ <p><stron ┆ … ┆ ar_51     ┆ full      ┆ fullDay   ┆ noExperi │\n",
       "│           ┆ (Токсово, ┆           ┆ g>Для     ┆   ┆           ┆           ┆           ┆ ence     │\n",
       "│           ┆ Привокзал ┆           ┆ каждого,  ┆   ┆           ┆           ┆           ┆          │\n",
       "│           ┆ ьная, …   ┆           ┆ кто хоче… ┆   ┆           ┆           ┆           ┆          │\n",
       "│ v_312507  ┆ Торговый  ┆ c_206699  ┆ <p>Компан ┆ … ┆ ar_4      ┆ full      ┆ fullDay   ┆ between1 │\n",
       "│           ┆ представи ┆           ┆ ия ТД &qu ┆   ┆           ┆           ┆           ┆ And3     │\n",
       "│           ┆ тель (г.  ┆           ┆ ot;Оливье ┆   ┆           ┆           ┆           ┆          │\n",
       "│           ┆ Абака…    ┆           ┆ ра&qu…    ┆   ┆           ┆           ┆           ┆          │\n",
       "└───────────┴───────────┴───────────┴───────────┴───┴───────────┴───────────┴───────────┴──────────┘"
      ]
     },
     "execution_count": 6,
     "metadata": {},
     "output_type": "execute_result"
    }
   ],
   "source": [
    "vac_df.head()"
   ]
  },
  {
   "cell_type": "code",
   "execution_count": 7,
   "metadata": {},
   "outputs": [
    {
     "data": {
      "text/html": [
       "<div><style>\n",
       ".dataframe > thead > tr,\n",
       ".dataframe > tbody > tr {\n",
       "  text-align: right;\n",
       "  white-space: pre-wrap;\n",
       "}\n",
       "</style>\n",
       "<small>shape: (9, 14)</small><table border=\"1\" class=\"dataframe\"><thead><tr><th>statistic</th><th>vacancy_id</th><th>name</th><th>company.id</th><th>description</th><th>keySkills.keySkill</th><th>compensation.from</th><th>compensation.to</th><th>compensation.currencyCode</th><th>area.id</th><th>area.regionId</th><th>employment</th><th>workSchedule</th><th>workExperience</th></tr><tr><td>str</td><td>str</td><td>str</td><td>str</td><td>str</td><td>f64</td><td>f64</td><td>f64</td><td>str</td><td>str</td><td>str</td><td>str</td><td>str</td><td>str</td></tr></thead><tbody><tr><td>&quot;count&quot;</td><td>&quot;27341&quot;</td><td>&quot;27341&quot;</td><td>&quot;27341&quot;</td><td>&quot;27341&quot;</td><td>14957.0</td><td>20611.0</td><td>12313.0</td><td>&quot;22143&quot;</td><td>&quot;27341&quot;</td><td>&quot;27128&quot;</td><td>&quot;27341&quot;</td><td>&quot;27341&quot;</td><td>&quot;27341&quot;</td></tr><tr><td>&quot;null_count&quot;</td><td>&quot;0&quot;</td><td>&quot;0&quot;</td><td>&quot;0&quot;</td><td>&quot;0&quot;</td><td>12384.0</td><td>6730.0</td><td>15028.0</td><td>&quot;5198&quot;</td><td>&quot;0&quot;</td><td>&quot;213&quot;</td><td>&quot;0&quot;</td><td>&quot;0&quot;</td><td>&quot;0&quot;</td></tr><tr><td>&quot;mean&quot;</td><td>null</td><td>null</td><td>null</td><td>null</td><td>null</td><td>68558.723594</td><td>96158.224559</td><td>null</td><td>null</td><td>null</td><td>null</td><td>null</td><td>null</td></tr><tr><td>&quot;std&quot;</td><td>null</td><td>null</td><td>null</td><td>null</td><td>null</td><td>112842.072794</td><td>218133.210496</td><td>null</td><td>null</td><td>null</td><td>null</td><td>null</td><td>null</td></tr><tr><td>&quot;min&quot;</td><td>&quot;v_1000206&quot;</td><td>&quot;&quot;Фронтенд разр…</td><td>&quot;c_100002&quot;</td><td>&quot;            &lt;p…</td><td>null</td><td>20.0</td><td>30.0</td><td>&quot;BYR&quot;</td><td>&quot;a_1&quot;</td><td>&quot;ar_0&quot;</td><td>&quot;full&quot;</td><td>&quot;flexible&quot;</td><td>&quot;between1And3&quot;</td></tr><tr><td>&quot;25%&quot;</td><td>null</td><td>null</td><td>null</td><td>null</td><td>null</td><td>40000.0</td><td>50000.0</td><td>null</td><td>null</td><td>null</td><td>null</td><td>null</td><td>null</td></tr><tr><td>&quot;50%&quot;</td><td>null</td><td>null</td><td>null</td><td>null</td><td>null</td><td>55000.0</td><td>70000.0</td><td>null</td><td>null</td><td>null</td><td>null</td><td>null</td><td>null</td></tr><tr><td>&quot;75%&quot;</td><td>null</td><td>null</td><td>null</td><td>null</td><td>null</td><td>80000.0</td><td>120000.0</td><td>null</td><td>null</td><td>null</td><td>null</td><td>null</td><td>null</td></tr><tr><td>&quot;max&quot;</td><td>&quot;v_999892&quot;</td><td>&quot;​​​​​​​Purchas…</td><td>&quot;c_99995&quot;</td><td>&quot;‼Компания ПРОМ…</td><td>null</td><td>8e6</td><td>2e7</td><td>&quot;UZS&quot;</td><td>&quot;a_996&quot;</td><td>&quot;ar_99&quot;</td><td>&quot;volunteer&quot;</td><td>&quot;shift&quot;</td><td>&quot;noExperience&quot;</td></tr></tbody></table></div>"
      ],
      "text/plain": [
       "shape: (9, 14)\n",
       "┌───────────┬───────────┬───────────┬───────────┬───┬───────────┬───────────┬───────────┬──────────┐\n",
       "│ statistic ┆ vacancy_i ┆ name      ┆ company.i ┆ … ┆ area.regi ┆ employmen ┆ workSched ┆ workExpe │\n",
       "│ ---       ┆ d         ┆ ---       ┆ d         ┆   ┆ onId      ┆ t         ┆ ule       ┆ rience   │\n",
       "│ str       ┆ ---       ┆ str       ┆ ---       ┆   ┆ ---       ┆ ---       ┆ ---       ┆ ---      │\n",
       "│           ┆ str       ┆           ┆ str       ┆   ┆ str       ┆ str       ┆ str       ┆ str      │\n",
       "╞═══════════╪═══════════╪═══════════╪═══════════╪═══╪═══════════╪═══════════╪═══════════╪══════════╡\n",
       "│ count     ┆ 27341     ┆ 27341     ┆ 27341     ┆ … ┆ 27128     ┆ 27341     ┆ 27341     ┆ 27341    │\n",
       "│ null_coun ┆ 0         ┆ 0         ┆ 0         ┆ … ┆ 213       ┆ 0         ┆ 0         ┆ 0        │\n",
       "│ t         ┆           ┆           ┆           ┆   ┆           ┆           ┆           ┆          │\n",
       "│ mean      ┆ null      ┆ null      ┆ null      ┆ … ┆ null      ┆ null      ┆ null      ┆ null     │\n",
       "│ std       ┆ null      ┆ null      ┆ null      ┆ … ┆ null      ┆ null      ┆ null      ┆ null     │\n",
       "│ min       ┆ v_1000206 ┆ \"Фронтенд ┆ c_100002  ┆ … ┆ ar_0      ┆ full      ┆ flexible  ┆ between1 │\n",
       "│           ┆           ┆ разработч ┆           ┆   ┆           ┆           ┆           ┆ And3     │\n",
       "│           ┆           ┆ ик/програ ┆           ┆   ┆           ┆           ┆           ┆          │\n",
       "│           ┆           ┆ ммис…     ┆           ┆   ┆           ┆           ┆           ┆          │\n",
       "│ 25%       ┆ null      ┆ null      ┆ null      ┆ … ┆ null      ┆ null      ┆ null      ┆ null     │\n",
       "│ 50%       ┆ null      ┆ null      ┆ null      ┆ … ┆ null      ┆ null      ┆ null      ┆ null     │\n",
       "│ 75%       ┆ null      ┆ null      ┆ null      ┆ … ┆ null      ┆ null      ┆ null      ┆ null     │\n",
       "│ max       ┆ v_999892  ┆ ​​​​​​​Purchasin ┆ c_99995   ┆ … ┆ ar_99     ┆ volunteer ┆ shift     ┆ noExperi │\n",
       "│           ┆           ┆ g manager ┆           ┆   ┆           ┆           ┆           ┆ ence     │\n",
       "│           ┆           ┆ (Istan…   ┆           ┆   ┆           ┆           ┆           ┆          │\n",
       "└───────────┴───────────┴───────────┴───────────┴───┴───────────┴───────────┴───────────┴──────────┘"
      ]
     },
     "execution_count": 7,
     "metadata": {},
     "output_type": "execute_result"
    }
   ],
   "source": [
    "vac_df.describe()"
   ]
  },
  {
   "cell_type": "code",
   "execution_count": 15,
   "metadata": {},
   "outputs": [
    {
     "data": {
      "text/plain": [
       "(27341, 1, 2341)"
      ]
     },
     "execution_count": 15,
     "metadata": {},
     "output_type": "execute_result"
    }
   ],
   "source": [
    "all_steps = vac_df.shape[0]\n",
    "max_steps = vac_df.shape[0]//25_000\n",
    "last_step = vac_df.shape[0]%25_000\n",
    "all_steps, max_steps, last_step"
   ]
  },
  {
   "cell_type": "code",
   "execution_count": 24,
   "metadata": {},
   "outputs": [
    {
     "name": "stdout",
     "output_type": "stream",
     "text": [
      "(27341, 7)\n"
     ]
    },
    {
     "data": {
      "text/html": [
       "<div><style>\n",
       ".dataframe > thead > tr,\n",
       ".dataframe > tbody > tr {\n",
       "  text-align: right;\n",
       "  white-space: pre-wrap;\n",
       "}\n",
       "</style>\n",
       "<small>shape: (5, 7)</small><table border=\"1\" class=\"dataframe\"><thead><tr><th>vacancy_id</th><th>compensation.from</th><th>compensation.to</th><th>area.id</th><th>employment</th><th>workSchedule</th><th>workExperience</th></tr><tr><td>str</td><td>i64</td><td>i64</td><td>i64</td><td>i64</td><td>i64</td><td>i64</td></tr></thead><tbody><tr><td>&quot;v_862116&quot;</td><td>16500</td><td>16500</td><td>973</td><td>0</td><td>2</td><td>3</td></tr><tr><td>&quot;v_288642&quot;</td><td>50000</td><td>50000</td><td>1567</td><td>0</td><td>2</td><td>3</td></tr><tr><td>&quot;v_1840054&quot;</td><td>50000</td><td>65000</td><td>1383</td><td>0</td><td>2</td><td>1</td></tr><tr><td>&quot;v_2346232&quot;</td><td>38500</td><td>42000</td><td>986</td><td>0</td><td>2</td><td>3</td></tr><tr><td>&quot;v_312507&quot;</td><td>60000</td><td>60000</td><td>1515</td><td>0</td><td>2</td><td>0</td></tr></tbody></table></div>"
      ],
      "text/plain": [
       "shape: (5, 7)\n",
       "┌────────────┬───────────────┬───────────────┬─────────┬────────────┬──────────────┬───────────────┐\n",
       "│ vacancy_id ┆ compensation. ┆ compensation. ┆ area.id ┆ employment ┆ workSchedule ┆ workExperienc │\n",
       "│ ---        ┆ from          ┆ to            ┆ ---     ┆ ---        ┆ ---          ┆ e             │\n",
       "│ str        ┆ ---           ┆ ---           ┆ i64     ┆ i64        ┆ i64          ┆ ---           │\n",
       "│            ┆ i64           ┆ i64           ┆         ┆            ┆              ┆ i64           │\n",
       "╞════════════╪═══════════════╪═══════════════╪═════════╪════════════╪══════════════╪═══════════════╡\n",
       "│ v_862116   ┆ 16500         ┆ 16500         ┆ 973     ┆ 0          ┆ 2            ┆ 3             │\n",
       "│ v_288642   ┆ 50000         ┆ 50000         ┆ 1567    ┆ 0          ┆ 2            ┆ 3             │\n",
       "│ v_1840054  ┆ 50000         ┆ 65000         ┆ 1383    ┆ 0          ┆ 2            ┆ 1             │\n",
       "│ v_2346232  ┆ 38500         ┆ 42000         ┆ 986     ┆ 0          ┆ 2            ┆ 3             │\n",
       "│ v_312507   ┆ 60000         ┆ 60000         ┆ 1515    ┆ 0          ┆ 2            ┆ 0             │\n",
       "└────────────┴───────────────┴───────────────┴─────────┴────────────┴──────────────┴───────────────┘"
      ]
     },
     "execution_count": 24,
     "metadata": {},
     "output_type": "execute_result"
    }
   ],
   "source": [
    "area_id = sorted(vac_df[\"area.id\"].unique().to_list())\n",
    "empl = sorted(vac_df[\"employment\"].unique().to_list())\n",
    "work_sch = sorted(vac_df[\"workSchedule\"].unique().to_list())\n",
    "work_exp = sorted(vac_df[\"workExperience\"].unique().to_list())\n",
    "area2idx = {area_id[i] : i for i in range(len(area_id))}\n",
    "empl2idx = {empl[i] : i for i in range(len(empl))}\n",
    "sch2idx = {work_sch[i] : i for i in range(len(work_sch))}\n",
    "exp2idx = {work_exp[i] : i for i in range(len(work_exp))}\n",
    "last_v = 0\n",
    "features = pl.DataFrame()\n",
    "# for v in tqdm(range(1, max_steps)):\n",
    "#     lb = (v-1)*25_000\n",
    "#     rb = v*25_000\n",
    "#     cur = vac_df[lb:rb].drop(\"name\", \"company.id\", \"compensation.currencyCode\", \"area.regionId\", \"description\", \"keySkills.keySkill\")\n",
    "#     cur = cur.with_columns(cur[\"compensation.from\"].fill_null(0).alias(\"compensation.from\"))\n",
    "#     cur = cur.with_columns(cur[\"compensation.to\"].fill_null(0).alias(\"compensation.to\"))\n",
    "#     cur = cur.with_columns(pl.Series(\"compensation.to\", [cur[\"compensation.to\"][i] if cur[\"compensation.to\"][i]!=0 else cur[\"compensation.from\"][i] for i in range(25_000)]))\n",
    "#     cur = cur.with_columns(cur[\"area.id\"].replace(area2idx).cast(int).alias(\"area.id\"))\n",
    "#     cur = cur.with_columns(cur[\"employment\"].replace(empl2idx).cast(int).alias(\"employment\"))\n",
    "#     cur = cur.with_columns(cur[\"workSchedule\"].replace(sch2idx).cast(int).alias(\"workSchedule\"))\n",
    "#     cur = cur.with_columns(cur[\"workExperience\"].replace(exp2idx).cast(int).alias(\"workExperience\"))\n",
    "#     features = pl.concat([features, cur])\n",
    "#     last_v = v\n",
    "# lb = last_v*25_000\n",
    "# rb = lb + 23412\n",
    "cur = vac_df.drop(\"name\", \"company.id\", \"compensation.currencyCode\", \"area.regionId\", \"description\", \"keySkills.keySkill\")\n",
    "cur = cur.with_columns(cur[\"compensation.from\"].fill_null(0).alias(\"compensation.from\"))\n",
    "cur = cur.with_columns(cur[\"compensation.to\"].fill_null(0).alias(\"compensation.to\"))\n",
    "cur = cur.with_columns(pl.Series(\"compensation.to\", [cur[\"compensation.to\"][i] if cur[\"compensation.to\"][i]!=0 else cur[\"compensation.from\"][i] for i in range(all_steps)]))\n",
    "cur = cur.with_columns(cur[\"area.id\"].replace(area2idx).cast(int).alias(\"area.id\"))\n",
    "cur = cur.with_columns(cur[\"employment\"].replace(empl2idx).cast(int).alias(\"employment\"))\n",
    "cur = cur.with_columns(cur[\"workSchedule\"].replace(sch2idx).cast(int).alias(\"workSchedule\"))\n",
    "cur = cur.with_columns(cur[\"workExperience\"].replace(exp2idx).cast(int).alias(\"workExperience\"))\n",
    "features = pl.concat([features, cur])\n",
    "print(features.shape)\n",
    "features.head()\n"
   ]
  },
  {
   "cell_type": "code",
   "execution_count": 25,
   "metadata": {},
   "outputs": [
    {
     "data": {
      "text/html": [
       "<div><style>\n",
       ".dataframe > thead > tr,\n",
       ".dataframe > tbody > tr {\n",
       "  text-align: right;\n",
       "  white-space: pre-wrap;\n",
       "}\n",
       "</style>\n",
       "<small>shape: (9, 8)</small><table border=\"1\" class=\"dataframe\"><thead><tr><th>statistic</th><th>vacancy_id</th><th>compensation.from</th><th>compensation.to</th><th>area.id</th><th>employment</th><th>workSchedule</th><th>workExperience</th></tr><tr><td>str</td><td>str</td><td>f64</td><td>f64</td><td>f64</td><td>f64</td><td>f64</td><td>f64</td></tr></thead><tbody><tr><td>&quot;count&quot;</td><td>&quot;27341&quot;</td><td>27341.0</td><td>27341.0</td><td>27341.0</td><td>27341.0</td><td>27341.0</td><td>27341.0</td></tr><tr><td>&quot;null_count&quot;</td><td>&quot;0&quot;</td><td>0.0</td><td>0.0</td><td>0.0</td><td>0.0</td><td>0.0</td><td>0.0</td></tr><tr><td>&quot;mean&quot;</td><td>null</td><td>51682.96156</td><td>69786.711934</td><td>717.196189</td><td>0.092279</td><td>2.178962</td><td>1.293588</td></tr><tr><td>&quot;std&quot;</td><td>null</td><td>102328.510266</td><td>170885.630145</td><td>491.771363</td><td>0.35276</td><td>0.931395</td><td>1.354938</td></tr><tr><td>&quot;min&quot;</td><td>&quot;v_1000206&quot;</td><td>0.0</td><td>0.0</td><td>0.0</td><td>0.0</td><td>0.0</td><td>0.0</td></tr><tr><td>&quot;25%&quot;</td><td>null</td><td>3000.0</td><td>30000.0</td><td>186.0</td><td>0.0</td><td>2.0</td><td>0.0</td></tr><tr><td>&quot;50%&quot;</td><td>null</td><td>45000.0</td><td>55000.0</td><td>630.0</td><td>0.0</td><td>2.0</td><td>1.0</td></tr><tr><td>&quot;75%&quot;</td><td>null</td><td>70000.0</td><td>90000.0</td><td>1208.0</td><td>0.0</td><td>2.0</td><td>3.0</td></tr><tr><td>&quot;max&quot;</td><td>&quot;v_999892&quot;</td><td>8e6</td><td>2e7</td><td>1628.0</td><td>4.0</td><td>4.0</td><td>3.0</td></tr></tbody></table></div>"
      ],
      "text/plain": [
       "shape: (9, 8)\n",
       "┌────────────┬────────────┬────────────┬───────────┬───────────┬───────────┬───────────┬───────────┐\n",
       "│ statistic  ┆ vacancy_id ┆ compensati ┆ compensat ┆ area.id   ┆ employmen ┆ workSched ┆ workExper │\n",
       "│ ---        ┆ ---        ┆ on.from    ┆ ion.to    ┆ ---       ┆ t         ┆ ule       ┆ ience     │\n",
       "│ str        ┆ str        ┆ ---        ┆ ---       ┆ f64       ┆ ---       ┆ ---       ┆ ---       │\n",
       "│            ┆            ┆ f64        ┆ f64       ┆           ┆ f64       ┆ f64       ┆ f64       │\n",
       "╞════════════╪════════════╪════════════╪═══════════╪═══════════╪═══════════╪═══════════╪═══════════╡\n",
       "│ count      ┆ 27341      ┆ 27341.0    ┆ 27341.0   ┆ 27341.0   ┆ 27341.0   ┆ 27341.0   ┆ 27341.0   │\n",
       "│ null_count ┆ 0          ┆ 0.0        ┆ 0.0       ┆ 0.0       ┆ 0.0       ┆ 0.0       ┆ 0.0       │\n",
       "│ mean       ┆ null       ┆ 51682.9615 ┆ 69786.711 ┆ 717.19618 ┆ 0.092279  ┆ 2.178962  ┆ 1.293588  │\n",
       "│            ┆            ┆ 6          ┆ 934       ┆ 9         ┆           ┆           ┆           │\n",
       "│ std        ┆ null       ┆ 102328.510 ┆ 170885.63 ┆ 491.77136 ┆ 0.35276   ┆ 0.931395  ┆ 1.354938  │\n",
       "│            ┆            ┆ 266        ┆ 0145      ┆ 3         ┆           ┆           ┆           │\n",
       "│ min        ┆ v_1000206  ┆ 0.0        ┆ 0.0       ┆ 0.0       ┆ 0.0       ┆ 0.0       ┆ 0.0       │\n",
       "│ 25%        ┆ null       ┆ 3000.0     ┆ 30000.0   ┆ 186.0     ┆ 0.0       ┆ 2.0       ┆ 0.0       │\n",
       "│ 50%        ┆ null       ┆ 45000.0    ┆ 55000.0   ┆ 630.0     ┆ 0.0       ┆ 2.0       ┆ 1.0       │\n",
       "│ 75%        ┆ null       ┆ 70000.0    ┆ 90000.0   ┆ 1208.0    ┆ 0.0       ┆ 2.0       ┆ 3.0       │\n",
       "│ max        ┆ v_999892   ┆ 8e6        ┆ 2e7       ┆ 1628.0    ┆ 4.0       ┆ 4.0       ┆ 3.0       │\n",
       "└────────────┴────────────┴────────────┴───────────┴───────────┴───────────┴───────────┴───────────┘"
      ]
     },
     "execution_count": 25,
     "metadata": {},
     "output_type": "execute_result"
    }
   ],
   "source": [
    "features.describe()"
   ]
  },
  {
   "cell_type": "markdown",
   "metadata": {},
   "source": [
    "# **Preparing data**"
   ]
  },
  {
   "cell_type": "code",
   "execution_count": 26,
   "metadata": {},
   "outputs": [],
   "source": [
    "min_seq_len = 8\n",
    "min_item_cnt = 8"
   ]
  },
  {
   "cell_type": "code",
   "execution_count": 27,
   "metadata": {},
   "outputs": [
    {
     "data": {
      "text/plain": [
       "13064"
      ]
     },
     "execution_count": 27,
     "metadata": {},
     "output_type": "execute_result"
    }
   ],
   "source": [
    "train_df.shape[0]%50_000"
   ]
  },
  {
   "cell_type": "code",
   "execution_count": 28,
   "metadata": {},
   "outputs": [
    {
     "name": "stderr",
     "output_type": "stream",
     "text": [
      "100%|██████████| 68/68 [00:17<00:00,  3.87it/s]\n"
     ]
    },
    {
     "data": {
      "text/html": [
       "<div><style>\n",
       ".dataframe > thead > tr,\n",
       ".dataframe > tbody > tr {\n",
       "  text-align: right;\n",
       "  white-space: pre-wrap;\n",
       "}\n",
       "</style>\n",
       "<small>shape: (5, 5)</small><table border=\"1\" class=\"dataframe\"><thead><tr><th>user_id</th><th>session_id</th><th>vacancy_id</th><th>action_type</th><th>action_dt</th></tr><tr><td>str</td><td>str</td><td>str</td><td>i64</td><td>datetime[ns]</td></tr></thead><tbody><tr><td>&quot;u_370846&quot;</td><td>&quot;s_24698241&quot;</td><td>&quot;v_697571&quot;</td><td>1</td><td>2023-11-01 00:00:00.919</td></tr><tr><td>&quot;u_461521&quot;</td><td>&quot;s_7559925&quot;</td><td>&quot;v_2514797&quot;</td><td>2</td><td>2023-11-01 00:00:06.973</td></tr><tr><td>&quot;u_332204&quot;</td><td>&quot;s_6570164&quot;</td><td>&quot;v_742810&quot;</td><td>2</td><td>2023-11-01 00:00:12.594</td></tr><tr><td>&quot;u_229153&quot;</td><td>&quot;s_23936793&quot;</td><td>&quot;v_1411424&quot;</td><td>2</td><td>2023-11-01 00:00:13.518</td></tr><tr><td>&quot;u_1128173&quot;</td><td>&quot;s_14266530&quot;</td><td>&quot;v_248154&quot;</td><td>2</td><td>2023-11-01 00:00:16.114</td></tr></tbody></table></div>"
      ],
      "text/plain": [
       "shape: (5, 5)\n",
       "┌───────────┬────────────┬────────────┬─────────────┬─────────────────────────┐\n",
       "│ user_id   ┆ session_id ┆ vacancy_id ┆ action_type ┆ action_dt               │\n",
       "│ ---       ┆ ---        ┆ ---        ┆ ---         ┆ ---                     │\n",
       "│ str       ┆ str        ┆ str        ┆ i64         ┆ datetime[ns]            │\n",
       "╞═══════════╪════════════╪════════════╪═════════════╪═════════════════════════╡\n",
       "│ u_370846  ┆ s_24698241 ┆ v_697571   ┆ 1           ┆ 2023-11-01 00:00:00.919 │\n",
       "│ u_461521  ┆ s_7559925  ┆ v_2514797  ┆ 2           ┆ 2023-11-01 00:00:06.973 │\n",
       "│ u_332204  ┆ s_6570164  ┆ v_742810   ┆ 2           ┆ 2023-11-01 00:00:12.594 │\n",
       "│ u_229153  ┆ s_23936793 ┆ v_1411424  ┆ 2           ┆ 2023-11-01 00:00:13.518 │\n",
       "│ u_1128173 ┆ s_14266530 ┆ v_248154   ┆ 2           ┆ 2023-11-01 00:00:16.114 │\n",
       "└───────────┴────────────┴────────────┴─────────────┴─────────────────────────┘"
      ]
     },
     "execution_count": 28,
     "metadata": {},
     "output_type": "execute_result"
    }
   ],
   "source": [
    "train = pl.DataFrame()\n",
    "for i in tqdm(range(1, 69)):\n",
    "    train = pl.concat([train, train_df[(i-1)*50_000:i*50_000].explode(columns=[\"vacancy_id\", \"action_type\", \"action_dt\"]).sort(\"action_dt\")])\n",
    "train = pl.concat([train, train_df[i*50_000:i*50_000+13064].explode(columns=[\"vacancy_id\", \"action_type\", \"action_dt\"]).sort(\"action_dt\")])\n",
    "train.head()"
   ]
  },
  {
   "cell_type": "code",
   "execution_count": 29,
   "metadata": {},
   "outputs": [
    {
     "data": {
      "text/plain": [
       "(21285044, 5)"
      ]
     },
     "execution_count": 29,
     "metadata": {},
     "output_type": "execute_result"
    }
   ],
   "source": [
    "train.shape"
   ]
  },
  {
   "cell_type": "code",
   "execution_count": 30,
   "metadata": {},
   "outputs": [],
   "source": [
    "train = train.filter(pl.col(\"vacancy_id\").is_in(vac_df[\"vacancy_id\"]))"
   ]
  },
  {
   "cell_type": "code",
   "execution_count": 31,
   "metadata": {},
   "outputs": [
    {
     "data": {
      "text/plain": [
       "(195768, 5)"
      ]
     },
     "execution_count": 31,
     "metadata": {},
     "output_type": "execute_result"
    }
   ],
   "source": [
    "train.shape"
   ]
  },
  {
   "cell_type": "code",
   "execution_count": 32,
   "metadata": {},
   "outputs": [
    {
     "data": {
      "text/html": [
       "<div><style>\n",
       ".dataframe > thead > tr,\n",
       ".dataframe > tbody > tr {\n",
       "  text-align: right;\n",
       "  white-space: pre-wrap;\n",
       "}\n",
       "</style>\n",
       "<small>shape: (5, 5)</small><table border=\"1\" class=\"dataframe\"><thead><tr><th>user_id</th><th>session_id</th><th>vacancy_id</th><th>action_type</th><th>action_dt</th></tr><tr><td>str</td><td>str</td><td>str</td><td>i64</td><td>datetime[ns]</td></tr></thead><tbody><tr><td>&quot;u_347542&quot;</td><td>&quot;s_24879683&quot;</td><td>&quot;v_1337611&quot;</td><td>2</td><td>2023-11-01 00:49:41.006</td></tr><tr><td>&quot;u_965257&quot;</td><td>&quot;s_17627628&quot;</td><td>&quot;v_1332935&quot;</td><td>2</td><td>2023-11-01 00:50:58.748</td></tr><tr><td>&quot;u_639152&quot;</td><td>&quot;s_7884954&quot;</td><td>&quot;v_706548&quot;</td><td>2</td><td>2023-11-01 10:58:31.505</td></tr><tr><td>&quot;u_284033&quot;</td><td>&quot;s_26366513&quot;</td><td>&quot;v_2242773&quot;</td><td>2</td><td>2023-11-01 11:20:39.140</td></tr><tr><td>&quot;u_874519&quot;</td><td>&quot;s_414506&quot;</td><td>&quot;v_362128&quot;</td><td>2</td><td>2023-11-01 12:10:59.042</td></tr></tbody></table></div>"
      ],
      "text/plain": [
       "shape: (5, 5)\n",
       "┌──────────┬────────────┬────────────┬─────────────┬─────────────────────────┐\n",
       "│ user_id  ┆ session_id ┆ vacancy_id ┆ action_type ┆ action_dt               │\n",
       "│ ---      ┆ ---        ┆ ---        ┆ ---         ┆ ---                     │\n",
       "│ str      ┆ str        ┆ str        ┆ i64         ┆ datetime[ns]            │\n",
       "╞══════════╪════════════╪════════════╪═════════════╪═════════════════════════╡\n",
       "│ u_347542 ┆ s_24879683 ┆ v_1337611  ┆ 2           ┆ 2023-11-01 00:49:41.006 │\n",
       "│ u_965257 ┆ s_17627628 ┆ v_1332935  ┆ 2           ┆ 2023-11-01 00:50:58.748 │\n",
       "│ u_639152 ┆ s_7884954  ┆ v_706548   ┆ 2           ┆ 2023-11-01 10:58:31.505 │\n",
       "│ u_284033 ┆ s_26366513 ┆ v_2242773  ┆ 2           ┆ 2023-11-01 11:20:39.140 │\n",
       "│ u_874519 ┆ s_414506   ┆ v_362128   ┆ 2           ┆ 2023-11-01 12:10:59.042 │\n",
       "└──────────┴────────────┴────────────┴─────────────┴─────────────────────────┘"
      ]
     },
     "execution_count": 32,
     "metadata": {},
     "output_type": "execute_result"
    }
   ],
   "source": [
    "train = train.filter(pl.col(\"vacancy_id\").is_in(train[\"vacancy_id\"].value_counts().filter(pl.col(\"count\") >= min_item_cnt)[\"vacancy_id\"]))\n",
    "train = train.filter(pl.col(\"user_id\").is_in(train[\"user_id\"].value_counts().filter(pl.col(\"count\") >= min_item_cnt)[\"user_id\"]))\n",
    "train.head()"
   ]
  },
  {
   "cell_type": "code",
   "execution_count": 33,
   "metadata": {},
   "outputs": [
    {
     "data": {
      "text/plain": [
       "(20263, 5)"
      ]
     },
     "execution_count": 33,
     "metadata": {},
     "output_type": "execute_result"
    }
   ],
   "source": [
    "train.shape"
   ]
  },
  {
   "cell_type": "code",
   "execution_count": 34,
   "metadata": {},
   "outputs": [],
   "source": [
    "unique_users = sorted(train[\"user_id\"].unique().to_list())\n",
    "unique_vacancies = sorted(train[\"vacancy_id\"].unique().to_list())\n",
    "\n",
    "user2idx = {user_id: idx for idx, user_id in enumerate(unique_users)}\n",
    "vac2idx = {vac_id: idx for idx, vac_id in enumerate(unique_vacancies)}"
   ]
  },
  {
   "cell_type": "markdown",
   "metadata": {},
   "source": [
    "# **Making matrix**"
   ]
  },
  {
   "cell_type": "code",
   "execution_count": 35,
   "metadata": {},
   "outputs": [],
   "source": [
    "idx2vac = {idx: vac_id for vac_id, idx in vac2idx.items()}\n",
    "action_weights = {\n",
    "    1: 4.0,\n",
    "    2: 1.0,\n",
    "    3: 2.0\n",
    "}"
   ]
  },
  {
   "cell_type": "code",
   "execution_count": 36,
   "metadata": {},
   "outputs": [],
   "source": [
    "pairs = train.select([\"user_id\", \"vacancy_id\", \"action_type\"])"
   ]
  },
  {
   "cell_type": "code",
   "execution_count": 37,
   "metadata": {},
   "outputs": [],
   "source": [
    "users = pairs[\"user_id\"].replace(user2idx).to_numpy().astype(int)\n",
    "vacancies = pairs['vacancy_id'].replace(vac2idx).to_numpy().astype(int)\n",
    "preferences = pairs['action_type'].replace(action_weights).to_numpy().astype(int)"
   ]
  },
  {
   "cell_type": "code",
   "execution_count": 38,
   "metadata": {},
   "outputs": [
    {
     "data": {
      "text/plain": [
       "array([ 624, 1589, 1069, ...,  202,  202, 1347])"
      ]
     },
     "execution_count": 38,
     "metadata": {},
     "output_type": "execute_result"
    }
   ],
   "source": [
    "users"
   ]
  },
  {
   "cell_type": "code",
   "execution_count": 39,
   "metadata": {},
   "outputs": [
    {
     "data": {
      "text/plain": [
       "array([ 441,  433, 2702, ...,  988,  988, 2092])"
      ]
     },
     "execution_count": 39,
     "metadata": {},
     "output_type": "execute_result"
    }
   ],
   "source": [
    "vacancies"
   ]
  },
  {
   "cell_type": "code",
   "execution_count": 40,
   "metadata": {},
   "outputs": [
    {
     "data": {
      "text/plain": [
       "SeriesView([1, 1, 1, ..., 2, 1, 1])"
      ]
     },
     "execution_count": 40,
     "metadata": {},
     "output_type": "execute_result"
    }
   ],
   "source": [
    "preferences"
   ]
  },
  {
   "cell_type": "code",
   "execution_count": 41,
   "metadata": {},
   "outputs": [
    {
     "data": {
      "text/plain": [
       "<1649x3093 sparse matrix of type '<class 'numpy.intc'>'\n",
       "\twith 8487 stored elements in Compressed Sparse Row format>"
      ]
     },
     "execution_count": 41,
     "metadata": {},
     "output_type": "execute_result"
    }
   ],
   "source": [
    "uv_mat = csr_matrix((preferences, (users, vacancies)))\n",
    "uv_mat"
   ]
  },
  {
   "cell_type": "markdown",
   "metadata": {},
   "source": [
    "# **Working with BERT and ALS**"
   ]
  },
  {
   "cell_type": "code",
   "execution_count": null,
   "metadata": {},
   "outputs": [],
   "source": []
  }
 ],
 "metadata": {
  "kernelspec": {
   "display_name": "Python 3",
   "language": "python",
   "name": "python3"
  },
  "language_info": {
   "codemirror_mode": {
    "name": "ipython",
    "version": 3
   },
   "file_extension": ".py",
   "mimetype": "text/x-python",
   "name": "python",
   "nbconvert_exporter": "python",
   "pygments_lexer": "ipython3",
   "version": "3.11.8"
  }
 },
 "nbformat": 4,
 "nbformat_minor": 2
}
