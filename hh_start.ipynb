{
 "cells": [
  {
   "cell_type": "code",
   "execution_count": 1,
   "metadata": {},
   "outputs": [
    {
     "name": "stderr",
     "output_type": "stream",
     "text": [
      "C:\\Users\\lozhn\\AppData\\Local\\Packages\\PythonSoftwareFoundation.Python.3.11_qbz5n2kfra8p0\\LocalCache\\local-packages\\Python311\\site-packages\\tqdm\\auto.py:21: TqdmWarning: IProgress not found. Please update jupyter and ipywidgets. See https://ipywidgets.readthedocs.io/en/stable/user_install.html\n",
      "  from .autonotebook import tqdm as notebook_tqdm\n"
     ]
    }
   ],
   "source": [
    "import polars as pl\n",
    "import numpy as np\n",
    "from tqdm import tqdm\n",
    "from scipy.sparse import csr_matrix\n",
    "import implicit\n",
    "\n",
    "RANDOM_STATE = 42\n",
    "N_PREDICTIONS = 100"
   ]
  },
  {
   "cell_type": "code",
   "execution_count": 2,
   "metadata": {},
   "outputs": [],
   "source": [
    "train = pl.read_parquet(\"C:\\labs\\hh_hack\\hh_recsys_train_hh.pq\")\n",
    "test = pl.read_parquet(\"C:\\labs\\hh_hack\\hh_recsys_test_hh.pq\")\n",
    "vac = pl.read_parquet(\"C:\\labs\\hh_hack\\hh_recsys_vacancies.pq\")"
   ]
  },
  {
   "cell_type": "code",
   "execution_count": 3,
   "metadata": {},
   "outputs": [
    {
     "name": "stderr",
     "output_type": "stream",
     "text": [
      "100%|██████████| 69/69 [00:27<00:00,  2.47it/s]\n"
     ]
    },
    {
     "data": {
      "text/html": [
       "<div><style>\n",
       ".dataframe > thead > tr,\n",
       ".dataframe > tbody > tr {\n",
       "  text-align: right;\n",
       "  white-space: pre-wrap;\n",
       "}\n",
       "</style>\n",
       "<small>shape: (5, 5)</small><table border=\"1\" class=\"dataframe\"><thead><tr><th>user_id</th><th>session_id</th><th>vacancy_id</th><th>action_type</th><th>action_dt</th></tr><tr><td>str</td><td>str</td><td>str</td><td>i64</td><td>datetime[ns]</td></tr></thead><tbody><tr><td>&quot;u_370846&quot;</td><td>&quot;s_24698241&quot;</td><td>&quot;v_697571&quot;</td><td>1</td><td>2023-11-01 00:00:00.919</td></tr><tr><td>&quot;u_461521&quot;</td><td>&quot;s_7559925&quot;</td><td>&quot;v_2514797&quot;</td><td>2</td><td>2023-11-01 00:00:06.973</td></tr><tr><td>&quot;u_332204&quot;</td><td>&quot;s_6570164&quot;</td><td>&quot;v_742810&quot;</td><td>2</td><td>2023-11-01 00:00:12.594</td></tr><tr><td>&quot;u_229153&quot;</td><td>&quot;s_23936793&quot;</td><td>&quot;v_1411424&quot;</td><td>2</td><td>2023-11-01 00:00:13.518</td></tr><tr><td>&quot;u_1128173&quot;</td><td>&quot;s_14266530&quot;</td><td>&quot;v_248154&quot;</td><td>2</td><td>2023-11-01 00:00:16.114</td></tr></tbody></table></div>"
      ],
      "text/plain": [
       "shape: (5, 5)\n",
       "┌───────────┬────────────┬────────────┬─────────────┬─────────────────────────┐\n",
       "│ user_id   ┆ session_id ┆ vacancy_id ┆ action_type ┆ action_dt               │\n",
       "│ ---       ┆ ---        ┆ ---        ┆ ---         ┆ ---                     │\n",
       "│ str       ┆ str        ┆ str        ┆ i64         ┆ datetime[ns]            │\n",
       "╞═══════════╪════════════╪════════════╪═════════════╪═════════════════════════╡\n",
       "│ u_370846  ┆ s_24698241 ┆ v_697571   ┆ 1           ┆ 2023-11-01 00:00:00.919 │\n",
       "│ u_461521  ┆ s_7559925  ┆ v_2514797  ┆ 2           ┆ 2023-11-01 00:00:06.973 │\n",
       "│ u_332204  ┆ s_6570164  ┆ v_742810   ┆ 2           ┆ 2023-11-01 00:00:12.594 │\n",
       "│ u_229153  ┆ s_23936793 ┆ v_1411424  ┆ 2           ┆ 2023-11-01 00:00:13.518 │\n",
       "│ u_1128173 ┆ s_14266530 ┆ v_248154   ┆ 2           ┆ 2023-11-01 00:00:16.114 │\n",
       "└───────────┴────────────┴────────────┴─────────────┴─────────────────────────┘"
      ]
     },
     "execution_count": 3,
     "metadata": {},
     "output_type": "execute_result"
    }
   ],
   "source": [
    "new_df = pl.DataFrame()\n",
    "for i in tqdm(range(1, 70)):\n",
    "    new_df = pl.concat([new_df, train[(i-1)*50_000:i*50_000].explode(columns=[\"vacancy_id\", \"action_type\", \"action_dt\"]).sort(\"action_dt\")])\n",
    "new_df.head()"
   ]
  },
  {
   "cell_type": "code",
   "execution_count": 4,
   "metadata": {},
   "outputs": [],
   "source": [
    "train_df = new_df"
   ]
  },
  {
   "cell_type": "code",
   "execution_count": 10,
   "metadata": {},
   "outputs": [],
   "source": [
    "unique_users = train_df[\"user_id\"].unique().to_list()\n",
    "unique_vacancies = train_df[\"vacancy_id\"].unique().to_list()\n",
    "\n",
    "user2idx = {user_id: idx for idx, user_id in enumerate(unique_users)}\n",
    "vac2idx = {vac_id: idx for idx, vac_id in enumerate(unique_vacancies)}"
   ]
  },
  {
   "cell_type": "code",
   "execution_count": 11,
   "metadata": {},
   "outputs": [],
   "source": [
    "idx2vac = {idx: vac_id for vac_id, idx in vac2idx.items()}\n",
    "action_weights = {\n",
    "    1: 4.0,\n",
    "    2: 1.0,\n",
    "    3: 2.0\n",
    "}"
   ]
  },
  {
   "cell_type": "code",
   "execution_count": 6,
   "metadata": {},
   "outputs": [],
   "source": [
    "pairs = train_df.select([\"user_id\", \"vacancy_id\", \"action_type\"])"
   ]
  },
  {
   "cell_type": "code",
   "execution_count": 13,
   "metadata": {},
   "outputs": [
    {
     "data": {
      "text/plain": [
       "SeriesView([4., 1., 1., ..., 1., 1., 1.])"
      ]
     },
     "execution_count": 13,
     "metadata": {},
     "output_type": "execute_result"
    }
   ],
   "source": [
    "users = pairs[\"user_id\"].replace(user2idx).to_numpy()\n",
    "vacancies = pairs['vacancy_id'].replace(vac2idx).to_numpy()\n",
    "preferences = pairs['action_type'].replace(action_weights).to_numpy()"
   ]
  },
  {
   "cell_type": "code",
   "execution_count": 8,
   "metadata": {},
   "outputs": [
    {
     "data": {
      "text/html": [
       "<div><style>\n",
       ".dataframe > thead > tr,\n",
       ".dataframe > tbody > tr {\n",
       "  text-align: right;\n",
       "  white-space: pre-wrap;\n",
       "}\n",
       "</style>\n",
       "<small>shape: (21_493_368, 3)</small><table border=\"1\" class=\"dataframe\"><thead><tr><th>user_id</th><th>vacancy_id</th><th>action_type</th></tr><tr><td>str</td><td>str</td><td>i64</td></tr></thead><tbody><tr><td>&quot;u_370846&quot;</td><td>&quot;v_697571&quot;</td><td>1</td></tr><tr><td>&quot;u_461521&quot;</td><td>&quot;v_2514797&quot;</td><td>2</td></tr><tr><td>&quot;u_332204&quot;</td><td>&quot;v_742810&quot;</td><td>2</td></tr><tr><td>&quot;u_229153&quot;</td><td>&quot;v_1411424&quot;</td><td>2</td></tr><tr><td>&quot;u_1128173&quot;</td><td>&quot;v_248154&quot;</td><td>2</td></tr><tr><td>&quot;u_229153&quot;</td><td>&quot;v_1411424&quot;</td><td>1</td></tr><tr><td>&quot;u_370846&quot;</td><td>&quot;v_1808817&quot;</td><td>2</td></tr><tr><td>&quot;u_797043&quot;</td><td>&quot;v_664053&quot;</td><td>1</td></tr><tr><td>&quot;u_797043&quot;</td><td>&quot;v_664053&quot;</td><td>2</td></tr><tr><td>&quot;u_370846&quot;</td><td>&quot;v_451039&quot;</td><td>2</td></tr><tr><td>&quot;u_616028&quot;</td><td>&quot;v_1200502&quot;</td><td>2</td></tr><tr><td>&quot;u_1085373&quot;</td><td>&quot;v_1296646&quot;</td><td>2</td></tr><tr><td>&hellip;</td><td>&hellip;</td><td>&hellip;</td></tr><tr><td>&quot;u_381852&quot;</td><td>&quot;v_988996&quot;</td><td>2</td></tr><tr><td>&quot;u_437248&quot;</td><td>&quot;v_689351&quot;</td><td>2</td></tr><tr><td>&quot;u_415790&quot;</td><td>&quot;v_2508104&quot;</td><td>2</td></tr><tr><td>&quot;u_381852&quot;</td><td>&quot;v_1831743&quot;</td><td>2</td></tr><tr><td>&quot;u_325577&quot;</td><td>&quot;v_1013205&quot;</td><td>2</td></tr><tr><td>&quot;u_415790&quot;</td><td>&quot;v_1020162&quot;</td><td>2</td></tr><tr><td>&quot;u_381852&quot;</td><td>&quot;v_243120&quot;</td><td>2</td></tr><tr><td>&quot;u_415790&quot;</td><td>&quot;v_866845&quot;</td><td>2</td></tr><tr><td>&quot;u_560843&quot;</td><td>&quot;v_355694&quot;</td><td>2</td></tr><tr><td>&quot;u_415790&quot;</td><td>&quot;v_2613137&quot;</td><td>2</td></tr><tr><td>&quot;u_563033&quot;</td><td>&quot;v_746117&quot;</td><td>2</td></tr><tr><td>&quot;u_381852&quot;</td><td>&quot;v_953070&quot;</td><td>2</td></tr></tbody></table></div>"
      ],
      "text/plain": [
       "shape: (21_493_368, 3)\n",
       "┌───────────┬────────────┬─────────────┐\n",
       "│ user_id   ┆ vacancy_id ┆ action_type │\n",
       "│ ---       ┆ ---        ┆ ---         │\n",
       "│ str       ┆ str        ┆ i64         │\n",
       "╞═══════════╪════════════╪═════════════╡\n",
       "│ u_370846  ┆ v_697571   ┆ 1           │\n",
       "│ u_461521  ┆ v_2514797  ┆ 2           │\n",
       "│ u_332204  ┆ v_742810   ┆ 2           │\n",
       "│ u_229153  ┆ v_1411424  ┆ 2           │\n",
       "│ u_1128173 ┆ v_248154   ┆ 2           │\n",
       "│ …         ┆ …          ┆ …           │\n",
       "│ u_415790  ┆ v_866845   ┆ 2           │\n",
       "│ u_560843  ┆ v_355694   ┆ 2           │\n",
       "│ u_415790  ┆ v_2613137  ┆ 2           │\n",
       "│ u_563033  ┆ v_746117   ┆ 2           │\n",
       "│ u_381852  ┆ v_953070   ┆ 2           │\n",
       "└───────────┴────────────┴─────────────┘"
      ]
     },
     "execution_count": 8,
     "metadata": {},
     "output_type": "execute_result"
    }
   ],
   "source": [
    "uv_mat = csr_matrix((preferences, (users, vacancies)))\n",
    "uv_mat"
   ]
  }
 ],
 "metadata": {
  "kernelspec": {
   "display_name": "Python 3",
   "language": "python",
   "name": "python3"
  },
  "language_info": {
   "codemirror_mode": {
    "name": "ipython",
    "version": 3
   },
   "file_extension": ".py",
   "mimetype": "text/x-python",
   "name": "python",
   "nbconvert_exporter": "python",
   "pygments_lexer": "ipython3",
   "version": "3.11.8"
  }
 },
 "nbformat": 4,
 "nbformat_minor": 2
}
