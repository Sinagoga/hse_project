{
 "cells": [
  {
   "cell_type": "markdown",
   "metadata": {},
   "source": [
    "# **Import packages and open data**"
   ]
  },
  {
   "cell_type": "code",
   "execution_count": 1,
   "metadata": {},
   "outputs": [
    {
     "name": "stderr",
     "output_type": "stream",
     "text": [
      "c:\\labs\\hse_project\\venv\\Lib\\site-packages\\tqdm\\auto.py:21: TqdmWarning: IProgress not found. Please update jupyter and ipywidgets. See https://ipywidgets.readthedocs.io/en/stable/user_install.html\n",
      "  from .autonotebook import tqdm as notebook_tqdm\n"
     ]
    }
   ],
   "source": [
    "import polars as pl\n",
    "import numpy as np\n",
    "import re\n",
    "from tqdm import tqdm\n",
    "from scipy.sparse import csr_matrix\n",
    "from torch import nn\n",
    "import implicit\n",
    "from transformers import BertModel, BertTokenizer\n",
    "\n",
    "RANDOM_STATE = 42\n",
    "N_PREDICTIONS = 100"
   ]
  },
  {
   "cell_type": "code",
   "execution_count": 2,
   "metadata": {},
   "outputs": [],
   "source": [
    "train_df = pl.read_parquet(\"C:\\labs\\hh_hack\\hh_recsys_train_hh.pq\")\n",
    "test_df = pl.read_parquet(\"C:\\labs\\hh_hack\\hh_recsys_test_hh.pq\")\n",
    "vac_df = pl.read_parquet(\"C:\\labs\\hh_hack\\hh_recsys_vacancies.pq\")"
   ]
  },
  {
   "cell_type": "code",
   "execution_count": 3,
   "metadata": {},
   "outputs": [
    {
     "data": {
      "text/plain": [
       "(2734129, 13)"
      ]
     },
     "execution_count": 3,
     "metadata": {},
     "output_type": "execute_result"
    }
   ],
   "source": [
    "vac_df.shape"
   ]
  },
  {
   "cell_type": "code",
   "execution_count": 4,
   "metadata": {},
   "outputs": [],
   "source": [
    "vac_df = vac_df[:vac_df.shape[0]//10]"
   ]
  },
  {
   "cell_type": "markdown",
   "metadata": {},
   "source": [
    "# **Work with vacancies**"
   ]
  },
  {
   "cell_type": "code",
   "execution_count": 5,
   "metadata": {},
   "outputs": [
    {
     "data": {
      "text/html": [
       "<div><style>\n",
       ".dataframe > thead > tr,\n",
       ".dataframe > tbody > tr {\n",
       "  text-align: right;\n",
       "  white-space: pre-wrap;\n",
       "}\n",
       "</style>\n",
       "<small>shape: (5, 13)</small><table border=\"1\" class=\"dataframe\"><thead><tr><th>vacancy_id</th><th>name</th><th>company.id</th><th>description</th><th>keySkills.keySkill</th><th>compensation.from</th><th>compensation.to</th><th>compensation.currencyCode</th><th>area.id</th><th>area.regionId</th><th>employment</th><th>workSchedule</th><th>workExperience</th></tr><tr><td>str</td><td>str</td><td>str</td><td>str</td><td>list[str]</td><td>i64</td><td>i64</td><td>str</td><td>str</td><td>str</td><td>str</td><td>str</td><td>str</td></tr></thead><tbody><tr><td>&quot;v_862116&quot;</td><td>&quot;Смотритель муз…</td><td>&quot;c_162972&quot;</td><td>&quot;&lt;strong&gt;Обязан…</td><td>[&quot;Пользователь ПК&quot;, &quot;Работа в команде&quot;, … &quot;PR-консультирование&quot;]</td><td>16500</td><td>null</td><td>&quot;RUR&quot;</td><td>&quot;a_4761&quot;</td><td>&quot;ar_33&quot;</td><td>&quot;full&quot;</td><td>&quot;fullDay&quot;</td><td>&quot;noExperience&quot;</td></tr><tr><td>&quot;v_288642&quot;</td><td>&quot;Ведущий менедж…</td><td>&quot;c_208672&quot;</td><td>&quot;&lt;p&gt;&lt;strong&gt;Воз…</td><td>[&quot;Активные продажи&quot;, &quot;Холодные продажи&quot;, … &quot;Организация мероприятий&quot;]</td><td>50000</td><td>null</td><td>&quot;RUR&quot;</td><td>&quot;a_744&quot;</td><td>&quot;ar_2&quot;</td><td>&quot;full&quot;</td><td>&quot;fullDay&quot;</td><td>&quot;noExperience&quot;</td></tr><tr><td>&quot;v_1840054&quot;</td><td>&quot;Бухгалтер (по …</td><td>&quot;c_198109&quot;</td><td>&quot;&lt;strong&gt;Обязан…</td><td>null</td><td>50000</td><td>65000</td><td>&quot;RUR&quot;</td><td>&quot;a_6223&quot;</td><td>&quot;ar_78&quot;</td><td>&quot;full&quot;</td><td>&quot;fullDay&quot;</td><td>&quot;between3And6&quot;</td></tr><tr><td>&quot;v_2346232&quot;</td><td>&quot;Пекарь (Токсов…</td><td>&quot;c_6137&quot;</td><td>&quot;&lt;p&gt;&lt;strong&gt;Для…</td><td>null</td><td>38500</td><td>42000</td><td>&quot;RUR&quot;</td><td>&quot;a_4795&quot;</td><td>&quot;ar_51&quot;</td><td>&quot;full&quot;</td><td>&quot;fullDay&quot;</td><td>&quot;noExperience&quot;</td></tr><tr><td>&quot;v_312507&quot;</td><td>&quot;Торговый предс…</td><td>&quot;c_206699&quot;</td><td>&quot;&lt;p&gt;Компания ТД…</td><td>[&quot;Продуктивность&quot;, &quot;Клиентоориентированность&quot;, … &quot;Развитие продаж&quot;]</td><td>60000</td><td>null</td><td>&quot;RUR&quot;</td><td>&quot;a_6837&quot;</td><td>&quot;ar_4&quot;</td><td>&quot;full&quot;</td><td>&quot;fullDay&quot;</td><td>&quot;between1And3&quot;</td></tr></tbody></table></div>"
      ],
      "text/plain": [
       "shape: (5, 13)\n",
       "┌───────────┬───────────┬───────────┬───────────┬───┬───────────┬───────────┬───────────┬──────────┐\n",
       "│ vacancy_i ┆ name      ┆ company.i ┆ descripti ┆ … ┆ area.regi ┆ employmen ┆ workSched ┆ workExpe │\n",
       "│ d         ┆ ---       ┆ d         ┆ on        ┆   ┆ onId      ┆ t         ┆ ule       ┆ rience   │\n",
       "│ ---       ┆ str       ┆ ---       ┆ ---       ┆   ┆ ---       ┆ ---       ┆ ---       ┆ ---      │\n",
       "│ str       ┆           ┆ str       ┆ str       ┆   ┆ str       ┆ str       ┆ str       ┆ str      │\n",
       "╞═══════════╪═══════════╪═══════════╪═══════════╪═══╪═══════════╪═══════════╪═══════════╪══════════╡\n",
       "│ v_862116  ┆ Смотрител ┆ c_162972  ┆ <strong>О ┆ … ┆ ar_33     ┆ full      ┆ fullDay   ┆ noExperi │\n",
       "│           ┆ ь         ┆           ┆ бязанност ┆   ┆           ┆           ┆           ┆ ence     │\n",
       "│           ┆ музейный  ┆           ┆ и:</stron ┆   ┆           ┆           ┆           ┆          │\n",
       "│           ┆           ┆           ┆ g> <u…    ┆   ┆           ┆           ┆           ┆          │\n",
       "│ v_288642  ┆ Ведущий   ┆ c_208672  ┆ <p><stron ┆ … ┆ ar_2      ┆ full      ┆ fullDay   ┆ noExperi │\n",
       "│           ┆ менеджер  ┆           ┆ g>Возможн ┆   ┆           ┆           ┆           ┆ ence     │\n",
       "│           ┆ по работе ┆           ┆ о, наша   ┆   ┆           ┆           ┆           ┆          │\n",
       "│           ┆ с физ…    ┆           ┆ ваканс…   ┆   ┆           ┆           ┆           ┆          │\n",
       "│ v_1840054 ┆ Бухгалтер ┆ c_198109  ┆ <strong>О ┆ … ┆ ar_78     ┆ full      ┆ fullDay   ┆ between3 │\n",
       "│           ┆ (по       ┆           ┆ бязанност ┆   ┆           ┆           ┆           ┆ And6     │\n",
       "│           ┆ расчету   ┆           ┆ и:</stron ┆   ┆           ┆           ┆           ┆          │\n",
       "│           ┆ зарплаты) ┆           ┆ g> <u…    ┆   ┆           ┆           ┆           ┆          │\n",
       "│ v_2346232 ┆ Пекарь    ┆ c_6137    ┆ <p><stron ┆ … ┆ ar_51     ┆ full      ┆ fullDay   ┆ noExperi │\n",
       "│           ┆ (Токсово, ┆           ┆ g>Для     ┆   ┆           ┆           ┆           ┆ ence     │\n",
       "│           ┆ Привокзал ┆           ┆ каждого,  ┆   ┆           ┆           ┆           ┆          │\n",
       "│           ┆ ьная, …   ┆           ┆ кто хоче… ┆   ┆           ┆           ┆           ┆          │\n",
       "│ v_312507  ┆ Торговый  ┆ c_206699  ┆ <p>Компан ┆ … ┆ ar_4      ┆ full      ┆ fullDay   ┆ between1 │\n",
       "│           ┆ представи ┆           ┆ ия ТД &qu ┆   ┆           ┆           ┆           ┆ And3     │\n",
       "│           ┆ тель (г.  ┆           ┆ ot;Оливье ┆   ┆           ┆           ┆           ┆          │\n",
       "│           ┆ Абака…    ┆           ┆ ра&qu…    ┆   ┆           ┆           ┆           ┆          │\n",
       "└───────────┴───────────┴───────────┴───────────┴───┴───────────┴───────────┴───────────┴──────────┘"
      ]
     },
     "execution_count": 5,
     "metadata": {},
     "output_type": "execute_result"
    }
   ],
   "source": [
    "vac_df.head()"
   ]
  },
  {
   "cell_type": "code",
   "execution_count": 6,
   "metadata": {},
   "outputs": [
    {
     "data": {
      "text/html": [
       "<div><style>\n",
       ".dataframe > thead > tr,\n",
       ".dataframe > tbody > tr {\n",
       "  text-align: right;\n",
       "  white-space: pre-wrap;\n",
       "}\n",
       "</style>\n",
       "<small>shape: (9, 14)</small><table border=\"1\" class=\"dataframe\"><thead><tr><th>statistic</th><th>vacancy_id</th><th>name</th><th>company.id</th><th>description</th><th>keySkills.keySkill</th><th>compensation.from</th><th>compensation.to</th><th>compensation.currencyCode</th><th>area.id</th><th>area.regionId</th><th>employment</th><th>workSchedule</th><th>workExperience</th></tr><tr><td>str</td><td>str</td><td>str</td><td>str</td><td>str</td><td>f64</td><td>f64</td><td>f64</td><td>str</td><td>str</td><td>str</td><td>str</td><td>str</td><td>str</td></tr></thead><tbody><tr><td>&quot;count&quot;</td><td>&quot;273412&quot;</td><td>&quot;273412&quot;</td><td>&quot;273412&quot;</td><td>&quot;273412&quot;</td><td>150175.0</td><td>206248.0</td><td>123408.0</td><td>&quot;221587&quot;</td><td>&quot;273412&quot;</td><td>&quot;271270&quot;</td><td>&quot;273412&quot;</td><td>&quot;273412&quot;</td><td>&quot;273412&quot;</td></tr><tr><td>&quot;null_count&quot;</td><td>&quot;0&quot;</td><td>&quot;0&quot;</td><td>&quot;0&quot;</td><td>&quot;0&quot;</td><td>123237.0</td><td>67164.0</td><td>150004.0</td><td>&quot;51825&quot;</td><td>&quot;0&quot;</td><td>&quot;2142&quot;</td><td>&quot;0&quot;</td><td>&quot;0&quot;</td><td>&quot;0&quot;</td></tr><tr><td>&quot;mean&quot;</td><td>null</td><td>null</td><td>null</td><td>null</td><td>null</td><td>72191.681102</td><td>102458.696681</td><td>null</td><td>null</td><td>null</td><td>null</td><td>null</td><td>null</td></tr><tr><td>&quot;std&quot;</td><td>null</td><td>null</td><td>null</td><td>null</td><td>null</td><td>2.1850e6</td><td>2.8275e6</td><td>null</td><td>null</td><td>null</td><td>null</td><td>null</td><td>null</td></tr><tr><td>&quot;min&quot;</td><td>&quot;v_1000005&quot;</td><td>&quot;&quot;Оператор call…</td><td>&quot;c_1&quot;</td><td>&quot;\r\n",
       "&lt;p align=&quot;ce…</td><td>null</td><td>1.0</td><td>10.0</td><td>&quot;BYR&quot;</td><td>&quot;a_1&quot;</td><td>&quot;ar_0&quot;</td><td>&quot;full&quot;</td><td>&quot;flexible&quot;</td><td>&quot;between1And3&quot;</td></tr><tr><td>&quot;25%&quot;</td><td>null</td><td>null</td><td>null</td><td>null</td><td>null</td><td>40000.0</td><td>50000.0</td><td>null</td><td>null</td><td>null</td><td>null</td><td>null</td><td>null</td></tr><tr><td>&quot;50%&quot;</td><td>null</td><td>null</td><td>null</td><td>null</td><td>null</td><td>55000.0</td><td>70000.0</td><td>null</td><td>null</td><td>null</td><td>null</td><td>null</td><td>null</td></tr><tr><td>&quot;75%&quot;</td><td>null</td><td>null</td><td>null</td><td>null</td><td>null</td><td>80000.0</td><td>120000.0</td><td>null</td><td>null</td><td>null</td><td>null</td><td>null</td><td>null</td></tr><tr><td>&quot;max&quot;</td><td>&quot;v_999983&quot;</td><td>&quot;财务总监 Финансовы…</td><td>&quot;c_99996&quot;</td><td>&quot;❗️❗️ Требуются…</td><td>null</td><td>9.91788366e8</td><td>9.91788366e8</td><td>&quot;UZS&quot;</td><td>&quot;a_999&quot;</td><td>&quot;ar_99&quot;</td><td>&quot;volunteer&quot;</td><td>&quot;shift&quot;</td><td>&quot;noExperience&quot;</td></tr></tbody></table></div>"
      ],
      "text/plain": [
       "shape: (9, 14)\n",
       "┌───────────┬───────────┬───────────┬───────────┬───┬───────────┬───────────┬───────────┬──────────┐\n",
       "│ statistic ┆ vacancy_i ┆ name      ┆ company.i ┆ … ┆ area.regi ┆ employmen ┆ workSched ┆ workExpe │\n",
       "│ ---       ┆ d         ┆ ---       ┆ d         ┆   ┆ onId      ┆ t         ┆ ule       ┆ rience   │\n",
       "│ str       ┆ ---       ┆ str       ┆ ---       ┆   ┆ ---       ┆ ---       ┆ ---       ┆ ---      │\n",
       "│           ┆ str       ┆           ┆ str       ┆   ┆ str       ┆ str       ┆ str       ┆ str      │\n",
       "╞═══════════╪═══════════╪═══════════╪═══════════╪═══╪═══════════╪═══════════╪═══════════╪══════════╡\n",
       "│ count     ┆ 273412    ┆ 273412    ┆ 273412    ┆ … ┆ 271270    ┆ 273412    ┆ 273412    ┆ 273412   │\n",
       "│ null_coun ┆ 0         ┆ 0         ┆ 0         ┆ … ┆ 2142      ┆ 0         ┆ 0         ┆ 0        │\n",
       "│ t         ┆           ┆           ┆           ┆   ┆           ┆           ┆           ┆          │\n",
       "│ mean      ┆ null      ┆ null      ┆ null      ┆ … ┆ null      ┆ null      ┆ null      ┆ null     │\n",
       "│ std       ┆ null      ┆ null      ┆ null      ┆ … ┆ null      ┆ null      ┆ null      ┆ null     │\n",
       "│ min       ┆ v_1000005 ┆ \"Оператор ┆ c_1       ┆ … ┆ ar_0      ┆ full      ┆ flexible  ┆ between1 │\n",
       "│           ┆           ┆ call-цент ┆           ┆   ┆           ┆           ┆           ┆ And3     │\n",
       "│           ┆           ┆ ра\" (Без  ┆           ┆   ┆           ┆           ┆           ┆          │\n",
       "│           ┆           ┆ поис…     ┆           ┆   ┆           ┆           ┆           ┆          │\n",
       "│ 25%       ┆ null      ┆ null      ┆ null      ┆ … ┆ null      ┆ null      ┆ null      ┆ null     │\n",
       "│ 50%       ┆ null      ┆ null      ┆ null      ┆ … ┆ null      ┆ null      ┆ null      ┆ null     │\n",
       "│ 75%       ┆ null      ┆ null      ┆ null      ┆ … ┆ null      ┆ null      ┆ null      ┆ null     │\n",
       "│ max       ┆ v_999983  ┆ 财务总监  ┆ c_99996   ┆ … ┆ ar_99     ┆ volunteer ┆ shift     ┆ noExperi │\n",
       "│           ┆           ┆ Финансовы ┆           ┆   ┆           ┆           ┆           ┆ ence     │\n",
       "│           ┆           ┆ й         ┆           ┆   ┆           ┆           ┆           ┆          │\n",
       "│           ┆           ┆ менеджер  ┆           ┆   ┆           ┆           ┆           ┆          │\n",
       "│           ┆           ┆ со знан…  ┆           ┆   ┆           ┆           ┆           ┆          │\n",
       "└───────────┴───────────┴───────────┴───────────┴───┴───────────┴───────────┴───────────┴──────────┘"
      ]
     },
     "execution_count": 6,
     "metadata": {},
     "output_type": "execute_result"
    }
   ],
   "source": [
    "vac_df.describe()"
   ]
  },
  {
   "cell_type": "code",
   "execution_count": 7,
   "metadata": {},
   "outputs": [
    {
     "data": {
      "text/plain": [
       "(10, 23412)"
      ]
     },
     "execution_count": 7,
     "metadata": {},
     "output_type": "execute_result"
    }
   ],
   "source": [
    "vac_df.shape[0]//25_000, vac_df.shape[0]%25_000"
   ]
  },
  {
   "cell_type": "code",
   "execution_count": 10,
   "metadata": {},
   "outputs": [
    {
     "name": "stderr",
     "output_type": "stream",
     "text": [
      "  0%|          | 0/9 [00:00<?, ?it/s]"
     ]
    },
    {
     "name": "stderr",
     "output_type": "stream",
     "text": [
      "100%|██████████| 9/9 [00:00<00:00, 11.55it/s]\n"
     ]
    },
    {
     "data": {
      "text/html": [
       "<div><style>\n",
       ".dataframe > thead > tr,\n",
       ".dataframe > tbody > tr {\n",
       "  text-align: right;\n",
       "  white-space: pre-wrap;\n",
       "}\n",
       "</style>\n",
       "<small>shape: (5, 8)</small><table border=\"1\" class=\"dataframe\"><thead><tr><th>vacancy_id</th><th>company.id</th><th>compensation.from</th><th>compensation.to</th><th>area.id</th><th>employment</th><th>workSchedule</th><th>workExperience</th></tr><tr><td>str</td><td>str</td><td>i64</td><td>i64</td><td>i64</td><td>i64</td><td>i64</td><td>i64</td></tr></thead><tbody><tr><td>&quot;v_862116&quot;</td><td>&quot;c_162972&quot;</td><td>16500</td><td>16500</td><td>2596</td><td>0</td><td>2</td><td>3</td></tr><tr><td>&quot;v_288642&quot;</td><td>&quot;c_208672&quot;</td><td>50000</td><td>50000</td><td>4183</td><td>0</td><td>2</td><td>3</td></tr><tr><td>&quot;v_1840054&quot;</td><td>&quot;c_198109&quot;</td><td>50000</td><td>65000</td><td>3606</td><td>0</td><td>2</td><td>1</td></tr><tr><td>&quot;v_2346232&quot;</td><td>&quot;c_6137&quot;</td><td>38500</td><td>42000</td><td>2621</td><td>0</td><td>2</td><td>3</td></tr><tr><td>&quot;v_312507&quot;</td><td>&quot;c_206699&quot;</td><td>60000</td><td>60000</td><td>4029</td><td>0</td><td>2</td><td>0</td></tr></tbody></table></div>"
      ],
      "text/plain": [
       "shape: (5, 8)\n",
       "┌────────────┬────────────┬────────────┬────────────┬─────────┬────────────┬───────────┬───────────┐\n",
       "│ vacancy_id ┆ company.id ┆ compensati ┆ compensati ┆ area.id ┆ employment ┆ workSched ┆ workExper │\n",
       "│ ---        ┆ ---        ┆ on.from    ┆ on.to      ┆ ---     ┆ ---        ┆ ule       ┆ ience     │\n",
       "│ str        ┆ str        ┆ ---        ┆ ---        ┆ i64     ┆ i64        ┆ ---       ┆ ---       │\n",
       "│            ┆            ┆ i64        ┆ i64        ┆         ┆            ┆ i64       ┆ i64       │\n",
       "╞════════════╪════════════╪════════════╪════════════╪═════════╪════════════╪═══════════╪═══════════╡\n",
       "│ v_862116   ┆ c_162972   ┆ 16500      ┆ 16500      ┆ 2596    ┆ 0          ┆ 2         ┆ 3         │\n",
       "│ v_288642   ┆ c_208672   ┆ 50000      ┆ 50000      ┆ 4183    ┆ 0          ┆ 2         ┆ 3         │\n",
       "│ v_1840054  ┆ c_198109   ┆ 50000      ┆ 65000      ┆ 3606    ┆ 0          ┆ 2         ┆ 1         │\n",
       "│ v_2346232  ┆ c_6137     ┆ 38500      ┆ 42000      ┆ 2621    ┆ 0          ┆ 2         ┆ 3         │\n",
       "│ v_312507   ┆ c_206699   ┆ 60000      ┆ 60000      ┆ 4029    ┆ 0          ┆ 2         ┆ 0         │\n",
       "└────────────┴────────────┴────────────┴────────────┴─────────┴────────────┴───────────┴───────────┘"
      ]
     },
     "execution_count": 10,
     "metadata": {},
     "output_type": "execute_result"
    }
   ],
   "source": [
    "area_id = sorted(vac_df[\"area.id\"].unique().to_list())\n",
    "empl = sorted(vac_df[\"employment\"].unique().to_list())\n",
    "work_sch = sorted(vac_df[\"workSchedule\"].unique().to_list())\n",
    "work_exp = sorted(vac_df[\"workExperience\"].unique().to_list())\n",
    "area2idx = {area_id[i] : i for i in range(len(area_id))}\n",
    "empl2idx = {empl[i] : i for i in range(len(empl))}\n",
    "sch2idx = {work_sch[i] : i for i in range(len(work_sch))}\n",
    "exp2idx = {work_exp[i] : i for i in range(len(work_exp))}\n",
    "features = pl.DataFrame()\n",
    "for v in tqdm(range(1, 10)):\n",
    "    lb = (v-1)*25_000\n",
    "    rb = v*25_000\n",
    "    cur = vac_df[lb:rb].drop(\"name\", \"compensation.currencyCode\", \"area.regionId\", \"description\", \"keySkills.keySkill\")\n",
    "    cur = cur.with_columns(cur[\"compensation.from\"].fill_null(0).alias(\"compensation.from\"))\n",
    "    cur = cur.with_columns(cur[\"compensation.to\"].fill_null(0).alias(\"compensation.to\"))\n",
    "    cur = cur.with_columns(pl.Series(\"compensation.to\", [cur[\"compensation.to\"][i] if cur[\"compensation.to\"][i]!=0 else cur[\"compensation.from\"][i] for i in range(25_000)]))\n",
    "    cur = cur.with_columns(cur[\"area.id\"].replace(area2idx).cast(int).alias(\"area.id\"))\n",
    "    cur = cur.with_columns(cur[\"employment\"].replace(empl2idx).cast(int).alias(\"employment\"))\n",
    "    cur = cur.with_columns(cur[\"workSchedule\"].replace(sch2idx).cast(int).alias(\"workSchedule\"))\n",
    "    cur = cur.with_columns(cur[\"workExperience\"].replace(exp2idx).cast(int).alias(\"workExperience\"))\n",
    "    features = pl.concat([features, cur])\n",
    "\n",
    "lb = v*25_000\n",
    "rb = lb + 23412\n",
    "cur = vac_df[lb:rb].drop(\"name\", \"compensation.currencyCode\", \"area.regionId\", \"description\", \"keySkills.keySkill\")\n",
    "cur = cur.with_columns(cur[\"compensation.from\"].fill_null(0).alias(\"compensation.from\"))\n",
    "cur = cur.with_columns(cur[\"compensation.to\"].fill_null(0).alias(\"compensation.to\")).with_columns(pl.Series(\"compensation.to\", [cur[\"compensation.to\"][i] if cur[\"compensation.to\"][i]!=0 else cur[\"compensation.from\"][i] for i in range(23_412)]).alias(\"compensation.to\"))\n",
    "cur = cur.with_columns(cur[\"area.id\"].replace(area2idx).cast(int).alias(\"area.id\"))\n",
    "cur = cur.with_columns(cur[\"employment\"].replace(empl2idx).cast(int).alias(\"employment\"))\n",
    "cur = cur.with_columns(cur[\"workSchedule\"].replace(sch2idx).cast(int).alias(\"workSchedule\"))\n",
    "cur = cur.with_columns(cur[\"workExperience\"].replace(exp2idx).cast(int).alias(\"workExperience\"))\n",
    "features = pl.concat([features, cur])\n",
    "features.head()\n"
   ]
  },
  {
   "cell_type": "markdown",
   "metadata": {},
   "source": [
    "# **Preparing data**"
   ]
  },
  {
   "cell_type": "code",
   "execution_count": null,
   "metadata": {},
   "outputs": [],
   "source": [
    "min_seq_len = 8\n",
    "min_item_cnt = 8"
   ]
  },
  {
   "cell_type": "code",
   "execution_count": null,
   "metadata": {},
   "outputs": [
    {
     "data": {
      "text/plain": [
       "13064"
      ]
     },
     "execution_count": 37,
     "metadata": {},
     "output_type": "execute_result"
    }
   ],
   "source": [
    "train_df.shape[0]%50_000"
   ]
  },
  {
   "cell_type": "code",
   "execution_count": null,
   "metadata": {},
   "outputs": [
    {
     "name": "stderr",
     "output_type": "stream",
     "text": [
      "100%|██████████| 69/69 [00:21<00:00,  3.16it/s]\n"
     ]
    },
    {
     "data": {
      "text/html": [
       "<div><style>\n",
       ".dataframe > thead > tr,\n",
       ".dataframe > tbody > tr {\n",
       "  text-align: right;\n",
       "  white-space: pre-wrap;\n",
       "}\n",
       "</style>\n",
       "<small>shape: (5, 5)</small><table border=\"1\" class=\"dataframe\"><thead><tr><th>user_id</th><th>session_id</th><th>vacancy_id</th><th>action_type</th><th>action_dt</th></tr><tr><td>str</td><td>str</td><td>str</td><td>i64</td><td>datetime[ns]</td></tr></thead><tbody><tr><td>&quot;u_370846&quot;</td><td>&quot;s_24698241&quot;</td><td>&quot;v_697571&quot;</td><td>1</td><td>2023-11-01 00:00:00.919</td></tr><tr><td>&quot;u_461521&quot;</td><td>&quot;s_7559925&quot;</td><td>&quot;v_2514797&quot;</td><td>2</td><td>2023-11-01 00:00:06.973</td></tr><tr><td>&quot;u_332204&quot;</td><td>&quot;s_6570164&quot;</td><td>&quot;v_742810&quot;</td><td>2</td><td>2023-11-01 00:00:12.594</td></tr><tr><td>&quot;u_229153&quot;</td><td>&quot;s_23936793&quot;</td><td>&quot;v_1411424&quot;</td><td>2</td><td>2023-11-01 00:00:13.518</td></tr><tr><td>&quot;u_1128173&quot;</td><td>&quot;s_14266530&quot;</td><td>&quot;v_248154&quot;</td><td>2</td><td>2023-11-01 00:00:16.114</td></tr></tbody></table></div>"
      ],
      "text/plain": [
       "shape: (5, 5)\n",
       "┌───────────┬────────────┬────────────┬─────────────┬─────────────────────────┐\n",
       "│ user_id   ┆ session_id ┆ vacancy_id ┆ action_type ┆ action_dt               │\n",
       "│ ---       ┆ ---        ┆ ---        ┆ ---         ┆ ---                     │\n",
       "│ str       ┆ str        ┆ str        ┆ i64         ┆ datetime[ns]            │\n",
       "╞═══════════╪════════════╪════════════╪═════════════╪═════════════════════════╡\n",
       "│ u_370846  ┆ s_24698241 ┆ v_697571   ┆ 1           ┆ 2023-11-01 00:00:00.919 │\n",
       "│ u_461521  ┆ s_7559925  ┆ v_2514797  ┆ 2           ┆ 2023-11-01 00:00:06.973 │\n",
       "│ u_332204  ┆ s_6570164  ┆ v_742810   ┆ 2           ┆ 2023-11-01 00:00:12.594 │\n",
       "│ u_229153  ┆ s_23936793 ┆ v_1411424  ┆ 2           ┆ 2023-11-01 00:00:13.518 │\n",
       "│ u_1128173 ┆ s_14266530 ┆ v_248154   ┆ 2           ┆ 2023-11-01 00:00:16.114 │\n",
       "└───────────┴────────────┴────────────┴─────────────┴─────────────────────────┘"
      ]
     },
     "execution_count": 38,
     "metadata": {},
     "output_type": "execute_result"
    }
   ],
   "source": [
    "train = pl.DataFrame()\n",
    "for i in tqdm(range(1, 69)):\n",
    "    train = pl.concat([train, train_df[(i-1)*50_000:i*50_000].explode(columns=[\"vacancy_id\", \"action_type\", \"action_dt\"]).sort(\"action_dt\")])\n",
    "train = pl.concat([train, train_df[i*50_000:i*50_000+13064].explode(columns=[\"vacancy_id\", \"action_type\", \"action_dt\"]).sort(\"action_dt\")])\n",
    "train.head()"
   ]
  },
  {
   "cell_type": "code",
   "execution_count": null,
   "metadata": {},
   "outputs": [
    {
     "data": {
      "text/plain": [
       "(21516070, 5)"
      ]
     },
     "execution_count": 40,
     "metadata": {},
     "output_type": "execute_result"
    }
   ],
   "source": [
    "train.shape"
   ]
  },
  {
   "cell_type": "code",
   "execution_count": null,
   "metadata": {},
   "outputs": [],
   "source": [
    "train = train.filter(pl.col(\"vacancy_id\").is_in(vac_df[\"vacancy_id\"]))"
   ]
  },
  {
   "cell_type": "code",
   "execution_count": null,
   "metadata": {},
   "outputs": [
    {
     "data": {
      "text/plain": [
       "(2104417, 5)"
      ]
     },
     "execution_count": 46,
     "metadata": {},
     "output_type": "execute_result"
    }
   ],
   "source": [
    "train.shape"
   ]
  },
  {
   "cell_type": "code",
   "execution_count": null,
   "metadata": {},
   "outputs": [
    {
     "data": {
      "text/html": [
       "<div><style>\n",
       ".dataframe > thead > tr,\n",
       ".dataframe > tbody > tr {\n",
       "  text-align: right;\n",
       "  white-space: pre-wrap;\n",
       "}\n",
       "</style>\n",
       "<small>shape: (5, 5)</small><table border=\"1\" class=\"dataframe\"><thead><tr><th>user_id</th><th>session_id</th><th>vacancy_id</th><th>action_type</th><th>action_dt</th></tr><tr><td>str</td><td>str</td><td>str</td><td>i64</td><td>datetime[ns]</td></tr></thead><tbody><tr><td>&quot;u_757137&quot;</td><td>&quot;s_9550840&quot;</td><td>&quot;v_513154&quot;</td><td>1</td><td>2023-11-01 00:03:08.382</td></tr><tr><td>&quot;u_757137&quot;</td><td>&quot;s_9550840&quot;</td><td>&quot;v_1111908&quot;</td><td>1</td><td>2023-11-01 00:04:05.463</td></tr><tr><td>&quot;u_1063336&quot;</td><td>&quot;s_26465030&quot;</td><td>&quot;v_1447898&quot;</td><td>2</td><td>2023-11-01 00:06:48.406</td></tr><tr><td>&quot;u_1063336&quot;</td><td>&quot;s_26465030&quot;</td><td>&quot;v_1447898&quot;</td><td>1</td><td>2023-11-01 00:07:19.600</td></tr><tr><td>&quot;u_845515&quot;</td><td>&quot;s_13111736&quot;</td><td>&quot;v_2064498&quot;</td><td>2</td><td>2023-11-01 00:11:14.598</td></tr></tbody></table></div>"
      ],
      "text/plain": [
       "shape: (5, 5)\n",
       "┌───────────┬────────────┬────────────┬─────────────┬─────────────────────────┐\n",
       "│ user_id   ┆ session_id ┆ vacancy_id ┆ action_type ┆ action_dt               │\n",
       "│ ---       ┆ ---        ┆ ---        ┆ ---         ┆ ---                     │\n",
       "│ str       ┆ str        ┆ str        ┆ i64         ┆ datetime[ns]            │\n",
       "╞═══════════╪════════════╪════════════╪═════════════╪═════════════════════════╡\n",
       "│ u_757137  ┆ s_9550840  ┆ v_513154   ┆ 1           ┆ 2023-11-01 00:03:08.382 │\n",
       "│ u_757137  ┆ s_9550840  ┆ v_1111908  ┆ 1           ┆ 2023-11-01 00:04:05.463 │\n",
       "│ u_1063336 ┆ s_26465030 ┆ v_1447898  ┆ 2           ┆ 2023-11-01 00:06:48.406 │\n",
       "│ u_1063336 ┆ s_26465030 ┆ v_1447898  ┆ 1           ┆ 2023-11-01 00:07:19.600 │\n",
       "│ u_845515  ┆ s_13111736 ┆ v_2064498  ┆ 2           ┆ 2023-11-01 00:11:14.598 │\n",
       "└───────────┴────────────┴────────────┴─────────────┴─────────────────────────┘"
      ]
     },
     "execution_count": 51,
     "metadata": {},
     "output_type": "execute_result"
    }
   ],
   "source": [
    "train = train.filter(pl.col(\"vacancy_id\").is_in(train[\"vacancy_id\"].value_counts().filter(pl.col(\"count\") >= min_item_cnt)[\"vacancy_id\"]))\n",
    "train = train.filter(pl.col(\"user_id\").is_in(train[\"user_id\"].value_counts().filter(pl.col(\"count\") >= min_item_cnt)[\"user_id\"]))\n",
    "train.head()"
   ]
  },
  {
   "cell_type": "code",
   "execution_count": null,
   "metadata": {},
   "outputs": [
    {
     "data": {
      "text/plain": [
       "(1029706, 5)"
      ]
     },
     "execution_count": 52,
     "metadata": {},
     "output_type": "execute_result"
    }
   ],
   "source": [
    "train.shape"
   ]
  },
  {
   "cell_type": "code",
   "execution_count": null,
   "metadata": {},
   "outputs": [],
   "source": [
    "unique_users = sorted(train[\"user_id\"].unique().to_list())\n",
    "unique_vacancies = sorted(train[\"vacancy_id\"].unique().to_list())\n",
    "\n",
    "user2idx = {user_id: idx for idx, user_id in enumerate(unique_users)}\n",
    "vac2idx = {vac_id: idx for idx, vac_id in enumerate(unique_vacancies)}"
   ]
  },
  {
   "cell_type": "markdown",
   "metadata": {},
   "source": [
    "# **Making matrix**"
   ]
  },
  {
   "cell_type": "code",
   "execution_count": null,
   "metadata": {},
   "outputs": [],
   "source": [
    "idx2vac = {idx: vac_id for vac_id, idx in vac2idx.items()}\n",
    "action_weights = {\n",
    "    1: 4.0,\n",
    "    2: 1.0,\n",
    "    3: 2.0\n",
    "}"
   ]
  },
  {
   "cell_type": "code",
   "execution_count": null,
   "metadata": {},
   "outputs": [],
   "source": [
    "pairs = train.select([\"user_id\", \"vacancy_id\", \"action_type\"])"
   ]
  },
  {
   "cell_type": "code",
   "execution_count": null,
   "metadata": {},
   "outputs": [],
   "source": [
    "users = pairs[\"user_id\"].replace(user2idx).to_numpy().astype(int)\n",
    "vacancies = pairs['vacancy_id'].replace(vac2idx).to_numpy().astype(int)\n",
    "preferences = pairs['action_type'].replace(action_weights).to_numpy().astype(int)"
   ]
  },
  {
   "cell_type": "code",
   "execution_count": null,
   "metadata": {},
   "outputs": [
    {
     "data": {
      "text/plain": [
       "array([46525, 46525,  3632, ..., 41151,  4966,  3149])"
      ]
     },
     "execution_count": 57,
     "metadata": {},
     "output_type": "execute_result"
    }
   ],
   "source": [
    "users"
   ]
  },
  {
   "cell_type": "code",
   "execution_count": null,
   "metadata": {},
   "outputs": [
    {
     "data": {
      "text/plain": [
       "array([39815,  2305,  9075, ..., 19864, 39411, 19814])"
      ]
     },
     "execution_count": 58,
     "metadata": {},
     "output_type": "execute_result"
    }
   ],
   "source": [
    "vacancies"
   ]
  },
  {
   "cell_type": "code",
   "execution_count": null,
   "metadata": {},
   "outputs": [
    {
     "data": {
      "text/plain": [
       "SeriesView([4, 4, 1, ..., 1, 1, 1])"
      ]
     },
     "execution_count": 59,
     "metadata": {},
     "output_type": "execute_result"
    }
   ],
   "source": [
    "preferences"
   ]
  },
  {
   "cell_type": "code",
   "execution_count": null,
   "metadata": {},
   "outputs": [
    {
     "data": {
      "text/plain": [
       "<60213x49703 sparse matrix of type '<class 'numpy.intc'>'\n",
       "\twith 629901 stored elements in Compressed Sparse Row format>"
      ]
     },
     "execution_count": 60,
     "metadata": {},
     "output_type": "execute_result"
    }
   ],
   "source": [
    "uv_mat = csr_matrix((preferences, (users, vacancies)))\n",
    "uv_mat"
   ]
  },
  {
   "cell_type": "markdown",
   "metadata": {},
   "source": [
    "# **Working with BERT and ALS**"
   ]
  },
  {
   "cell_type": "code",
   "execution_count": null,
   "metadata": {},
   "outputs": [],
   "source": []
  }
 ],
 "metadata": {
  "kernelspec": {
   "display_name": "Python 3",
   "language": "python",
   "name": "python3"
  },
  "language_info": {
   "codemirror_mode": {
    "name": "ipython",
    "version": 3
   },
   "file_extension": ".py",
   "mimetype": "text/x-python",
   "name": "python",
   "nbconvert_exporter": "python",
   "pygments_lexer": "ipython3",
   "version": "3.11.8"
  }
 },
 "nbformat": 4,
 "nbformat_minor": 2
}
