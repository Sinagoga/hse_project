{
  "cells": [
    {
      "cell_type": "code",
      "execution_count": null,
      "metadata": {
        "id": "PzxGmNYbBRQp"
      },
      "outputs": [],
      "source": [
        "!pip install pycocotools\n",
        "!pip install tqdm\n",
        "!pip install jsonlines\n",
        "!pip install mtranslate"
      ]
    },
    {
      "cell_type": "code",
      "execution_count": 3,
      "metadata": {
        "id": "aBvHG6yABZkw"
      },
      "outputs": [],
      "source": [
        "from mtranslate import translate\n",
        "import jsonlines\n",
        "from tqdm import tqdm\n",
        "from pycocotools.coco import COCO\n",
        "import time"
      ]
    },
    {
      "cell_type": "code",
      "source": [
        "def translation(data_source, result):\n",
        "    i = 1\n",
        "    translated = {}\n",
        "\n",
        "\n",
        "    for question, answers in tqdm(data_source.items()):\n",
        "        question_ru = translate(question, 'ru')\n",
        "        answer_ru = [translate(answer, 'ru') for answer in answers]\n",
        "        translated[question_ru] = answer_ru[0]\n",
        "        time.sleep(0.5)\n",
        "        i+=1\n",
        "        if i % 1000 == 0:\n",
        "          with jsonlines.open(f'{result}.jsonl', mode='w') as writer:\n",
        "            writer.write(translated)\n",
        "    return translated"
      ],
      "metadata": {
        "id": "fAA4Dhcsozto"
      },
      "execution_count": null,
      "outputs": []
    },
    {
      "cell_type": "code",
      "execution_count": null,
      "metadata": {
        "id": "Pu-C8CP4Bi5f"
      },
      "outputs": [],
      "source": [
        "def coco_get_data(file):\n",
        "  data = {}\n",
        "\n",
        "  coco = COCO(file)\n",
        "\n",
        "  img_ids = coco.getImgIds()\n",
        "  for img_id in img_ids:\n",
        "    ann_ids = coco.getAnnIds(imgIds=img_id)\n",
        "    anotations = coco.loadAnns(ann_ids)\n",
        "  for anotation in anotations:\n",
        "        question = anotation['question_type']\n",
        "        answers = [answer['answer'] for answer in anotation['answers']]\n",
        "        data[question] = answers\n",
        "  return data\n"
      ]
    },
    {
      "cell_type": "code",
      "execution_count": null,
      "metadata": {
        "id": "GVIpAVZ4BmkQ"
      },
      "outputs": [],
      "source": [
        "coco_val_translation = coco_get_data(\"drive/MyDrive/ms_coco_2014_train.json\")\n",
        "translation(coco_val_translation, \"drive/MyDrive/coco_val_translatation\")"
      ]
    }
  ],
  "metadata": {
    "colab": {
      "provenance": []
    },
    "kernelspec": {
      "display_name": "Python 3",
      "name": "python3"
    },
    "language_info": {
      "name": "python"
    }
  },
  "nbformat": 4,
  "nbformat_minor": 0
}
